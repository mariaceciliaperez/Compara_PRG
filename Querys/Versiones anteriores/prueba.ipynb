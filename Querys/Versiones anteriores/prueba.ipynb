{
 "cells": [
  {
   "cell_type": "code",
   "execution_count": 5,
   "id": "f248b076",
   "metadata": {},
   "outputs": [
    {
     "name": "stdout",
     "output_type": "stream",
     "text": [
      "== Comparación de PRGs ==\n",
      "[ERR] PID2 – CMG: _path_exists: path should be string, bytes, os.PathLike or integer, not NoneType\n",
      "[ERR] PID2 – GENTABLES: _path_exists: path should be string, bytes, os.PathLike or integer, not NoneType\n",
      "[ERR] PID2 – GENC: _path_exists: path should be string, bytes, os.PathLike or integer, not NoneType\n",
      "[ERR] PID2 – GENT: _path_exists: path should be string, bytes, os.PathLike or integer, not NoneType\n",
      "[ERR] PID2 – BESS: _path_exists: path should be string, bytes, os.PathLike or integer, not NoneType\n",
      "[OK] PID1 – CMG\n",
      "[OK] PCP – CMG\n",
      "[OK] PID1 – GENTABLES\n",
      "[OK] PID1 – BESS\n",
      "[OK] PID1 – GENT\n",
      "[OK] PID1 – GENC\n",
      "[OK] PCP – GENT\n",
      "[OK] PCP – BESS\n",
      "[OK] PCP – GENTABLES\n",
      "[OK] PCP – GENC\n"
     ]
    },
    {
     "data": {
      "text/plain": [
       "1546581"
      ]
     },
     "execution_count": 5,
     "metadata": {},
     "output_type": "execute_result"
    }
   ],
   "source": [
    "\n",
    "#Se importan módulos querys\n",
    "from rutas_entrada import extraer_fecha_y_hora_desde_ruta\n",
    "from rutas_entrada import *\n",
    "from Query_generation_tables import *\n",
    "from Query_generation_costs  import *\n",
    "from Query_total_generation  import *\n",
    "from Query_CMg  import *\n",
    "from Query_BESS import *\n",
    "# en tu entorno donde ya tienes `results`\n",
    "import pickle\n",
    "from pathlib import Path\n",
    "\n",
    "#E:\\Entrenamiento\\20250317_Look_ahead_pruebas\\PID_20250219_01\\PID_20250219\\Modelos\n",
    "#Model Test15d Solution_auto\n",
    "\n",
    "#Se ejecuta el módulo que genera las rutas\n",
    "sol_file, sol_file_pid2, sol_file_pcp, directorio_salida, directorio_fecha, periodo_pid, ruta_prg = rutas_entrada()\n",
    "\n",
    "from concurrent.futures import ThreadPoolExecutor, as_completed\n",
    "from collections import defaultdict\n",
    "\n",
    "# Estructura final para almacenar resultados por solución\n",
    "results = defaultdict(dict)\n",
    "\n",
    "# Diccionario de rutas de entrada por solución\n",
    "solutions_files = {\n",
    "    \"PID1\": sol_file,\n",
    "    \"PID2\": sol_file_pid2,\n",
    "    \"PCP\":  sol_file_pcp,\n",
    "}\n",
    "\n",
    "# Función que ejecuta UNA consulta (una función para una solución)\n",
    "def run_single_query(label, path, function_name):\n",
    "    is_pcp = (label == \"PCP\")\n",
    "    st_flag = False if is_pcp else True\n",
    "\n",
    "    try:\n",
    "        if function_name == \"GENTABLES\":\n",
    "            result = get_generation_tables(\n",
    "                sol_file=path,\n",
    "                tipo_solucion=label,\n",
    "                directorio_salida=directorio_salida,\n",
    "                directorio_fecha=directorio_fecha,\n",
    "                hini=periodo_pid,\n",
    "                st_schedule=st_flag\n",
    "            )\n",
    "\n",
    "        elif function_name == \"GENC\":\n",
    "            result = get_gen_costs(\n",
    "                sol_file=path,\n",
    "                tipo_solucion=label,\n",
    "                directorio_salida=directorio_salida,\n",
    "                hini=periodo_pid,\n",
    "                st_schedule=st_flag\n",
    "            )\n",
    "\n",
    "        elif function_name == \"GENT\":\n",
    "            result = get_total_generation(\n",
    "                sol_file=path,\n",
    "                tipo_solucion=label,\n",
    "                sol_file_pcp=path,\n",
    "                directorio_salida=directorio_salida,\n",
    "                directorio_fecha=directorio_fecha,\n",
    "                periodo_pid=periodo_pid,\n",
    "                st_schedule=st_flag,\n",
    "                hini=periodo_pid,\n",
    "                tx_loss=False\n",
    "            )\n",
    "\n",
    "        elif function_name == \"CMG\":\n",
    "            result = get_cmg(\n",
    "                sol_file=path,\n",
    "                tipo_solucion=label,\n",
    "                directorio_salida=directorio_salida,\n",
    "                st_schedule=st_flag,\n",
    "                hini=periodo_pid\n",
    "            )\n",
    "\n",
    "        elif function_name == \"BESS\":\n",
    "            result = get_bess(\n",
    "                sol_file=path,\n",
    "                tipo_solucion=label,\n",
    "                directorio_salida=directorio_salida,\n",
    "                st_schedule=st_flag,\n",
    "                hini=periodo_pid\n",
    "            )\n",
    "\n",
    "        else:\n",
    "            raise ValueError(f\"Función desconocida: {function_name}\")\n",
    "\n",
    "\n",
    "        print(f\"[OK] {label} – {function_name}\")\n",
    "        return label, function_name, result\n",
    "\n",
    "    except Exception as e:\n",
    "        print(f\"[ERR] {label} – {function_name}: {e}\")\n",
    "        return label, function_name, None\n",
    "\n",
    "# Lista de funciones a ejecutar por cada solución\n",
    "function_names = [\"GENTABLES\", \"GENC\", \"GENT\", \"CMG\", \"BESS\"]\n",
    "\n",
    "# Lanzar todas las tareas (3 soluciones × 5 funciones = 15 tareas)\n",
    "with ThreadPoolExecutor(max_workers=15) as executor:\n",
    "    futures = [\n",
    "        executor.submit(run_single_query, label, path, func)\n",
    "        for label, path in solutions_files.items()\n",
    "        for func in function_names\n",
    "    ]\n",
    "\n",
    "    for fut in as_completed(futures):\n",
    "        label, func_name, result = fut.result()\n",
    "        if result is not None:\n",
    "            results[label][func_name] = result\n",
    "\n",
    "\n",
    "fecha, periodo_pid = extraer_fecha_y_hora_desde_ruta(directorio_fecha)\n",
    "etiqueta = f\"{fecha}_{periodo_pid:02}\"\n",
    "directorio_salida = Path(directorio_salida)  # <- añade esta línea justo antes\n",
    "output_path = directorio_salida / f\"results_{etiqueta}.pkl\"\n",
    "output_path.write_bytes(pickle.dumps(results))\n"
   ]
  },
  {
   "cell_type": "code",
   "execution_count": 1,
   "id": "77f1daf5",
   "metadata": {},
   "outputs": [
    {
     "data": {
      "text/plain": [
       "False"
      ]
     },
     "execution_count": 1,
     "metadata": {},
     "output_type": "execute_result"
    }
   ],
   "source": [
    "not True"
   ]
  },
  {
   "cell_type": "code",
   "execution_count": 16,
   "id": "4380a38d",
   "metadata": {},
   "outputs": [
    {
     "data": {
      "text/plain": [
       "2309044"
      ]
     },
     "execution_count": 16,
     "metadata": {},
     "output_type": "execute_result"
    }
   ],
   "source": [
    "from pathlib import Path\n",
    "\n",
    "directorio_salida = Path(directorio_salida)  # <- añade esta línea justo antes\n",
    "output_path = directorio_salida / f\"results_{etiqueta}.pkl\"\n",
    "output_path.write_bytes(pickle.dumps(results))\n"
   ]
  },
  {
   "cell_type": "code",
   "execution_count": 2,
   "id": "496e3268",
   "metadata": {},
   "outputs": [
    {
     "name": "stdout",
     "output_type": "stream",
     "text": [
      "<class 'collections.defaultdict'>\n",
      "dict_keys(['PID1', 'PCP'])\n"
     ]
    }
   ],
   "source": [
    "import pickle\n",
    "from pathlib import Path\n",
    "\n",
    "archivo = Path(\"Resultados/results_20250701_01.pkl\")\n",
    "with archivo.open(\"rb\") as f:\n",
    "    results = pickle.load(f)\n",
    "\n",
    "# Verifica qué contiene:\n",
    "print(type(results))\n",
    "print(results.keys())  # si es un dict\n"
   ]
  },
  {
   "cell_type": "code",
   "execution_count": 4,
   "id": "e36bd6bc",
   "metadata": {},
   "outputs": [
    {
     "data": {
      "text/plain": [
       "(shape: (39, 49)\n",
       " ┌───────────────┬───────┬──────┬──────┬───┬───────┬──────┬───────┬───────┐\n",
       " │ Nombre_PLEXOS ┆ 1     ┆ 2    ┆ 3    ┆ … ┆ 45    ┆ 46   ┆ 47    ┆ 48    │\n",
       " │ ---           ┆ ---   ┆ ---  ┆ ---  ┆   ┆ ---   ┆ ---  ┆ ---   ┆ ---   │\n",
       " │ str           ┆ f64   ┆ f64  ┆ f64  ┆   ┆ f64   ┆ f64  ┆ f64   ┆ f64   │\n",
       " ╞═══════════════╪═══════╪══════╪══════╪═══╪═══════╪══════╪═══════╪═══════╡\n",
       " │ ANGOSTURA_U1  ┆ 0.0   ┆ 77.0 ┆ 0.0  ┆ … ┆ 0.0   ┆ 77.0 ┆ 88.1  ┆ 77.2  │\n",
       " │ ANGOSTURA_U2  ┆ 77.0  ┆ 0.0  ┆ 77.0 ┆ … ┆ 77.0  ┆ 0.0  ┆ 0.0   ┆ 0.0   │\n",
       " │ ANGOSTURA_U3  ┆ 0.0   ┆ 0.0  ┆ 0.0  ┆ … ┆ 0.0   ┆ 0.0  ┆ 0.0   ┆ 0.0   │\n",
       " │ ANTUCO_U1     ┆ 160.0 ┆ 80.0 ┆ 80.0 ┆ … ┆ 132.1 ┆ 80.6 ┆ 132.1 ┆ 132.1 │\n",
       " │ ANTUCO_U2     ┆ 132.1 ┆ 80.0 ┆ 80.0 ┆ … ┆ 160.0 ┆ 80.0 ┆ 160.0 ┆ 160.0 │\n",
       " │ …             ┆ …     ┆ …    ┆ …    ┆ … ┆ …     ┆ …    ┆ …     ┆ …     │\n",
       " │ RAPEL_U3      ┆ 58.0  ┆ 0.0  ┆ 0.0  ┆ … ┆ 0.0   ┆ 0.0  ┆ 0.0   ┆ 0.0   │\n",
       " │ RAPEL_U4      ┆ 58.0  ┆ 58.0 ┆ 58.0 ┆ … ┆ 58.0  ┆ 58.0 ┆ 58.0  ┆ 58.0  │\n",
       " │ RAPEL_U5      ┆ 0.0   ┆ 0.0  ┆ 0.0  ┆ … ┆ 0.0   ┆ 0.0  ┆ 0.0   ┆ 0.0   │\n",
       " │ RUCUE         ┆ 89.2  ┆ 89.2 ┆ 89.2 ┆ … ┆ 89.2  ┆ 89.2 ┆ 89.2  ┆ 89.2  │\n",
       " │ SAN_IGNACIO   ┆ 0.0   ┆ 0.0  ┆ 0.0  ┆ … ┆ 0.0   ┆ 0.0  ┆ 0.0   ┆ 0.0   │\n",
       " └───────────────┴───────┴──────┴──────┴───┴───────┴──────┴───────┴───────┘,\n",
       " shape: (39, 49)\n",
       " ┌─────────────────────────┬─────┬─────┬─────┬───┬──────┬──────┬──────┬──────┐\n",
       " │ Nombre_PLEXOS           ┆ 1   ┆ 2   ┆ 3   ┆ … ┆ 45   ┆ 46   ┆ 47   ┆ 48   │\n",
       " │ ---                     ┆ --- ┆ --- ┆ --- ┆   ┆ ---  ┆ ---  ┆ ---  ┆ ---  │\n",
       " │ str                     ┆ f64 ┆ f64 ┆ f64 ┆   ┆ f64  ┆ f64  ┆ f64  ┆ f64  │\n",
       " ╞═════════════════════════╪═════╪═════╪═════╪═══╪══════╪══════╪══════╪══════╡\n",
       " │ BAT_ALFALFAL_VR1_CSFRS  ┆ 0.0 ┆ 0.0 ┆ 0.0 ┆ … ┆ 0.0  ┆ 0.0  ┆ 0.0  ┆ 0.0  │\n",
       " │ BAT_ALFALFAL_VR2        ┆ 0.0 ┆ 0.0 ┆ 0.0 ┆ … ┆ 0.0  ┆ 49.2 ┆ 40.2 ┆ 49.2 │\n",
       " │ BAT_ALFALFAL_VR2_LOAD   ┆ 0.0 ┆ 0.0 ┆ 0.0 ┆ … ┆ 0.0  ┆ 0.0  ┆ 0.0  ┆ 0.0  │\n",
       " │ BAT_ANDES_2A_FV         ┆ 0.0 ┆ 0.0 ┆ 0.0 ┆ … ┆ 60.2 ┆ 79.8 ┆ 79.8 ┆ 19.6 │\n",
       " │ BAT_ANDES_2A_FV_LOAD    ┆ 0.0 ┆ 0.0 ┆ 0.0 ┆ … ┆ 0.0  ┆ 0.0  ┆ 0.0  ┆ 0.0  │\n",
       " │ …                       ┆ …   ┆ …   ┆ …   ┆ … ┆ …    ┆ …    ┆ …    ┆ …    │\n",
       " │ BAT_SAN_ANDRES_FV_LOAD  ┆ 0.0 ┆ 0.0 ┆ 0.0 ┆ … ┆ 0.0  ┆ 0.0  ┆ 0.0  ┆ 0.0  │\n",
       " │ BAT_TAMAYA_FV           ┆ 0.0 ┆ 0.0 ┆ 0.0 ┆ … ┆ 78.0 ┆ 78.0 ┆ 78.0 ┆ 78.0 │\n",
       " │ BAT_TAMAYA_FV_LOAD      ┆ 0.0 ┆ 0.0 ┆ 0.0 ┆ … ┆ 0.0  ┆ 0.0  ┆ 0.0  ┆ 0.0  │\n",
       " │ BAT_URIBE_SOLAR_FV      ┆ 0.0 ┆ 0.0 ┆ 0.0 ┆ … ┆ 0.0  ┆ 2.3  ┆ 0.0  ┆ 0.0  │\n",
       " │ BAT_URIBE_SOLAR_FV_LOAD ┆ 0.0 ┆ 0.0 ┆ 0.0 ┆ … ┆ 0.0  ┆ 0.0  ┆ 0.0  ┆ 0.0  │\n",
       " └─────────────────────────┴─────┴─────┴─────┴───┴──────┴──────┴──────┴──────┘,\n",
       " shape: (672, 49)\n",
       " ┌─────────────────┬───────┬───────┬───────┬───┬───────┬───────┬───────┬───────┐\n",
       " │ Nombre_PLEXOS   ┆ 1     ┆ 2     ┆ 3     ┆ … ┆ 45    ┆ 46    ┆ 47    ┆ 48    │\n",
       " │ ---             ┆ ---   ┆ ---   ┆ ---   ┆   ┆ ---   ┆ ---   ┆ ---   ┆ ---   │\n",
       " │ str             ┆ f64   ┆ f64   ┆ f64   ┆   ┆ f64   ┆ f64   ┆ f64   ┆ f64   │\n",
       " ╞═════════════════╪═══════╪═══════╪═══════╪═══╪═══════╪═══════╪═══════╪═══════╡\n",
       " │ AGUAS_BLANCAS   ┆ 0.0   ┆ 0.0   ┆ 0.0   ┆ … ┆ 0.0   ┆ 0.0   ┆ 0.0   ┆ 0.0   │\n",
       " │ ANDES_U1-U2_DIE ┆ 0.0   ┆ 0.0   ┆ 0.0   ┆ … ┆ 0.0   ┆ 0.0   ┆ 0.0   ┆ 0.0   │\n",
       " │ ANDES_U3_DIE    ┆ 0.0   ┆ 0.0   ┆ 0.0   ┆ … ┆ 0.0   ┆ 0.0   ┆ 0.0   ┆ 0.0   │\n",
       " │ ANDES_U4_DIE    ┆ 0.0   ┆ 0.0   ┆ 0.0   ┆ … ┆ 0.0   ┆ 0.0   ┆ 0.0   ┆ 0.0   │\n",
       " │ ANDINA          ┆ 176.6 ┆ 176.6 ┆ 176.6 ┆ … ┆ 176.6 ┆ 176.6 ┆ 176.6 ┆ 176.6 │\n",
       " │ …               ┆ …     ┆ …     ┆ …     ┆ … ┆ …     ┆ …     ┆ …     ┆ …     │\n",
       " │ YUNGAY_U2_GNL_A ┆ 0.0   ┆ 0.0   ┆ 0.0   ┆ … ┆ 0.0   ┆ 0.0   ┆ 0.0   ┆ 0.0   │\n",
       " │ YUNGAY_U3_DIE   ┆ 0.0   ┆ 0.0   ┆ 0.0   ┆ … ┆ 0.0   ┆ 0.0   ┆ 0.0   ┆ 0.0   │\n",
       " │ YUNGAY_U3_GN_A  ┆ 0.0   ┆ 0.0   ┆ 0.0   ┆ … ┆ 0.0   ┆ 0.0   ┆ 0.0   ┆ 0.0   │\n",
       " │ YUNGAY_U3_GNL_A ┆ 0.0   ┆ 0.0   ┆ 0.0   ┆ … ┆ 0.0   ┆ 0.0   ┆ 0.0   ┆ 0.0   │\n",
       " │ YUNGAY_U4_DIE   ┆ 0.0   ┆ 0.0   ┆ 0.0   ┆ … ┆ 0.0   ┆ 0.0   ┆ 0.0   ┆ 0.0   │\n",
       " └─────────────────┴───────┴───────┴───────┴───┴───────┴───────┴───────┴───────┘,\n",
       " shape: (687, 49)\n",
       " ┌──────────────────────┬─────┬─────┬─────┬───┬─────┬─────┬─────┬─────┐\n",
       " │ Nombre_PLEXOS        ┆ 1   ┆ 2   ┆ 3   ┆ … ┆ 45  ┆ 46  ┆ 47  ┆ 48  │\n",
       " │ ---                  ┆ --- ┆ --- ┆ --- ┆   ┆ --- ┆ --- ┆ --- ┆ --- │\n",
       " │ str                  ┆ f64 ┆ f64 ┆ f64 ┆   ┆ f64 ┆ f64 ┆ f64 ┆ f64 │\n",
       " ╞══════════════════════╪═════╪═════╪═════╪═══╪═════╪═════╪═════╪═════╡\n",
       " │ ABASTIBLE_CONCON_FV  ┆ 0.0 ┆ 0.0 ┆ 0.0 ┆ … ┆ 0.0 ┆ 0.0 ┆ 0.0 ┆ 0.0 │\n",
       " │ AEROPUERTO_FV        ┆ 0.0 ┆ 0.0 ┆ 0.0 ┆ … ┆ 0.0 ┆ 0.0 ┆ 0.0 ┆ 0.0 │\n",
       " │ AHE_BUENAS_YERBAS_FV ┆ 0.0 ┆ 0.0 ┆ 0.0 ┆ … ┆ 0.0 ┆ 0.0 ┆ 0.0 ┆ 0.0 │\n",
       " │ ALAMEDA_FV           ┆ 0.0 ┆ 0.0 ┆ 0.0 ┆ … ┆ 0.0 ┆ 0.0 ┆ 0.0 ┆ 0.0 │\n",
       " │ ALBATROS_FV          ┆ 0.0 ┆ 0.0 ┆ 0.0 ┆ … ┆ 0.0 ┆ 0.0 ┆ 0.0 ┆ 0.0 │\n",
       " │ …                    ┆ …   ┆ …   ┆ …   ┆ … ┆ …   ┆ …   ┆ …   ┆ …   │\n",
       " │ VINAS_DEL_SOL_FV     ┆ 0.0 ┆ 0.0 ┆ 0.0 ┆ … ┆ 0.0 ┆ 0.0 ┆ 0.0 ┆ 0.0 │\n",
       " │ VIOLETA_FV           ┆ 0.0 ┆ 0.0 ┆ 0.0 ┆ … ┆ 0.0 ┆ 0.0 ┆ 0.0 ┆ 0.0 │\n",
       " │ VITUCO_2B_FV         ┆ 0.0 ┆ 0.0 ┆ 0.0 ┆ … ┆ 0.0 ┆ 0.0 ┆ 0.0 ┆ 0.0 │\n",
       " │ WILLKA_FV            ┆ 0.0 ┆ 0.0 ┆ 0.0 ┆ … ┆ 0.0 ┆ 0.0 ┆ 0.0 ┆ 0.0 │\n",
       " │ YAHUTELA_FV          ┆ 0.0 ┆ 0.0 ┆ 0.0 ┆ … ┆ 0.0 ┆ 0.0 ┆ 0.0 ┆ 0.0 │\n",
       " └──────────────────────┴─────┴─────┴─────┴───┴─────┴─────┴─────┴─────┘,\n",
       " shape: (65, 49)\n",
       " ┌─────────────────────────┬──────┬──────┬──────┬───┬──────┬──────┬──────┬──────┐\n",
       " │ Nombre_PLEXOS           ┆ 1    ┆ 2    ┆ 3    ┆ … ┆ 45   ┆ 46   ┆ 47   ┆ 48   │\n",
       " │ ---                     ┆ ---  ┆ ---  ┆ ---  ┆   ┆ ---  ┆ ---  ┆ ---  ┆ ---  │\n",
       " │ str                     ┆ f64  ┆ f64  ┆ f64  ┆   ┆ f64  ┆ f64  ┆ f64  ┆ f64  │\n",
       " ╞═════════════════════════╪══════╪══════╪══════╪═══╪══════╪══════╪══════╪══════╡\n",
       " │ ALENA_EO                ┆ 17.5 ┆ 16.4 ┆ 14.8 ┆ … ┆ 8.3  ┆ 10.6 ┆ 10.6 ┆ 10.5 │\n",
       " │ ANTOFAGASTA_EO          ┆ 0.0  ┆ 0.0  ┆ 0.0  ┆ … ┆ 29.0 ┆ 10.0 ┆ 6.0  ┆ 2.0  │\n",
       " │ ATACAMA_EO              ┆ 33.8 ┆ 29.8 ┆ 29.5 ┆ … ┆ 32.5 ┆ 7.4  ┆ 1.5  ┆ 0.6  │\n",
       " │ AURORA_EO               ┆ 3.2  ┆ 3.4  ┆ 3.3  ┆ … ┆ 47.8 ┆ 47.1 ┆ 47.6 ┆ 48.6 │\n",
       " │ CABO_LEONES_1_EO        ┆ 45.0 ┆ 42.0 ┆ 41.5 ┆ … ┆ 39.7 ┆ 29.1 ┆ 21.5 ┆ 16.0 │\n",
       " │ …                       ┆ …    ┆ …    ┆ …    ┆ … ┆ …    ┆ …    ┆ …    ┆ …    │\n",
       " │ TOLPAN_SUR_EO           ┆ 31.2 ┆ 27.1 ┆ 23.3 ┆ … ┆ 9.6  ┆ 9.5  ┆ 8.7  ┆ 8.1  │\n",
       " │ TOTORAL_EO              ┆ 10.6 ┆ 10.1 ┆ 10.2 ┆ … ┆ 4.0  ┆ 3.5  ┆ 3.1  ┆ 3.0  │\n",
       " │ UCUQUER_2_EO            ┆ 1.3  ┆ 1.8  ┆ 2.2  ┆ … ┆ 3.7  ┆ 3.7  ┆ 4.0  ┆ 4.0  │\n",
       " │ UCUQUER_EO              ┆ 0.0  ┆ 0.0  ┆ 0.0  ┆ … ┆ 1.1  ┆ 0.9  ┆ 0.8  ┆ 0.8  │\n",
       " │ VALLE_DE_LOS_VIENTOS_EO ┆ 20.8 ┆ 24.0 ┆ 25.7 ┆ … ┆ 8.0  ┆ 8.2  ┆ 10.5 ┆ 14.3 │\n",
       " └─────────────────────────┴──────┴──────┴──────┴───┴──────┴──────┴──────┴──────┘)"
      ]
     },
     "execution_count": 4,
     "metadata": {},
     "output_type": "execute_result"
    }
   ],
   "source": [
    "results['PID1']['GENTABLES']"
   ]
  }
 ],
 "metadata": {
  "kernelspec": {
   "display_name": "base",
   "language": "python",
   "name": "python3"
  },
  "language_info": {
   "codemirror_mode": {
    "name": "ipython",
    "version": 3
   },
   "file_extension": ".py",
   "mimetype": "text/x-python",
   "name": "python",
   "nbconvert_exporter": "python",
   "pygments_lexer": "ipython3",
   "version": "3.12.4"
  }
 },
 "nbformat": 4,
 "nbformat_minor": 5
}
