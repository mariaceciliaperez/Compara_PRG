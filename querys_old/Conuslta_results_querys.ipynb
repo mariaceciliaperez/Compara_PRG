{
 "cells": [
  {
   "cell_type": "code",
   "execution_count": 1,
   "id": "61891c7d",
   "metadata": {},
   "outputs": [
    {
     "name": "stdout",
     "output_type": "stream",
     "text": [
      "Tipo: <class 'collections.defaultdict'>\n",
      "\n",
      "Claves principales: ['PCP', 'PID1']\n",
      "\n",
      "Clave: PCP → tipo: <class 'dict'>\n",
      "  Subclaves: ['COTAS', 'CMG', 'GENTABLES', 'GENT', 'BESS', 'GENC']\n",
      "\n",
      "Clave: PID1 → tipo: <class 'dict'>\n",
      "  Subclaves: ['COTAS', 'CMG', 'GENTABLES', 'GENT', 'BESS', 'GENC']\n"
     ]
    }
   ],
   "source": [
    "import pickle\n",
    "from pathlib import Path\n",
    "\n",
    "# Ruta al archivo results.pkl (ajústala según corresponda)\n",
    "ruta = Path(r\"E:\\Aplicaciones\\Nuevo_PRG\\Compara_PRG\\data\\results\\results_20250723_01.pkl\")\n",
    "\n",
    "# Cargar el archivo\n",
    "with open(ruta, \"rb\") as f:\n",
    "    data = pickle.load(f)\n",
    "\n",
    "# Ver tipo de objeto cargado\n",
    "print(\"Tipo:\", type(data))\n",
    "\n",
    "# Si es un diccionario, mostrar claves\n",
    "if isinstance(data, dict):\n",
    "    print(\"\\nClaves principales:\", list(data.keys())[:10])\n",
    "    \n",
    "    # Mostrar el tipo de los primeros valores\n",
    "    for k, v in list(data.items())[:2]:\n",
    "        print(f\"\\nClave: {k} → tipo: {type(v)}\")\n",
    "        if isinstance(v, dict):\n",
    "            print(\"  Subclaves:\", list(v.keys())[:10])\n",
    "\n",
    "# Si es una lista, mostrar ejemplos\n",
    "elif isinstance(data, list):\n",
    "    print(\"\\nEjemplo de elementos:\", data[:5])\n",
    "\n",
    "# En cualquier otro caso, mostrar contenido directo\n",
    "else:\n",
    "    print(\"\\nContenido:\", data)\n"
   ]
  },
  {
   "cell_type": "code",
   "execution_count": 3,
   "id": "f8446a75",
   "metadata": {},
   "outputs": [
    {
     "data": {
      "text/html": [
       "<div><style>\n",
       ".dataframe > thead > tr,\n",
       ".dataframe > tbody > tr {\n",
       "  text-align: right;\n",
       "  white-space: pre-wrap;\n",
       "}\n",
       "</style>\n",
       "<small>shape: (22, 46)</small><table border=\"1\" class=\"dataframe\"><thead><tr><th>Nombre_PLEXOS</th><th>5</th><th>6</th><th>7</th><th>8</th><th>9</th><th>10</th><th>11</th><th>12</th><th>13</th><th>14</th><th>15</th><th>16</th><th>17</th><th>18</th><th>19</th><th>20</th><th>21</th><th>22</th><th>23</th><th>24</th><th>25</th><th>26</th><th>27</th><th>28</th><th>29</th><th>30</th><th>31</th><th>32</th><th>33</th><th>34</th><th>35</th><th>36</th><th>37</th><th>38</th><th>39</th><th>40</th><th>41</th><th>42</th><th>43</th><th>44</th><th>45</th><th>46</th><th>47</th><th>48</th><th>49</th></tr><tr><td>str</td><td>f64</td><td>f64</td><td>f64</td><td>f64</td><td>f64</td><td>f64</td><td>f64</td><td>f64</td><td>f64</td><td>f64</td><td>f64</td><td>f64</td><td>f64</td><td>f64</td><td>f64</td><td>f64</td><td>f64</td><td>f64</td><td>f64</td><td>f64</td><td>f64</td><td>f64</td><td>f64</td><td>f64</td><td>f64</td><td>f64</td><td>f64</td><td>f64</td><td>f64</td><td>f64</td><td>f64</td><td>f64</td><td>f64</td><td>f64</td><td>f64</td><td>f64</td><td>f64</td><td>f64</td><td>f64</td><td>f64</td><td>f64</td><td>f64</td><td>f64</td><td>f64</td><td>f64</td></tr></thead><tbody><tr><td>&quot;SAE-ARICA&quot;</td><td>0.0</td><td>0.0</td><td>0.0</td><td>0.0</td><td>0.0</td><td>0.0</td><td>0.0</td><td>0.0</td><td>0.0</td><td>0.0</td><td>0.0</td><td>-2.0</td><td>0.0</td><td>0.0</td><td>1.965024</td><td>0.0</td><td>0.0</td><td>0.0</td><td>0.0</td><td>0.0</td><td>0.0</td><td>0.0</td><td>0.0</td><td>0.0</td><td>0.0</td><td>0.0</td><td>0.0</td><td>0.0</td><td>0.0</td><td>0.0</td><td>0.0</td><td>0.0</td><td>0.0</td><td>0.0</td><td>0.0</td><td>-2.0</td><td>0.0</td><td>0.0</td><td>0.0</td><td>1.965024</td><td>0.0</td><td>0.0</td><td>0.0</td><td>0.0</td><td>0.0</td></tr><tr><td>&quot;SAE-DEL-DESIERTO&quot;</td><td>0.0</td><td>0.0</td><td>0.0</td><td>0.0</td><td>0.0</td><td>-7.711431</td><td>0.0</td><td>0.0</td><td>-15.239295</td><td>-200.0</td><td>-200.0</td><td>-200.0</td><td>0.0</td><td>0.0</td><td>200.0</td><td>36.7817</td><td>159.480505</td><td>200.0</td><td>1.0</td><td>1.0</td><td>1.0</td><td>1.0</td><td>1.0</td><td>1.0</td><td>1.0</td><td>1.0</td><td>0.0</td><td>0.0</td><td>0.0</td><td>0.0</td><td>0.0</td><td>0.0</td><td>-70.617183</td><td>-110.686382</td><td>-200.0</td><td>-200.0</td><td>-42.425851</td><td>0.0</td><td>200.0</td><td>200.0</td><td>141.517017</td><td>63.500516</td><td>0.0</td><td>0.0</td><td>0.0</td></tr><tr><td>&quot;SAE-NUEVA-IMPERIAL&quot;</td><td>0.0</td><td>0.0</td><td>0.0</td><td>0.0</td><td>0.0</td><td>0.0</td><td>0.0</td><td>0.0</td><td>0.0</td><td>0.0</td><td>0.0</td><td>0.0</td><td>0.0</td><td>0.0</td><td>0.0</td><td>0.0</td><td>0.0</td><td>0.0</td><td>0.0</td><td>0.0</td><td>0.0</td><td>0.0</td><td>0.0</td><td>0.0</td><td>0.0</td><td>0.0</td><td>0.0</td><td>0.0</td><td>0.0</td><td>0.0</td><td>0.0</td><td>0.0</td><td>0.0</td><td>0.0</td><td>0.0</td><td>0.0</td><td>0.0</td><td>0.0</td><td>0.0</td><td>0.0</td><td>0.0</td><td>0.0</td><td>0.0</td><td>0.0</td><td>0.0</td></tr><tr><td>&quot;SAE-CRCA-ALFALFAL-VR1&quot;</td><td>0.0</td><td>0.0</td><td>0.0</td><td>0.0</td><td>0.0</td><td>0.0</td><td>0.0</td><td>0.0</td><td>0.0</td><td>0.0</td><td>0.0</td><td>0.0</td><td>0.0</td><td>0.0</td><td>0.0</td><td>0.0</td><td>0.0</td><td>0.0</td><td>0.0</td><td>0.0</td><td>0.0</td><td>0.0</td><td>0.0</td><td>0.0</td><td>0.0</td><td>0.0</td><td>0.0</td><td>0.0</td><td>0.0</td><td>0.0</td><td>0.0</td><td>0.0</td><td>0.0</td><td>0.0</td><td>0.0</td><td>0.0</td><td>0.0</td><td>0.0</td><td>0.0</td><td>0.0</td><td>0.0</td><td>0.0</td><td>0.0</td><td>0.0</td><td>0.0</td></tr><tr><td>&quot;SAE-CRCA-ALFALFAL-VR2&quot;</td><td>0.0</td><td>0.0</td><td>0.0</td><td>0.0</td><td>0.0</td><td>0.0</td><td>0.0</td><td>0.0</td><td>0.0</td><td>0.0</td><td>0.0</td><td>0.0</td><td>0.0</td><td>0.0</td><td>0.0</td><td>0.0</td><td>0.0</td><td>0.0</td><td>0.0</td><td>0.0</td><td>0.0</td><td>0.0</td><td>0.0</td><td>0.0</td><td>0.0</td><td>0.0</td><td>0.0</td><td>0.0</td><td>0.0</td><td>0.0</td><td>0.0</td><td>0.0</td><td>-49.24</td><td>-49.25</td><td>-49.25</td><td>-49.25</td><td>-0.01</td><td>0.0</td><td>49.25</td><td>49.25</td><td>39.859048</td><td>49.25</td><td>0.01</td><td>0.0</td><td>0.0</td></tr><tr><td>&hellip;</td><td>&hellip;</td><td>&hellip;</td><td>&hellip;</td><td>&hellip;</td><td>&hellip;</td><td>&hellip;</td><td>&hellip;</td><td>&hellip;</td><td>&hellip;</td><td>&hellip;</td><td>&hellip;</td><td>&hellip;</td><td>&hellip;</td><td>&hellip;</td><td>&hellip;</td><td>&hellip;</td><td>&hellip;</td><td>&hellip;</td><td>&hellip;</td><td>&hellip;</td><td>&hellip;</td><td>&hellip;</td><td>&hellip;</td><td>&hellip;</td><td>&hellip;</td><td>&hellip;</td><td>&hellip;</td><td>&hellip;</td><td>&hellip;</td><td>&hellip;</td><td>&hellip;</td><td>&hellip;</td><td>&hellip;</td><td>&hellip;</td><td>&hellip;</td><td>&hellip;</td><td>&hellip;</td><td>&hellip;</td><td>&hellip;</td><td>&hellip;</td><td>&hellip;</td><td>&hellip;</td><td>&hellip;</td><td>&hellip;</td><td>&hellip;</td></tr><tr><td>&quot;SAE-CRCA-PFV-SAN-ANDRES&quot;</td><td>0.0</td><td>0.0</td><td>0.0</td><td>0.0</td><td>0.0</td><td>-19.295652</td><td>-23.008696</td><td>-23.452174</td><td>-23.217391</td><td>-23.33913</td><td>-23.817391</td><td>-22.452174</td><td>-16.417391</td><td>0.0</td><td>35.0</td><td>35.0</td><td>35.0</td><td>35.0</td><td>33.267327</td><td>0.0</td><td>0.0</td><td>0.0</td><td>0.0</td><td>0.0</td><td>0.0</td><td>0.0</td><td>0.0</td><td>0.0</td><td>0.0</td><td>-15.808696</td><td>-22.53913</td><td>-23.069565</td><td>-23.365217</td><td>-23.678261</td><td>-24.426087</td><td>-23.182609</td><td>-18.930435</td><td>0.0</td><td>35.0</td><td>35.0</td><td>35.0</td><td>35.0</td><td>33.267327</td><td>0.0</td><td>0.0</td></tr><tr><td>&quot;SAE-CRCA-PFV-TAMAYA&quot;</td><td>0.0</td><td>0.0</td><td>0.0</td><td>0.0</td><td>0.0</td><td>-13.939216</td><td>-59.696078</td><td>-59.529412</td><td>-59.862745</td><td>-61.058824</td><td>-62.5</td><td>-62.931373</td><td>-53.382353</td><td>0.0</td><td>78.0</td><td>78.0</td><td>78.0</td><td>78.0</td><td>78.0</td><td>30.291262</td><td>0.0</td><td>0.0</td><td>0.0</td><td>0.0</td><td>0.0</td><td>0.0</td><td>0.0</td><td>0.0</td><td>0.0</td><td>-6.684314</td><td>-60.901961</td><td>-59.666667</td><td>-58.921569</td><td>-60.156863</td><td>-63.137255</td><td>-64.705882</td><td>-58.72549</td><td>0.0</td><td>78.0</td><td>78.0</td><td>78.0</td><td>78.0</td><td>78.0</td><td>30.291262</td><td>0.0</td></tr><tr><td>&quot;SAE-CRCA-PFV-URIBE-SOLAR&quot;</td><td>0.0</td><td>0.0</td><td>0.0</td><td>0.0</td><td>0.0</td><td>-0.009524</td><td>0.008707</td><td>0.0</td><td>0.0</td><td>0.0</td><td>-2.013271</td><td>-0.537206</td><td>-0.009524</td><td>0.0</td><td>2.340464</td><td>0.0</td><td>0.0</td><td>0.0</td><td>0.0</td><td>0.0</td><td>0.0</td><td>0.0</td><td>0.0</td><td>0.0</td><td>0.0</td><td>0.0</td><td>0.0</td><td>0.0</td><td>0.0</td><td>0.0</td><td>0.0</td><td>0.0</td><td>0.0</td><td>0.0</td><td>-0.06</td><td>-2.5</td><td>0.0</td><td>0.0</td><td>0.0</td><td>2.340464</td><td>0.0</td><td>0.0</td><td>0.0</td><td>0.0</td><td>0.0</td></tr><tr><td>&quot;SAE-CRCA-PE-LA-CABANA&quot;</td><td>-7.123032</td><td>4.912254</td><td>3.274836</td><td>2.183224</td><td>-4.0425</td><td>-15.081329</td><td>-32.4821</td><td>-36.4413</td><td>-22.208803</td><td>-39.2049</td><td>-42.3017</td><td>-9.8245</td><td>-21.5453</td><td>8.52</td><td>7.355</td><td>7.11</td><td>7.555</td><td>7.335</td><td>57.742346</td><td>7.125</td><td>10.025</td><td>13.47425</td><td>10.025</td><td>16.594635</td><td>10.025</td><td>10.025</td><td>10.025</td><td>10.025</td><td>10.025</td><td>-16.156084</td><td>13.447857</td><td>-43.459668</td><td>-15.589532</td><td>-45.738756</td><td>-46.598412</td><td>-35.322756</td><td>-15.76036</td><td>10.025</td><td>10.025</td><td>24.158</td><td>24.5618</td><td>24.5618</td><td>24.5618</td><td>24.5618</td><td>22.217075</td></tr><tr><td>&quot;SAE-CRCA-PFV MANZANO&quot;</td><td>0.0</td><td>0.0</td><td>0.0</td><td>0.0</td><td>0.0</td><td>0.0</td><td>-20.438776</td><td>-9.8147</td><td>-9.8147</td><td>-21.069657</td><td>-34.886881</td><td>-9.8147</td><td>-14.160586</td><td>10.015</td><td>10.015</td><td>10.015</td><td>10.015</td><td>10.015</td><td>10.015</td><td>10.015</td><td>10.015</td><td>10.015</td><td>-5.739358</td><td>6.921564</td><td>-7.087752</td><td>-7.087752</td><td>10.015</td><td>10.015</td><td>6.676667</td><td>-16.114924</td><td>-9.8147</td><td>-9.8147</td><td>-9.8147</td><td>-13.998888</td><td>-16.114924</td><td>0.0</td><td>-15.72116</td><td>-4.459</td><td>10.015</td><td>10.015</td><td>13.384737</td><td>10.015</td><td>11.616321</td><td>13.043211</td><td>10.015</td></tr></tbody></table></div>"
      ],
      "text/plain": [
       "shape: (22, 46)\n",
       "┌────────────┬───────────┬──────────┬──────────┬───┬───────────┬───────────┬───────────┬───────────┐\n",
       "│ Nombre_PLE ┆ 5         ┆ 6        ┆ 7        ┆ … ┆ 46        ┆ 47        ┆ 48        ┆ 49        │\n",
       "│ XOS        ┆ ---       ┆ ---      ┆ ---      ┆   ┆ ---       ┆ ---       ┆ ---       ┆ ---       │\n",
       "│ ---        ┆ f64       ┆ f64      ┆ f64      ┆   ┆ f64       ┆ f64       ┆ f64       ┆ f64       │\n",
       "│ str        ┆           ┆          ┆          ┆   ┆           ┆           ┆           ┆           │\n",
       "╞════════════╪═══════════╪══════════╪══════════╪═══╪═══════════╪═══════════╪═══════════╪═══════════╡\n",
       "│ SAE-ARICA  ┆ 0.0       ┆ 0.0      ┆ 0.0      ┆ … ┆ 0.0       ┆ 0.0       ┆ 0.0       ┆ 0.0       │\n",
       "│ SAE-DEL-DE ┆ 0.0       ┆ 0.0      ┆ 0.0      ┆ … ┆ 63.500516 ┆ 0.0       ┆ 0.0       ┆ 0.0       │\n",
       "│ SIERTO     ┆           ┆          ┆          ┆   ┆           ┆           ┆           ┆           │\n",
       "│ SAE-NUEVA- ┆ 0.0       ┆ 0.0      ┆ 0.0      ┆ … ┆ 0.0       ┆ 0.0       ┆ 0.0       ┆ 0.0       │\n",
       "│ IMPERIAL   ┆           ┆          ┆          ┆   ┆           ┆           ┆           ┆           │\n",
       "│ SAE-CRCA-A ┆ 0.0       ┆ 0.0      ┆ 0.0      ┆ … ┆ 0.0       ┆ 0.0       ┆ 0.0       ┆ 0.0       │\n",
       "│ LFALFAL-VR ┆           ┆          ┆          ┆   ┆           ┆           ┆           ┆           │\n",
       "│ 1          ┆           ┆          ┆          ┆   ┆           ┆           ┆           ┆           │\n",
       "│ SAE-CRCA-A ┆ 0.0       ┆ 0.0      ┆ 0.0      ┆ … ┆ 49.25     ┆ 0.01      ┆ 0.0       ┆ 0.0       │\n",
       "│ LFALFAL-VR ┆           ┆          ┆          ┆   ┆           ┆           ┆           ┆           │\n",
       "│ 2          ┆           ┆          ┆          ┆   ┆           ┆           ┆           ┆           │\n",
       "│ …          ┆ …         ┆ …        ┆ …        ┆ … ┆ …         ┆ …         ┆ …         ┆ …         │\n",
       "│ SAE-CRCA-P ┆ 0.0       ┆ 0.0      ┆ 0.0      ┆ … ┆ 35.0      ┆ 33.267327 ┆ 0.0       ┆ 0.0       │\n",
       "│ FV-SAN-AND ┆           ┆          ┆          ┆   ┆           ┆           ┆           ┆           │\n",
       "│ RES        ┆           ┆          ┆          ┆   ┆           ┆           ┆           ┆           │\n",
       "│ SAE-CRCA-P ┆ 0.0       ┆ 0.0      ┆ 0.0      ┆ … ┆ 78.0      ┆ 78.0      ┆ 30.291262 ┆ 0.0       │\n",
       "│ FV-TAMAYA  ┆           ┆          ┆          ┆   ┆           ┆           ┆           ┆           │\n",
       "│ SAE-CRCA-P ┆ 0.0       ┆ 0.0      ┆ 0.0      ┆ … ┆ 0.0       ┆ 0.0       ┆ 0.0       ┆ 0.0       │\n",
       "│ FV-URIBE-S ┆           ┆          ┆          ┆   ┆           ┆           ┆           ┆           │\n",
       "│ OLAR       ┆           ┆          ┆          ┆   ┆           ┆           ┆           ┆           │\n",
       "│ SAE-CRCA-P ┆ -7.123032 ┆ 4.912254 ┆ 3.274836 ┆ … ┆ 24.5618   ┆ 24.5618   ┆ 24.5618   ┆ 22.217075 │\n",
       "│ E-LA-CABAN ┆           ┆          ┆          ┆   ┆           ┆           ┆           ┆           │\n",
       "│ A          ┆           ┆          ┆          ┆   ┆           ┆           ┆           ┆           │\n",
       "│ SAE-CRCA-P ┆ 0.0       ┆ 0.0      ┆ 0.0      ┆ … ┆ 10.015    ┆ 11.616321 ┆ 13.043211 ┆ 10.015    │\n",
       "│ FV MANZANO ┆           ┆          ┆          ┆   ┆           ┆           ┆           ┆           │\n",
       "└────────────┴───────────┴──────────┴──────────┴───┴───────────┴───────────┴───────────┴───────────┘"
      ]
     },
     "execution_count": 3,
     "metadata": {},
     "output_type": "execute_result"
    }
   ],
   "source": [
    "data['PID1']['BESS']"
   ]
  },
  {
   "cell_type": "code",
   "execution_count": 1,
   "id": "98550dce",
   "metadata": {},
   "outputs": [],
   "source": [
    "import os, sys, re, clr, csv\n",
    "from shutil import copyfile\n",
    "import pandas as pd\n",
    "import subprocess as sp\n",
    "from os.path import dirname, join\n",
    "from System.IO import SearchOption as SearchOption\n",
    "import matplotlib.pyplot as plt\n",
    "from matplotlib.animation import FuncAnimation, Animation, ArtistAnimation\n",
    "from datetime import datetime\n",
    "import numpy as np\n",
    "from System import *\n",
    "\n",
    "sys.path.append('C:/Program Files/Energy Exemplar/PLEXOS 10.0 API/')\n",
    "clr.AddReference('PLEXOS_NET.Core')\n",
    "clr.AddReference('EEUTILITY')\n",
    "clr.AddReference('EnergyExemplar.PLEXOS.Utility')\n",
    "\n",
    "from PLEXOS_NET.Core import *\n",
    "from EEUTILITY.Enums import *\n",
    "from EnergyExemplar.PLEXOS.Utility.Enums import *\n",
    "\n",
    "copy_file = r\"C:\\Users\\maria.perez\\Documents\\PID\\API_PLEXOS\\DBSEN_PRGDIARIO_PID.xml\"\n",
    "\n",
    "if not os.path.exists(copy_file):\n",
    "    print(\"❌ Archivo no encontrado\")\n",
    "    exit()\n",
    "\n",
    "# Crear conexión al modelo\n",
    "db = DatabaseCore()\n",
    "db.DisplayAlerts = False\n",
    "db.Connection(copy_file)\n",
    "classes = db.FetchAllClassIds()\n",
    "\n",
    "# Buscar IDs\n",
    "collections = db.FetchAllCollectionIds()\n",
    "properties  = db.FetchAllPropertyEnums()\n",
    "attributes  = db.FetchAllAttributeEnums()\n",
    "classes     = db.FetchAllClassIds()"
   ]
  },
  {
   "cell_type": "code",
   "execution_count": 24,
   "id": "77d33cf1",
   "metadata": {},
   "outputs": [
    {
     "name": "stdout",
     "output_type": "stream",
     "text": [
      "df_final shape: (2313, 5)\n",
      "        Tipo                      Linea        Nodo        Lat        Lon\n",
      "0  LineaFrom  AJahuel110->Sauzal110_BP1  AJahuel110 -33.714834 -70.691174\n",
      "1  LineaFrom       AJahuel154->Paine154  AJahuel154 -33.714834 -70.691174\n",
      "2  LineaFrom  AJahuel154->Tuniche154_II  AJahuel154 -33.714834 -70.691174\n",
      "3  LineaFrom     AJahuel220->AJahuel110  AJahuel220 -33.714834 -70.691174\n",
      "4  LineaFrom     AJahuel220->AJahuel154  AJahuel220 -33.714834 -70.691174\n",
      "5  LineaFrom        AJahuel220->Buin110  AJahuel220 -33.714834 -70.691174\n",
      "6  LineaFrom       AJahuel220->Chena220  AJahuel220 -33.714834 -70.691174\n",
      "7  LineaFrom   AJahuel220->PAltoCmpc110  AJahuel220 -33.714834 -70.691174\n",
      "8  LineaFrom  AJahuel220->SantaMarta220  AJahuel220 -33.714834 -70.691174\n",
      "9  LineaFrom     AJahuel500->AJahuel220  AJahuel500 -33.714834 -70.691174\n"
     ]
    }
   ],
   "source": []
  }
 ],
 "metadata": {
  "kernelspec": {
   "display_name": "base",
   "language": "python",
   "name": "python3"
  },
  "language_info": {
   "codemirror_mode": {
    "name": "ipython",
    "version": 3
   },
   "file_extension": ".py",
   "mimetype": "text/x-python",
   "name": "python",
   "nbconvert_exporter": "python",
   "pygments_lexer": "ipython3",
   "version": "3.12.4"
  }
 },
 "nbformat": 4,
 "nbformat_minor": 5
}
