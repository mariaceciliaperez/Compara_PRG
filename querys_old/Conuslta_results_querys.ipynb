{
 "cells": [
  {
   "cell_type": "code",
   "execution_count": 39,
   "id": "61891c7d",
   "metadata": {},
   "outputs": [
    {
     "name": "stdout",
     "output_type": "stream",
     "text": [
      "Tipo: <class 'collections.defaultdict'>\n",
      "\n",
      "Claves principales: ['PID1', 'PID2']\n",
      "\n",
      "Clave: PID1 → tipo: <class 'dict'>\n",
      "  Subclaves: ['COTAS', 'CMG', 'GENTABLES', 'GENT', 'GENC']\n",
      "\n",
      "Clave: PID2 → tipo: <class 'dict'>\n",
      "  Subclaves: ['COTAS', 'CMG', 'GENTABLES', 'GENT', 'GENC']\n"
     ]
    }
   ],
   "source": [
    "import pickle\n",
    "from pathlib import Path\n",
    "\n",
    "# Ruta al archivo results.pkl (ajústala según corresponda)\n",
    "ruta = Path(r\"E:\\Aplicaciones\\Nuevo_PRG\\Compara_PRG\\Querys\\Resultados\\results_20250219_01.pkl\")\n",
    "\n",
    "# Cargar el archivo\n",
    "with open(ruta, \"rb\") as f:\n",
    "    data = pickle.load(f)\n",
    "\n",
    "# Ver tipo de objeto cargado\n",
    "print(\"Tipo:\", type(data))\n",
    "\n",
    "# Si es un diccionario, mostrar claves\n",
    "if isinstance(data, dict):\n",
    "    print(\"\\nClaves principales:\", list(data.keys())[:10])\n",
    "    \n",
    "    # Mostrar el tipo de los primeros valores\n",
    "    for k, v in list(data.items())[:2]:\n",
    "        print(f\"\\nClave: {k} → tipo: {type(v)}\")\n",
    "        if isinstance(v, dict):\n",
    "            print(\"  Subclaves:\", list(v.keys())[:10])\n",
    "\n",
    "# Si es una lista, mostrar ejemplos\n",
    "elif isinstance(data, list):\n",
    "    print(\"\\nEjemplo de elementos:\", data[:5])\n",
    "\n",
    "# En cualquier otro caso, mostrar contenido directo\n",
    "else:\n",
    "    print(\"\\nContenido:\", data)\n"
   ]
  },
  {
   "cell_type": "code",
   "execution_count": 40,
   "id": "f8446a75",
   "metadata": {},
   "outputs": [
    {
     "data": {
      "text/html": [
       "<div><style>\n",
       ".dataframe > thead > tr,\n",
       ".dataframe > tbody > tr {\n",
       "  text-align: right;\n",
       "  white-space: pre-wrap;\n",
       "}\n",
       "</style>\n",
       "<small>shape: (11, 49)</small><table border=\"1\" class=\"dataframe\"><thead><tr><th>Nombre_PLEXOS</th><th>1</th><th>2</th><th>3</th><th>4</th><th>5</th><th>6</th><th>7</th><th>8</th><th>9</th><th>10</th><th>11</th><th>12</th><th>13</th><th>14</th><th>15</th><th>16</th><th>17</th><th>18</th><th>19</th><th>20</th><th>21</th><th>22</th><th>23</th><th>24</th><th>25</th><th>26</th><th>27</th><th>28</th><th>29</th><th>30</th><th>31</th><th>32</th><th>33</th><th>34</th><th>35</th><th>36</th><th>37</th><th>38</th><th>39</th><th>40</th><th>41</th><th>42</th><th>43</th><th>44</th><th>45</th><th>46</th><th>47</th><th>48</th></tr><tr><td>str</td><td>f64</td><td>f64</td><td>f64</td><td>f64</td><td>f64</td><td>f64</td><td>f64</td><td>f64</td><td>f64</td><td>f64</td><td>f64</td><td>f64</td><td>f64</td><td>f64</td><td>f64</td><td>f64</td><td>f64</td><td>f64</td><td>f64</td><td>f64</td><td>f64</td><td>f64</td><td>f64</td><td>f64</td><td>f64</td><td>f64</td><td>f64</td><td>f64</td><td>f64</td><td>f64</td><td>f64</td><td>f64</td><td>f64</td><td>f64</td><td>f64</td><td>f64</td><td>f64</td><td>f64</td><td>f64</td><td>f64</td><td>f64</td><td>f64</td><td>f64</td><td>f64</td><td>f64</td><td>f64</td><td>f64</td><td>f64</td></tr></thead><tbody><tr><td>&quot;CIPRESES&quot;</td><td>1317.01</td><td>1317.005548</td><td>1317.003432</td><td>1316.998168</td><td>1316.992927</td><td>1316.988475</td><td>1316.990107</td><td>1316.986295</td><td>1316.98429</td><td>1316.987572</td><td>1316.991675</td><td>1316.995778</td><td>1316.999881</td><td>1317.003983</td><td>1317.008085</td><td>1317.012186</td><td>1317.016287</td><td>1317.020388</td><td>1317.024488</td><td>1317.027767</td><td>1317.031046</td><td>1317.025785</td><td>1317.020524</td><td>1317.015262</td><td>1317.01</td><td>1317.002475</td><td>1316.994949</td><td>1316.989558</td><td>1316.985328</td><td>1316.980586</td><td>1316.976355</td><td>1316.972124</td><td>1316.96673</td><td>1316.970709</td><td>1316.973865</td><td>1316.977844</td><td>1316.981822</td><td>1316.985799</td><td>1316.989777</td><td>1316.993754</td><td>1316.99773</td><td>1317.001707</td><td>1317.005682</td><td>1317.008837</td><td>1317.01199</td><td>1317.010444</td><td>1317.010296</td><td>1317.010148</td></tr><tr><td>&quot;COLBUN&quot;</td><td>426.4191</td><td>426.405925</td><td>426.396469</td><td>426.366862</td><td>426.363908</td><td>426.367148</td><td>426.36022</td><td>426.362799</td><td>426.364796</td><td>426.367412</td><td>426.359471</td><td>426.351528</td><td>426.343583</td><td>426.335636</td><td>426.327687</td><td>426.319736</td><td>426.311784</td><td>426.303829</td><td>426.295873</td><td>426.287914</td><td>426.265804</td><td>426.268743</td><td>426.270683</td><td>426.273841</td><td>426.276999</td><td>426.280636</td><td>426.280139</td><td>426.278043</td><td>426.275472</td><td>426.274094</td><td>426.273051</td><td>426.276546</td><td>426.275137</td><td>426.274241</td><td>426.266209</td><td>426.258175</td><td>426.250138</td><td>426.2421</td><td>426.234059</td><td>426.226017</td><td>426.217972</td><td>426.209926</td><td>426.201877</td><td>426.193827</td><td>426.17868</td><td>426.182023</td><td>426.17197</td><td>426.163056</td></tr><tr><td>&quot;MACHICURA&quot;</td><td>256.600001</td><td>256.669593</td><td>256.727818</td><td>256.822964</td><td>256.821019</td><td>256.837646</td><td>256.911198</td><td>256.979231</td><td>257.029147</td><td>256.975017</td><td>256.920717</td><td>256.866244</td><td>256.811593</td><td>256.756761</td><td>256.701746</td><td>256.646546</td><td>256.59116</td><td>256.535587</td><td>256.479828</td><td>256.423882</td><td>256.467496</td><td>256.519336</td><td>256.577983</td><td>256.651624</td><td>256.724936</td><td>256.794146</td><td>256.861597</td><td>256.932677</td><td>257.004206</td><td>257.076072</td><td>257.147415</td><td>257.215949</td><td>257.300241</td><td>257.24686</td><td>257.193348</td><td>257.139695</td><td>257.085893</td><td>257.031934</td><td>256.977812</td><td>256.923521</td><td>256.869057</td><td>256.814415</td><td>256.759593</td><td>256.704587</td><td>256.698506</td><td>256.71303</td><td>256.779774</td><td>256.84712</td></tr><tr><td>&quot;PEHUENCHE&quot;</td><td>644.0</td><td>643.937053</td><td>643.848698</td><td>643.910197</td><td>643.848839</td><td>643.699245</td><td>643.555582</td><td>643.336541</td><td>643.144541</td><td>643.085727</td><td>643.129386</td><td>643.173009</td><td>643.216596</td><td>643.260147</td><td>643.303662</td><td>643.34714</td><td>643.390583</td><td>643.433991</td><td>643.477362</td><td>643.52233</td><td>643.567259</td><td>643.372918</td><td>643.177859</td><td>642.948506</td><td>642.718143</td><td>642.490798</td><td>642.305906</td><td>642.126314</td><td>641.947386</td><td>641.755912</td><td>641.559624</td><td>641.320253</td><td>641.107949</td><td>641.080066</td><td>641.126875</td><td>641.171934</td><td>641.216953</td><td>641.261932</td><td>641.306871</td><td>641.35177</td><td>641.39663</td><td>641.44145</td><td>641.48623</td><td>641.532666</td><td>641.57906</td><td>641.417932</td><td>641.312448</td><td>641.193837</td></tr><tr><td>&quot;ELTORO&quot;</td><td>1332.45</td><td>1332.446085</td><td>1332.442224</td><td>1332.438348</td><td>1332.434492</td><td>1332.430877</td><td>1332.427261</td><td>1332.423551</td><td>1332.419715</td><td>1332.416216</td><td>1332.413851</td><td>1332.412489</td><td>1332.41068</td><td>1332.40872</td><td>1332.406852</td><td>1332.403924</td><td>1332.401315</td><td>1332.400537</td><td>1332.397416</td><td>1332.39666</td><td>1332.393548</td><td>1332.389527</td><td>1332.385513</td><td>1332.38137</td><td>1332.377181</td><td>1332.372602</td><td>1332.368006</td><td>1332.363439</td><td>1332.359601</td><td>1332.355773</td><td>1332.351938</td><td>1332.347475</td><td>1332.343092</td><td>1332.340025</td><td>1332.339696</td><td>1332.337574</td><td>1332.336805</td><td>1332.335097</td><td>1332.333468</td><td>1332.330983</td><td>1332.327878</td><td>1332.324252</td><td>1332.320696</td><td>1332.320367</td><td>1332.317244</td><td>1332.313522</td><td>1332.309762</td><td>1332.306007</td></tr><tr><td>&hellip;</td><td>&hellip;</td><td>&hellip;</td><td>&hellip;</td><td>&hellip;</td><td>&hellip;</td><td>&hellip;</td><td>&hellip;</td><td>&hellip;</td><td>&hellip;</td><td>&hellip;</td><td>&hellip;</td><td>&hellip;</td><td>&hellip;</td><td>&hellip;</td><td>&hellip;</td><td>&hellip;</td><td>&hellip;</td><td>&hellip;</td><td>&hellip;</td><td>&hellip;</td><td>&hellip;</td><td>&hellip;</td><td>&hellip;</td><td>&hellip;</td><td>&hellip;</td><td>&hellip;</td><td>&hellip;</td><td>&hellip;</td><td>&hellip;</td><td>&hellip;</td><td>&hellip;</td><td>&hellip;</td><td>&hellip;</td><td>&hellip;</td><td>&hellip;</td><td>&hellip;</td><td>&hellip;</td><td>&hellip;</td><td>&hellip;</td><td>&hellip;</td><td>&hellip;</td><td>&hellip;</td><td>&hellip;</td><td>&hellip;</td><td>&hellip;</td><td>&hellip;</td><td>&hellip;</td><td>&hellip;</td></tr><tr><td>&quot;ANGOSTURA&quot;</td><td>316.499488</td><td>316.626164</td><td>316.673325</td><td>316.764522</td><td>316.816859</td><td>316.862676</td><td>316.881588</td><td>316.900485</td><td>316.881588</td><td>316.900485</td><td>316.883127</td><td>316.865755</td><td>316.848369</td><td>316.830971</td><td>316.813558</td><td>316.796132</td><td>316.778692</td><td>316.761239</td><td>316.743772</td><td>316.726292</td><td>316.752954</td><td>316.823601</td><td>316.637861</td><td>316.572106</td><td>316.533453</td><td>316.477553</td><td>316.567196</td><td>316.656488</td><td>316.74543</td><td>316.834023</td><td>316.827991</td><td>316.772812</td><td>316.716265</td><td>316.478876</td><td>316.460993</td><td>316.443096</td><td>316.425184</td><td>316.40726</td><td>316.389321</td><td>316.371368</td><td>316.353402</td><td>316.335421</td><td>316.317427</td><td>316.299419</td><td>316.326381</td><td>316.398158</td><td>316.469507</td><td>316.55918</td></tr><tr><td>&quot;PANGUE&quot;</td><td>509.071462</td><td>508.949704</td><td>508.941218</td><td>508.869235</td><td>508.852865</td><td>508.765419</td><td>508.705826</td><td>508.691887</td><td>508.695988</td><td>508.727702</td><td>508.731591</td><td>508.735479</td><td>508.739367</td><td>508.743256</td><td>508.747144</td><td>508.751033</td><td>508.754921</td><td>508.75881</td><td>508.762698</td><td>508.812244</td><td>508.798303</td><td>508.804386</td><td>508.768156</td><td>508.718441</td><td>508.668729</td><td>508.546745</td><td>508.424768</td><td>508.302788</td><td>508.176649</td><td>508.00898</td><td>507.84126</td><td>507.719168</td><td>507.597031</td><td>507.582774</td><td>507.586368</td><td>507.589963</td><td>507.593557</td><td>507.597152</td><td>507.600746</td><td>507.604341</td><td>507.607935</td><td>507.611529</td><td>507.615124</td><td>507.705974</td><td>507.733265</td><td>507.655466</td><td>507.514068</td><td>507.346081</td></tr><tr><td>&quot;RALCO&quot;</td><td>716.01</td><td>715.997104</td><td>715.984204</td><td>715.971301</td><td>715.958395</td><td>715.961563</td><td>715.964731</td><td>715.959862</td><td>715.946953</td><td>715.93404</td><td>715.93721</td><td>715.94038</td><td>715.94355</td><td>715.946719</td><td>715.949888</td><td>715.953058</td><td>715.956227</td><td>715.959395</td><td>715.962564</td><td>715.957694</td><td>715.952824</td><td>715.933245</td><td>715.909928</td><td>715.884312</td><td>715.858684</td><td>715.845653</td><td>715.832619</td><td>715.819582</td><td>715.807273</td><td>715.802294</td><td>715.797314</td><td>715.784267</td><td>715.771216</td><td>715.766233</td><td>715.76932</td><td>715.772407</td><td>715.775494</td><td>715.77858</td><td>715.781666</td><td>715.784752</td><td>715.787838</td><td>715.790924</td><td>715.794009</td><td>715.781694</td><td>715.769377</td><td>715.764393</td><td>715.75941</td><td>715.754425</td></tr><tr><td>&quot;CANUTILLAR&quot;</td><td>236.690003</td><td>236.690276</td><td>236.690549</td><td>236.690822</td><td>236.691095</td><td>236.691368</td><td>236.691641</td><td>236.691914</td><td>236.692187</td><td>236.69246</td><td>236.692733</td><td>236.690332</td><td>236.686931</td><td>236.682818</td><td>236.678219</td><td>236.673529</td><td>236.669165</td><td>236.664856</td><td>236.663561</td><td>236.662297</td><td>236.659755</td><td>236.660028</td><td>236.657816</td><td>236.65567</td><td>236.653393</td><td>236.653648</td><td>236.653903</td><td>236.654159</td><td>236.654414</td><td>236.654669</td><td>236.654925</td><td>236.65518</td><td>236.655435</td><td>236.655691</td><td>236.653586</td><td>236.65151</td><td>236.648965</td><td>236.645933</td><td>236.643273</td><td>236.641009</td><td>236.639143</td><td>236.637452</td><td>236.637707</td><td>236.637962</td><td>236.636297</td><td>236.636552</td><td>236.636807</td><td>236.637063</td></tr><tr><td>&quot;RAPEL&quot;</td><td>104.340121</td><td>104.341051</td><td>104.341981</td><td>104.342911</td><td>104.343841</td><td>104.332716</td><td>104.321579</td><td>104.318833</td><td>104.319765</td><td>104.320697</td><td>104.321629</td><td>104.322561</td><td>104.323492</td><td>104.324424</td><td>104.325356</td><td>104.326287</td><td>104.327219</td><td>104.32815</td><td>104.329081</td><td>104.330012</td><td>104.330943</td><td>104.331874</td><td>104.332805</td><td>104.333736</td><td>104.334667</td><td>104.33558</td><td>104.336492</td><td>104.337405</td><td>104.338318</td><td>104.33923</td><td>104.340142</td><td>104.341055</td><td>104.341967</td><td>104.342879</td><td>104.343791</td><td>104.344703</td><td>104.345615</td><td>104.346527</td><td>104.347439</td><td>104.34835</td><td>104.349262</td><td>104.350173</td><td>104.351085</td><td>104.348328</td><td>104.349239</td><td>104.350151</td><td>104.351062</td><td>104.351974</td></tr></tbody></table></div>"
      ],
      "text/plain": [
       "shape: (11, 49)\n",
       "┌───────────┬───────────┬───────────┬───────────┬───┬───────────┬───────────┬───────────┬──────────┐\n",
       "│ Nombre_PL ┆ 1         ┆ 2         ┆ 3         ┆ … ┆ 45        ┆ 46        ┆ 47        ┆ 48       │\n",
       "│ EXOS      ┆ ---       ┆ ---       ┆ ---       ┆   ┆ ---       ┆ ---       ┆ ---       ┆ ---      │\n",
       "│ ---       ┆ f64       ┆ f64       ┆ f64       ┆   ┆ f64       ┆ f64       ┆ f64       ┆ f64      │\n",
       "│ str       ┆           ┆           ┆           ┆   ┆           ┆           ┆           ┆          │\n",
       "╞═══════════╪═══════════╪═══════════╪═══════════╪═══╪═══════════╪═══════════╪═══════════╪══════════╡\n",
       "│ CIPRESES  ┆ 1317.01   ┆ 1317.0055 ┆ 1317.0034 ┆ … ┆ 1317.0119 ┆ 1317.0104 ┆ 1317.0102 ┆ 1317.010 │\n",
       "│           ┆           ┆ 48        ┆ 32        ┆   ┆ 9         ┆ 44        ┆ 96        ┆ 148      │\n",
       "│ COLBUN    ┆ 426.4191  ┆ 426.40592 ┆ 426.39646 ┆ … ┆ 426.17868 ┆ 426.18202 ┆ 426.17197 ┆ 426.1630 │\n",
       "│           ┆           ┆ 5         ┆ 9         ┆   ┆           ┆ 3         ┆           ┆ 56       │\n",
       "│ MACHICURA ┆ 256.60000 ┆ 256.66959 ┆ 256.72781 ┆ … ┆ 256.69850 ┆ 256.71303 ┆ 256.77977 ┆ 256.8471 │\n",
       "│           ┆ 1         ┆ 3         ┆ 8         ┆   ┆ 6         ┆           ┆ 4         ┆ 2        │\n",
       "│ PEHUENCHE ┆ 644.0     ┆ 643.93705 ┆ 643.84869 ┆ … ┆ 641.57906 ┆ 641.41793 ┆ 641.31244 ┆ 641.1938 │\n",
       "│           ┆           ┆ 3         ┆ 8         ┆   ┆           ┆ 2         ┆ 8         ┆ 37       │\n",
       "│ ELTORO    ┆ 1332.45   ┆ 1332.4460 ┆ 1332.4422 ┆ … ┆ 1332.3172 ┆ 1332.3135 ┆ 1332.3097 ┆ 1332.306 │\n",
       "│           ┆           ┆ 85        ┆ 24        ┆   ┆ 44        ┆ 22        ┆ 62        ┆ 007      │\n",
       "│ …         ┆ …         ┆ …         ┆ …         ┆ … ┆ …         ┆ …         ┆ …         ┆ …        │\n",
       "│ ANGOSTURA ┆ 316.49948 ┆ 316.62616 ┆ 316.67332 ┆ … ┆ 316.32638 ┆ 316.39815 ┆ 316.46950 ┆ 316.5591 │\n",
       "│           ┆ 8         ┆ 4         ┆ 5         ┆   ┆ 1         ┆ 8         ┆ 7         ┆ 8        │\n",
       "│ PANGUE    ┆ 509.07146 ┆ 508.94970 ┆ 508.94121 ┆ … ┆ 507.73326 ┆ 507.65546 ┆ 507.51406 ┆ 507.3460 │\n",
       "│           ┆ 2         ┆ 4         ┆ 8         ┆   ┆ 5         ┆ 6         ┆ 8         ┆ 81       │\n",
       "│ RALCO     ┆ 716.01    ┆ 715.99710 ┆ 715.98420 ┆ … ┆ 715.76937 ┆ 715.76439 ┆ 715.75941 ┆ 715.7544 │\n",
       "│           ┆           ┆ 4         ┆ 4         ┆   ┆ 7         ┆ 3         ┆           ┆ 25       │\n",
       "│ CANUTILLA ┆ 236.69000 ┆ 236.69027 ┆ 236.69054 ┆ … ┆ 236.63629 ┆ 236.63655 ┆ 236.63680 ┆ 236.6370 │\n",
       "│ R         ┆ 3         ┆ 6         ┆ 9         ┆   ┆ 7         ┆ 2         ┆ 7         ┆ 63       │\n",
       "│ RAPEL     ┆ 104.34012 ┆ 104.34105 ┆ 104.34198 ┆ … ┆ 104.34923 ┆ 104.35015 ┆ 104.35106 ┆ 104.3519 │\n",
       "│           ┆ 1         ┆ 1         ┆ 1         ┆   ┆ 9         ┆ 1         ┆ 2         ┆ 74       │\n",
       "└───────────┴───────────┴───────────┴───────────┴───┴───────────┴───────────┴───────────┴──────────┘"
      ]
     },
     "execution_count": 40,
     "metadata": {},
     "output_type": "execute_result"
    }
   ],
   "source": [
    "data['PID1']['COTAS']"
   ]
  },
  {
   "cell_type": "code",
   "execution_count": 1,
   "id": "98550dce",
   "metadata": {},
   "outputs": [],
   "source": [
    "import os, sys, re, clr, csv\n",
    "from shutil import copyfile\n",
    "import pandas as pd\n",
    "import subprocess as sp\n",
    "from os.path import dirname, join\n",
    "from System.IO import SearchOption as SearchOption\n",
    "import matplotlib.pyplot as plt\n",
    "from matplotlib.animation import FuncAnimation, Animation, ArtistAnimation\n",
    "from datetime import datetime\n",
    "import numpy as np\n",
    "from System import *\n",
    "\n",
    "sys.path.append('C:/Program Files/Energy Exemplar/PLEXOS 10.0 API/')\n",
    "clr.AddReference('PLEXOS_NET.Core')\n",
    "clr.AddReference('EEUTILITY')\n",
    "clr.AddReference('EnergyExemplar.PLEXOS.Utility')\n",
    "\n",
    "from PLEXOS_NET.Core import *\n",
    "from EEUTILITY.Enums import *\n",
    "from EnergyExemplar.PLEXOS.Utility.Enums import *\n",
    "\n",
    "copy_file = r\"C:\\Users\\maria.perez\\Documents\\PID\\API_PLEXOS\\DBSEN_PRGDIARIO_PID.xml\"\n",
    "\n",
    "if not os.path.exists(copy_file):\n",
    "    print(\"❌ Archivo no encontrado\")\n",
    "    exit()\n",
    "\n",
    "# Crear conexión al modelo\n",
    "db = DatabaseCore()\n",
    "db.DisplayAlerts = False\n",
    "db.Connection(copy_file)\n",
    "classes = db.FetchAllClassIds()\n",
    "\n",
    "# Buscar IDs\n",
    "collections = db.FetchAllCollectionIds()\n",
    "properties  = db.FetchAllPropertyEnums()\n",
    "attributes  = db.FetchAllAttributeEnums()\n",
    "classes     = db.FetchAllClassIds()"
   ]
  },
  {
   "cell_type": "code",
   "execution_count": 24,
   "id": "77d33cf1",
   "metadata": {},
   "outputs": [
    {
     "name": "stdout",
     "output_type": "stream",
     "text": [
      "df_final shape: (2313, 5)\n",
      "        Tipo                      Linea        Nodo        Lat        Lon\n",
      "0  LineaFrom  AJahuel110->Sauzal110_BP1  AJahuel110 -33.714834 -70.691174\n",
      "1  LineaFrom       AJahuel154->Paine154  AJahuel154 -33.714834 -70.691174\n",
      "2  LineaFrom  AJahuel154->Tuniche154_II  AJahuel154 -33.714834 -70.691174\n",
      "3  LineaFrom     AJahuel220->AJahuel110  AJahuel220 -33.714834 -70.691174\n",
      "4  LineaFrom     AJahuel220->AJahuel154  AJahuel220 -33.714834 -70.691174\n",
      "5  LineaFrom        AJahuel220->Buin110  AJahuel220 -33.714834 -70.691174\n",
      "6  LineaFrom       AJahuel220->Chena220  AJahuel220 -33.714834 -70.691174\n",
      "7  LineaFrom   AJahuel220->PAltoCmpc110  AJahuel220 -33.714834 -70.691174\n",
      "8  LineaFrom  AJahuel220->SantaMarta220  AJahuel220 -33.714834 -70.691174\n",
      "9  LineaFrom     AJahuel500->AJahuel220  AJahuel500 -33.714834 -70.691174\n"
     ]
    }
   ],
   "source": []
  }
 ],
 "metadata": {
  "kernelspec": {
   "display_name": "base",
   "language": "python",
   "name": "python3"
  },
  "language_info": {
   "codemirror_mode": {
    "name": "ipython",
    "version": 3
   },
   "file_extension": ".py",
   "mimetype": "text/x-python",
   "name": "python",
   "nbconvert_exporter": "python",
   "pygments_lexer": "ipython3",
   "version": "3.10.7"
  }
 },
 "nbformat": 4,
 "nbformat_minor": 5
}
