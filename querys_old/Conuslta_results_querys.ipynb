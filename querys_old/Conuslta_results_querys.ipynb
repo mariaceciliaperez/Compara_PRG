{
 "cells": [
  {
   "cell_type": "code",
   "execution_count": 1,
   "id": "61891c7d",
   "metadata": {},
   "outputs": [
    {
     "name": "stdout",
     "output_type": "stream",
     "text": [
      "Tipo: <class 'collections.defaultdict'>\n",
      "\n",
      "Claves principales: ['PCP', 'PID1']\n",
      "\n",
      "Clave: PCP → tipo: <class 'dict'>\n",
      "  Subclaves: ['COTAS', 'CMG', 'GENTABLES', 'GENT', 'BESS', 'GENC']\n",
      "\n",
      "Clave: PID1 → tipo: <class 'dict'>\n",
      "  Subclaves: ['COTAS', 'CMG', 'GENTABLES', 'GENT', 'BESS', 'GENC']\n"
     ]
    }
   ],
   "source": [
    "import pickle\n",
    "from pathlib import Path\n",
    "\n",
    "# Ruta al archivo results.pkl (ajústala según corresponda)\n",
    "ruta = Path(r\"E:\\Aplicaciones\\Nuevo_PRG\\Compara_PRG\\data\\results\\results_20250723_01.pkl\")\n",
    "\n",
    "# Cargar el archivo\n",
    "with open(ruta, \"rb\") as f:\n",
    "    data = pickle.load(f)\n",
    "\n",
    "# Ver tipo de objeto cargado\n",
    "print(\"Tipo:\", type(data))\n",
    "\n",
    "# Si es un diccionario, mostrar claves\n",
    "if isinstance(data, dict):\n",
    "    print(\"\\nClaves principales:\", list(data.keys())[:10])\n",
    "    \n",
    "    # Mostrar el tipo de los primeros valores\n",
    "    for k, v in list(data.items())[:2]:\n",
    "        print(f\"\\nClave: {k} → tipo: {type(v)}\")\n",
    "        if isinstance(v, dict):\n",
    "            print(\"  Subclaves:\", list(v.keys())[:10])\n",
    "\n",
    "# Si es una lista, mostrar ejemplos\n",
    "elif isinstance(data, list):\n",
    "    print(\"\\nEjemplo de elementos:\", data[:5])\n",
    "\n",
    "# En cualquier otro caso, mostrar contenido directo\n",
    "else:\n",
    "    print(\"\\nContenido:\", data)\n"
   ]
  },
  {
   "cell_type": "code",
   "execution_count": 2,
   "id": "f8446a75",
   "metadata": {},
   "outputs": [
    {
     "name": "stdout",
     "output_type": "stream",
     "text": [
      "                   Nombre_PLEXOS           5           6           7  \\\n",
      "106  BAT_LA_CABANA_EO_Mulchen220  102.609621  102.559523  104.858165   \n",
      "107   BAT_MANZANO_FV_Polpaico220  102.987981  103.085304  105.939341   \n",
      "\n",
      "              8           9          10          11          12          13  \\\n",
      "106  105.898861  106.164529  105.924199  105.151935  104.133441  105.476921   \n",
      "107  106.295670  101.558571   99.158890   98.415784   97.881269   98.865823   \n",
      "\n",
      "     ...         40         41         42         43         44         45  \\\n",
      "106  ...  61.659411  64.193347  68.593746  74.707181  74.338653  74.329639   \n",
      "107  ...  59.768658  64.324980  70.274555  78.028562  78.312147  78.043243   \n",
      "\n",
      "            46         47         48         49  \n",
      "106  74.301513  74.663585  74.361388  65.250014  \n",
      "107  78.120281  78.143269  78.254266  68.741756  \n",
      "\n",
      "[2 rows x 46 columns]\n"
     ]
    }
   ],
   "source": [
    "cmg_df = data['PID1']['CMG']\n",
    "\n",
    "# si está en Polars\n",
    "import polars as pl\n",
    "if isinstance(cmg_df, pl.DataFrame):\n",
    "    cmg_df = cmg_df.to_pandas()\n",
    "\n",
    "# filtrar nodos que empiezan con \"bat_\" (insensible a mayúsculas)\n",
    "mask = cmg_df[\"Nombre_PLEXOS\"].str.lower().str.startswith(\"bat_\")\n",
    "cmg_bat = cmg_df[mask]\n",
    "\n",
    "print(cmg_bat.head())\n"
   ]
  },
  {
   "cell_type": "code",
   "execution_count": null,
   "id": "98550dce",
   "metadata": {},
   "outputs": [],
   "source": [
    "import os, sys, re, clr, csv\n",
    "from shutil import copyfile\n",
    "import pandas as pd\n",
    "import subprocess as sp\n",
    "from os.path import dirname, join\n",
    "from System.IO import SearchOption as SearchOption\n",
    "import matplotlib.pyplot as plt\n",
    "from matplotlib.animation import FuncAnimation, Animation, ArtistAnimation\n",
    "from datetime import datetime\n",
    "import numpy as np\n",
    "from System import *\n",
    "\n",
    "sys.path.append('C:/Program Files/Energy Exemplar/PLEXOS 10.0 API/')\n",
    "clr.AddReference('PLEXOS_NET.Core')\n",
    "clr.AddReference('EEUTILITY')\n",
    "clr.AddReference('EnergyExemplar.PLEXOS.Utility')\n",
    "\n",
    "from PLEXOS_NET.Core import *\n",
    "from EEUTILITY.Enums import *\n",
    "from EnergyExemplar.PLEXOS.Utility.Enums import *\n",
    "\n",
    "copy_file = r\"E:\\Entrenamiento\\PID_20250707\\Modelos\\DBSEN_PRGDIARIO_PID.xml\"\n",
    "\n",
    "if not os.path.exists(copy_file):\n",
    "    print(\"❌ Archivo no encontrado\")\n",
    "    exit()\n",
    "\n",
    "# Crear conexión al modelo\n",
    "db = DatabaseCore()\n",
    "db.DisplayAlerts = False\n",
    "db.Connection(copy_file)\n",
    "\n",
    "# Buscar IDs\n",
    "collections = db.FetchAllCollectionIds()\n",
    "attributes  = db.FetchAllAttributeEnums()\n",
    "classes     = db.FetchAllClassIds()"
   ]
  },
  {
   "cell_type": "code",
   "execution_count": null,
   "id": "d34e1648",
   "metadata": {},
   "outputs": [
    {
     "name": "stdout",
     "output_type": "stream",
     "text": [
      "df_nodes: (218, 3)\n",
      "          Nodo        Lat        Lon\n",
      "0   AJahuel110 -33.714834 -70.691174\n",
      "1   AJahuel154 -33.714834 -70.691174\n",
      "2   AJahuel220 -33.714834 -70.691174\n",
      "3   AJahuel500 -33.714834 -70.691174\n",
      "4  Alfalfal220 -33.502260 -70.193360\n",
      "df_lines: (313, 3)\n",
      "                       Linea    NodoFrom         NodoTo\n",
      "0  AJahuel110->Sauzal110_BP1  AJahuel110  Sauzal110_BP1\n",
      "1       AJahuel154->Paine154  AJahuel154       Paine154\n",
      "2  AJahuel154->Tuniche154_II  AJahuel154  Tuniche154_II\n",
      "3     AJahuel220->AJahuel110  AJahuel220     AJahuel110\n",
      "4     AJahuel220->AJahuel154  AJahuel220     AJahuel154\n",
      "Líneas con extremos sin coordenadas: 0\n"
     ]
    },
    {
     "data": {
      "application/vnd.plotly.v1+json": {
       "config": {
        "plotlyServerURL": "https://plot.ly"
       },
       "data": [
        {
         "customdata": [
          [
           "AJahuel110->Sauzal110_BP1",
           "AJahuel110",
           "Sauzal110_BP1"
          ]
         ],
         "hovertemplate": "<b>%{customdata[0]}</b><br>From: %{customdata[1]}<br>To: %{customdata[2]}<extra></extra>",
         "lat": [
          -33.71483419,
          -34.25164386
         ],
         "line": {
          "color": "#B0B6BE",
          "width": 2
         },
         "lon": [
          -70.69117403,
          -70.63195332
         ],
         "mode": "lines",
         "showlegend": false,
         "type": "scattergeo"
        },
        {
         "customdata": [
          [
           "AJahuel154->Paine154",
           "AJahuel154",
           "Paine154"
          ]
         ],
         "hovertemplate": "<b>%{customdata[0]}</b><br>From: %{customdata[1]}<br>To: %{customdata[2]}<extra></extra>",
         "lat": [
          -33.71483419,
          -33.82378987
         ],
         "line": {
          "color": "#B0B6BE",
          "width": 2
         },
         "lon": [
          -70.69117403,
          -70.75164991
         ],
         "mode": "lines",
         "showlegend": false,
         "type": "scattergeo"
        },
        {
         "customdata": [
          [
           "AJahuel154->Tuniche154_II",
           "AJahuel154",
           "Tuniche154_II"
          ]
         ],
         "hovertemplate": "<b>%{customdata[0]}</b><br>From: %{customdata[1]}<br>To: %{customdata[2]}<extra></extra>",
         "lat": [
          -33.71483419,
          -34.11953635
         ],
         "line": {
          "color": "#B0B6BE",
          "width": 2
         },
         "lon": [
          -70.69117403,
          -70.75327034
         ],
         "mode": "lines",
         "showlegend": false,
         "type": "scattergeo"
        },
        {
         "customdata": [
          [
           "AJahuel220->AJahuel110",
           "AJahuel220",
           "AJahuel110"
          ]
         ],
         "hovertemplate": "<b>%{customdata[0]}</b><br>From: %{customdata[1]}<br>To: %{customdata[2]}<extra></extra>",
         "lat": [
          -33.71483419,
          -33.71483419
         ],
         "line": {
          "color": "#B0B6BE",
          "width": 2
         },
         "lon": [
          -70.69117403,
          -70.69117403
         ],
         "mode": "lines",
         "showlegend": false,
         "type": "scattergeo"
        },
        {
         "customdata": [
          [
           "AJahuel220->AJahuel154",
           "AJahuel220",
           "AJahuel154"
          ]
         ],
         "hovertemplate": "<b>%{customdata[0]}</b><br>From: %{customdata[1]}<br>To: %{customdata[2]}<extra></extra>",
         "lat": [
          -33.71483419,
          -33.71483419
         ],
         "line": {
          "color": "#B0B6BE",
          "width": 2
         },
         "lon": [
          -70.69117403,
          -70.69117403
         ],
         "mode": "lines",
         "showlegend": false,
         "type": "scattergeo"
        },
        {
         "customdata": [
          [
           "AJahuel220->Buin110",
           "AJahuel220",
           "Buin110"
          ]
         ],
         "hovertemplate": "<b>%{customdata[0]}</b><br>From: %{customdata[1]}<br>To: %{customdata[2]}<extra></extra>",
         "lat": [
          -33.71483419,
          -33.71010096
         ],
         "line": {
          "color": "#B0B6BE",
          "width": 2
         },
         "lon": [
          -70.69117403,
          -70.69109201
         ],
         "mode": "lines",
         "showlegend": false,
         "type": "scattergeo"
        },
        {
         "customdata": [
          [
           "AJahuel220->Chena220",
           "AJahuel220",
           "Chena220"
          ]
         ],
         "hovertemplate": "<b>%{customdata[0]}</b><br>From: %{customdata[1]}<br>To: %{customdata[2]}<extra></extra>",
         "lat": [
          -33.71483419,
          -33.5260631
         ],
         "line": {
          "color": "#B0B6BE",
          "width": 2
         },
         "lon": [
          -70.69117403,
          -70.72505653
         ],
         "mode": "lines",
         "showlegend": false,
         "type": "scattergeo"
        },
        {
         "customdata": [
          [
           "AJahuel220->PAltoCmpc110",
           "AJahuel220",
           "PAltoCmpc110"
          ]
         ],
         "hovertemplate": "<b>%{customdata[0]}</b><br>From: %{customdata[1]}<br>To: %{customdata[2]}<extra></extra>",
         "lat": [
          -33.71483419,
          -33.61975821
         ],
         "line": {
          "color": "#B0B6BE",
          "width": 2
         },
         "lon": [
          -70.69117403,
          -70.56659727
         ],
         "mode": "lines",
         "showlegend": false,
         "type": "scattergeo"
        },
        {
         "customdata": [
          [
           "AJahuel220->SantaMarta220",
           "AJahuel220",
           "SantaMarta220"
          ]
         ],
         "hovertemplate": "<b>%{customdata[0]}</b><br>From: %{customdata[1]}<br>To: %{customdata[2]}<extra></extra>",
         "lat": [
          -33.71483419,
          -33.70126062
         ],
         "line": {
          "color": "#B0B6BE",
          "width": 2
         },
         "lon": [
          -70.69117403,
          -70.79667308
         ],
         "mode": "lines",
         "showlegend": false,
         "type": "scattergeo"
        },
        {
         "customdata": [
          [
           "AJahuel500->AJahuel220",
           "AJahuel500",
           "AJahuel220"
          ]
         ],
         "hovertemplate": "<b>%{customdata[0]}</b><br>From: %{customdata[1]}<br>To: %{customdata[2]}<extra></extra>",
         "lat": [
          -33.71483419,
          -33.71483419
         ],
         "line": {
          "color": "#B0B6BE",
          "width": 2
         },
         "lon": [
          -70.69117403,
          -70.69117403
         ],
         "mode": "lines",
         "showlegend": false,
         "type": "scattergeo"
        },
        {
         "customdata": [
          [
           "AMelipill220->LoAguirre220",
           "AMelipilla220",
           "LoAguirre220"
          ]
         ],
         "hovertemplate": "<b>%{customdata[0]}</b><br>From: %{customdata[1]}<br>To: %{customdata[2]}<extra></extra>",
         "lat": [
          -33.69154516,
          -33.44005082
         ],
         "line": {
          "color": "#B0B6BE",
          "width": 2
         },
         "lon": [
          -71.23848626,
          -70.89773497
         ],
         "mode": "lines",
         "showlegend": false,
         "type": "scattergeo"
        },
        {
         "customdata": [
          [
           "ASanta110->Mirafl110",
           "ASanta110",
           "Miraflores110"
          ]
         ],
         "hovertemplate": "<b>%{customdata[0]}</b><br>From: %{customdata[1]}<br>To: %{customdata[2]}<extra></extra>",
         "lat": [
          -33.07737712,
          -33.03481397
         ],
         "line": {
          "color": "#B0B6BE",
          "width": 2
         },
         "lon": [
          -71.54111889,
          -71.52535858
         ],
         "mode": "lines",
         "showlegend": false,
         "type": "scattergeo"
        },
        {
         "customdata": [
          [
           "ASanta220->ASanta110",
           "ASanta220",
           "ASanta110"
          ]
         ],
         "hovertemplate": "<b>%{customdata[0]}</b><br>From: %{customdata[1]}<br>To: %{customdata[2]}<extra></extra>",
         "lat": [
          -33.07737712,
          -33.07737712
         ],
         "line": {
          "color": "#B0B6BE",
          "width": 2
         },
         "lon": [
          -71.54111889,
          -71.54111889
         ],
         "mode": "lines",
         "showlegend": false,
         "type": "scattergeo"
        },
        {
         "customdata": [
          [
           "Alfalfal220->Almendros220",
           "Alfalfal220",
           "Almendros220"
          ]
         ],
         "hovertemplate": "<b>%{customdata[0]}</b><br>From: %{customdata[1]}<br>To: %{customdata[2]}<extra></extra>",
         "lat": [
          -33.50225992,
          -33.42670264
         ],
         "line": {
          "color": "#B0B6BE",
          "width": 2
         },
         "lon": [
          -70.19336036,
          -70.50775806
         ],
         "mode": "lines",
         "showlegend": false,
         "type": "scattergeo"
        },
        {
         "customdata": [
          [
           "Almendros110->Apoquindo110",
           "Almendros110",
           "Apoquindo110"
          ]
         ],
         "hovertemplate": "<b>%{customdata[0]}</b><br>From: %{customdata[1]}<br>To: %{customdata[2]}<extra></extra>",
         "lat": [
          -33.42670264,
          -33.4097962
         ],
         "line": {
          "color": "#B0B6BE",
          "width": 2
         },
         "lon": [
          -70.50775806,
          -70.56429693
         ],
         "mode": "lines",
         "showlegend": false,
         "type": "scattergeo"
        },
        {
         "customdata": [
          [
           "Almendros220->AJahuel220",
           "Almendros220",
           "AJahuel220"
          ]
         ],
         "hovertemplate": "<b>%{customdata[0]}</b><br>From: %{customdata[1]}<br>To: %{customdata[2]}<extra></extra>",
         "lat": [
          -33.42670264,
          -33.71483419
         ],
         "line": {
          "color": "#B0B6BE",
          "width": 2
         },
         "lon": [
          -70.50775806,
          -70.69117403
         ],
         "mode": "lines",
         "showlegend": false,
         "type": "scattergeo"
        },
        {
         "customdata": [
          [
           "Almendros220->Almendros110",
           "Almendros220",
           "Almendros110"
          ]
         ],
         "hovertemplate": "<b>%{customdata[0]}</b><br>From: %{customdata[1]}<br>To: %{customdata[2]}<extra></extra>",
         "lat": [
          -33.42670264,
          -33.42670264
         ],
         "line": {
          "color": "#B0B6BE",
          "width": 2
         },
         "lon": [
          -70.50775806,
          -70.50775806
         ],
         "mode": "lines",
         "showlegend": false,
         "type": "scattergeo"
        },
        {
         "customdata": [
          [
           "Ancoa220->Itahue154",
           "Ancoa220",
           "Itahue154"
          ]
         ],
         "hovertemplate": "<b>%{customdata[0]}</b><br>From: %{customdata[1]}<br>To: %{customdata[2]}<extra></extra>",
         "lat": [
          -35.68185977,
          -35.13927033
         ],
         "line": {
          "color": "#B0B6BE",
          "width": 2
         },
         "lon": [
          -71.3772166,
          -71.36725314
         ],
         "mode": "lines",
         "showlegend": false,
         "type": "scattergeo"
        },
        {
         "customdata": [
          [
           "Ancoa500->AJahuel500",
           "Ancoa500",
           "AJahuel500"
          ]
         ],
         "hovertemplate": "<b>%{customdata[0]}</b><br>From: %{customdata[1]}<br>To: %{customdata[2]}<extra></extra>",
         "lat": [
          -35.68185977,
          -33.71483419
         ],
         "line": {
          "color": "#B0B6BE",
          "width": 2
         },
         "lon": [
          -71.3772166,
          -70.69117403
         ],
         "mode": "lines",
         "showlegend": false,
         "type": "scattergeo"
        },
        {
         "customdata": [
          [
           "Ancoa500->Ancoa220",
           "Ancoa500",
           "Ancoa220"
          ]
         ],
         "hovertemplate": "<b>%{customdata[0]}</b><br>From: %{customdata[1]}<br>To: %{customdata[2]}<extra></extra>",
         "lat": [
          -35.68185977,
          -35.68185977
         ],
         "line": {
          "color": "#B0B6BE",
          "width": 2
         },
         "lon": [
          -71.3772166,
          -71.3772166
         ],
         "mode": "lines",
         "showlegend": false,
         "type": "scattergeo"
        },
        {
         "customdata": [
          [
           "Andes220->Oeste220",
           "Andes220",
           "Oeste220"
          ]
         ],
         "hovertemplate": "<b>%{customdata[0]}</b><br>From: %{customdata[1]}<br>To: %{customdata[2]}<extra></extra>",
         "lat": [
          -24.01706584,
          -23.69019316
         ],
         "line": {
          "color": "#B0B6BE",
          "width": 2
         },
         "lon": [
          -68.58226425,
          -68.61970933
         ],
         "mode": "lines",
         "showlegend": false,
         "type": "scattergeo"
        },
        {
         "customdata": [
          [
           "Andes345->Andes220",
           "Andes345",
           "Andes220"
          ]
         ],
         "hovertemplate": "<b>%{customdata[0]}</b><br>From: %{customdata[1]}<br>To: %{customdata[2]}<extra></extra>",
         "lat": [
          -24.01706584,
          -24.01706584
         ],
         "line": {
          "color": "#B0B6BE",
          "width": 2
         },
         "lon": [
          -68.58226425,
          -68.58226425
         ],
         "mode": "lines",
         "showlegend": false,
         "type": "scattergeo"
        },
        {
         "customdata": [
          [
           "Angamos220->Kapatur220",
           "Angamos220",
           "Kapatur220_BP1"
          ]
         ],
         "hovertemplate": "<b>%{customdata[0]}</b><br>From: %{customdata[1]}<br>To: %{customdata[2]}<extra></extra>",
         "lat": [
          -23.06753098,
          -23.14492989
         ],
         "line": {
          "color": "#B0B6BE",
          "width": 2
         },
         "lon": [
          -70.36797872,
          -70.33868251
         ],
         "mode": "lines",
         "showlegend": false,
         "type": "scattergeo"
        },
        {
         "customdata": [
          [
           "Antofag110->Desalant110",
           "Antofagasta110",
           "Desalant110"
          ]
         ],
         "hovertemplate": "<b>%{customdata[0]}</b><br>From: %{customdata[1]}<br>To: %{customdata[2]}<extra></extra>",
         "lat": [
          -23.63375689,
          -23.54285733
         ],
         "line": {
          "color": "#B0B6BE",
          "width": 2
         },
         "lon": [
          -70.38002992,
          -70.3985431
         ],
         "mode": "lines",
         "showlegend": false,
         "type": "scattergeo"
        },
        {
         "customdata": [
          [
           "Antofag110->LaNegra110",
           "Antofagasta110",
           "LaNegra110"
          ]
         ],
         "hovertemplate": "<b>%{customdata[0]}</b><br>From: %{customdata[1]}<br>To: %{customdata[2]}<extra></extra>",
         "lat": [
          -23.63375689,
          -23.78237326
         ],
         "line": {
          "color": "#B0B6BE",
          "width": 2
         },
         "lon": [
          -70.38002992,
          -70.32380264
         ],
         "mode": "lines",
         "showlegend": false,
         "type": "scattergeo"
        },
        {
         "customdata": [
          [
           "Antuco220->Charrua220",
           "Antuco220",
           "Charrua220"
          ]
         ],
         "hovertemplate": "<b>%{customdata[0]}</b><br>From: %{customdata[1]}<br>To: %{customdata[2]}<extra></extra>",
         "lat": [
          -37.31094724,
          -37.09514251
         ],
         "line": {
          "color": "#B0B6BE",
          "width": 2
         },
         "lon": [
          -71.63065868,
          -72.32163459
         ],
         "mode": "lines",
         "showlegend": false,
         "type": "scattergeo"
        },
        {
         "customdata": [
          [
           "Antuco220->Trupan220",
           "Antuco220",
           "Trupan220"
          ]
         ],
         "hovertemplate": "<b>%{customdata[0]}</b><br>From: %{customdata[1]}<br>To: %{customdata[2]}<extra></extra>",
         "lat": [
          -37.31094724,
          -37.31041103
         ],
         "line": {
          "color": "#B0B6BE",
          "width": 2
         },
         "lon": [
          -71.63065868,
          -71.62934479
         ],
         "mode": "lines",
         "showlegend": false,
         "type": "scattergeo"
        },
        {
         "customdata": [
          [
           "Apoquindo110->ElSalto110",
           "Apoquindo110",
           "ElSalto110"
          ]
         ],
         "hovertemplate": "<b>%{customdata[0]}</b><br>From: %{customdata[1]}<br>To: %{customdata[2]}<extra></extra>",
         "lat": [
          -33.4097962,
          -33.35807858
         ],
         "line": {
          "color": "#B0B6BE",
          "width": 2
         },
         "lon": [
          -70.56429693,
          -70.62855013
         ],
         "mode": "lines",
         "showlegend": false,
         "type": "scattergeo"
        },
        {
         "customdata": [
          [
           "Arica066->PAlmonte110",
           "Arica066",
           "PAlmonte110"
          ]
         ],
         "hovertemplate": "<b>%{customdata[0]}</b><br>From: %{customdata[1]}<br>To: %{customdata[2]}<extra></extra>",
         "lat": [
          -18.48540715,
          -20.25849028
         ],
         "line": {
          "color": "#B0B6BE",
          "width": 2
         },
         "lon": [
          -70.28916166,
          -69.7733456
         ],
         "mode": "lines",
         "showlegend": false,
         "type": "scattergeo"
        },
        {
         "customdata": [
          [
           "Atacama220->OHiggins220",
           "Atacama220_BP1",
           "Ohiggins220_BP1"
          ]
         ],
         "hovertemplate": "<b>%{customdata[0]}</b><br>From: %{customdata[1]}<br>To: %{customdata[2]}<extra></extra>",
         "lat": [
          -23.09157802,
          -23.6920015
         ],
         "line": {
          "color": "#B0B6BE",
          "width": 2
         },
         "lon": [
          -70.41556015,
          -70.21462127
         ],
         "mode": "lines",
         "showlegend": false,
         "type": "scattergeo"
        },
        {
         "customdata": [
          [
           "Batuco110->PPeuco110",
           "Batuco110",
           "PPeuco110"
          ]
         ],
         "hovertemplate": "<b>%{customdata[0]}</b><br>From: %{customdata[1]}<br>To: %{customdata[2]}<extra></extra>",
         "lat": [
          -33.26765664,
          -33.11893736
         ],
         "line": {
          "color": "#B0B6BE",
          "width": 2
         },
         "lon": [
          -70.73086426,
          -70.82599152
         ],
         "mode": "lines",
         "showlegend": false,
         "type": "scattergeo"
        },
        {
         "customdata": [
          [
           "Batuco110->PPeuco110_I",
           "Batuco110",
           "PPeuco110"
          ]
         ],
         "hovertemplate": "<b>%{customdata[0]}</b><br>From: %{customdata[1]}<br>To: %{customdata[2]}<extra></extra>",
         "lat": [
          -33.26765664,
          -33.11893736
         ],
         "line": {
          "color": "#B0B6BE",
          "width": 2
         },
         "lon": [
          -70.73086426,
          -70.82599152
         ],
         "mode": "lines",
         "showlegend": false,
         "type": "scattergeo"
        },
        {
         "customdata": [
          [
           "Bocamina154->Coronel154",
           "Bocamina154",
           "Coronel154"
          ]
         ],
         "hovertemplate": "<b>%{customdata[0]}</b><br>From: %{customdata[1]}<br>To: %{customdata[2]}<extra></extra>",
         "lat": [
          -37.02076813,
          -37.00881822
         ],
         "line": {
          "color": "#B0B6BE",
          "width": 2
         },
         "lon": [
          -73.16698996,
          -73.15198545
         ],
         "mode": "lines",
         "showlegend": false,
         "type": "scattergeo"
        },
        {
         "customdata": [
          [
           "Buin110->LoEspejo110",
           "Buin110",
           "LoEspejo110"
          ]
         ],
         "hovertemplate": "<b>%{customdata[0]}</b><br>From: %{customdata[1]}<br>To: %{customdata[2]}<extra></extra>",
         "lat": [
          -33.71010096,
          -33.53049274
         ],
         "line": {
          "color": "#B0B6BE",
          "width": 2
         },
         "lon": [
          -70.69109201,
          -70.71193238
         ],
         "mode": "lines",
         "showlegend": false,
         "type": "scattergeo"
        },
        {
         "customdata": [
          [
           "CNavia110->Batuco110",
           "CNavia110",
           "Batuco110"
          ]
         ],
         "hovertemplate": "<b>%{customdata[0]}</b><br>From: %{customdata[1]}<br>To: %{customdata[2]}<extra></extra>",
         "lat": [
          -33.42196567,
          -33.26765664
         ],
         "line": {
          "color": "#B0B6BE",
          "width": 2
         },
         "lon": [
          -70.72971588,
          -70.73086426
         ],
         "mode": "lines",
         "showlegend": false,
         "type": "scattergeo"
        },
        {
         "customdata": [
          [
           "CNavia110->Batuco110_I",
           "CNavia110",
           "Batuco110"
          ]
         ],
         "hovertemplate": "<b>%{customdata[0]}</b><br>From: %{customdata[1]}<br>To: %{customdata[2]}<extra></extra>",
         "lat": [
          -33.42196567,
          -33.26765664
         ],
         "line": {
          "color": "#B0B6BE",
          "width": 2
         },
         "lon": [
          -70.72971588,
          -70.73086426
         ],
         "mode": "lines",
         "showlegend": false,
         "type": "scattergeo"
        },
        {
         "customdata": [
          [
           "CNavia110->Chena110",
           "CNavia110",
           "Chena110"
          ]
         ],
         "hovertemplate": "<b>%{customdata[0]}</b><br>From: %{customdata[1]}<br>To: %{customdata[2]}<extra></extra>",
         "lat": [
          -33.42196567,
          -33.5260631
         ],
         "line": {
          "color": "#B0B6BE",
          "width": 2
         },
         "lon": [
          -70.72971588,
          -70.72505653
         ],
         "mode": "lines",
         "showlegend": false,
         "type": "scattergeo"
        },
        {
         "customdata": [
          [
           "CNavia110->LVegas110_exp",
           "CNavia110",
           "LVegas110_exp"
          ]
         ],
         "hovertemplate": "<b>%{customdata[0]}</b><br>From: %{customdata[1]}<br>To: %{customdata[2]}<extra></extra>",
         "lat": [
          -33.42196567,
          -32.84348693
         ],
         "line": {
          "color": "#B0B6BE",
          "width": 2
         },
         "lon": [
          -70.72971588,
          -71.01163824
         ],
         "mode": "lines",
         "showlegend": false,
         "type": "scattergeo"
        },
        {
         "customdata": [
          [
           "CNavia220->CNavia110",
           "CNavia220",
           "CNavia110"
          ]
         ],
         "hovertemplate": "<b>%{customdata[0]}</b><br>From: %{customdata[1]}<br>To: %{customdata[2]}<extra></extra>",
         "lat": [
          -33.42196567,
          -33.42196567
         ],
         "line": {
          "color": "#B0B6BE",
          "width": 2
         },
         "lon": [
          -70.72971588,
          -70.72971588
         ],
         "mode": "lines",
         "showlegend": false,
         "type": "scattergeo"
        },
        {
         "customdata": [
          [
           "CNavia220->CNavia220_Aux_D",
           "CNavia220",
           "CNavia220_Desf"
          ]
         ],
         "hovertemplate": "<b>%{customdata[0]}</b><br>From: %{customdata[1]}<br>To: %{customdata[2]}<extra></extra>",
         "lat": [
          -33.42196567,
          -33.42196567
         ],
         "line": {
          "color": "#B0B6BE",
          "width": 2
         },
         "lon": [
          -70.72971588,
          -70.72971588
         ],
         "mode": "lines",
         "showlegend": false,
         "type": "scattergeo"
        },
        {
         "customdata": [
          [
           "CNavia220->Chena220",
           "CNavia220",
           "Chena220"
          ]
         ],
         "hovertemplate": "<b>%{customdata[0]}</b><br>From: %{customdata[1]}<br>To: %{customdata[2]}<extra></extra>",
         "lat": [
          -33.42196567,
          -33.5260631
         ],
         "line": {
          "color": "#B0B6BE",
          "width": 2
         },
         "lon": [
          -70.72971588,
          -70.72505653
         ],
         "mode": "lines",
         "showlegend": false,
         "type": "scattergeo"
        },
        {
         "customdata": [
          [
           "CNavia220_Aux_D->Polpaico220",
           "CNavia220_Desf",
           "Polpaico220"
          ]
         ],
         "hovertemplate": "<b>%{customdata[0]}</b><br>From: %{customdata[1]}<br>To: %{customdata[2]}<extra></extra>",
         "lat": [
          -33.42196567,
          -33.19629169
         ],
         "line": {
          "color": "#B0B6BE",
          "width": 2
         },
         "lon": [
          -70.72971588,
          -70.86099782
         ],
         "mode": "lines",
         "showlegend": false,
         "type": "scattergeo"
        },
        {
         "customdata": [
          [
           "Cachiyuyal220->DAlmagro220",
           "Cachiyuyal220",
           "DAlmagro220"
          ]
         ],
         "hovertemplate": "<b>%{customdata[0]}</b><br>From: %{customdata[1]}<br>To: %{customdata[2]}<extra></extra>",
         "lat": [
          -25.54459246,
          -26.39828468
         ],
         "line": {
          "color": "#B0B6BE",
          "width": 2
         },
         "lon": [
          -70.31325104,
          -70.03730551
         ],
         "mode": "lines",
         "showlegend": false,
         "type": "scattergeo"
        },
        {
         "customdata": [
          [
           "Candela220->AJahuel220",
           "Candelaria220",
           "AJahuel220"
          ]
         ],
         "hovertemplate": "<b>%{customdata[0]}</b><br>From: %{customdata[1]}<br>To: %{customdata[2]}<extra></extra>",
         "lat": [
          -34.03396985,
          -33.71483419
         ],
         "line": {
          "color": "#B0B6BE",
          "width": 2
         },
         "lon": [
          -70.61039896,
          -70.69117403
         ],
         "mode": "lines",
         "showlegend": false,
         "type": "scattergeo"
        },
        {
         "customdata": [
          [
           "Canutilla220->PMontt220",
           "Canutillar220",
           "PMontt220"
          ]
         ],
         "hovertemplate": "<b>%{customdata[0]}</b><br>From: %{customdata[1]}<br>To: %{customdata[2]}<extra></extra>",
         "lat": [
          -41.52857078,
          -41.45129451
         ],
         "line": {
          "color": "#B0B6BE",
          "width": 2
         },
         "lon": [
          -72.34188341,
          -72.95217159
         ],
         "mode": "lines",
         "showlegend": false,
         "type": "scattergeo"
        },
        {
         "customdata": [
          [
           "Capricorn220->Capricorn110",
           "Capricornio220",
           "Capricornio110"
          ]
         ],
         "hovertemplate": "<b>%{customdata[0]}</b><br>From: %{customdata[1]}<br>To: %{customdata[2]}<extra></extra>",
         "lat": [
          -23.63384538,
          -23.45790456
         ],
         "line": {
          "color": "#B0B6BE",
          "width": 2
         },
         "lon": [
          -70.38012454,
          -70.2159197
         ],
         "mode": "lines",
         "showlegend": false,
         "type": "scattergeo"
        },
        {
         "customdata": [
          [
           "Capricornio110->Antofag110",
           "Capricornio110",
           "Antofagasta110"
          ]
         ],
         "hovertemplate": "<b>%{customdata[0]}</b><br>From: %{customdata[1]}<br>To: %{customdata[2]}<extra></extra>",
         "lat": [
          -23.45790456,
          -23.63375689
         ],
         "line": {
          "color": "#B0B6BE",
          "width": 2
         },
         "lon": [
          -70.2159197,
          -70.38002992
         ],
         "mode": "lines",
         "showlegend": false,
         "type": "scattergeo"
        },
        {
         "customdata": [
          [
           "Capricornio110->ElNegro110",
           "Capricornio110",
           "ElNegro110"
          ]
         ],
         "hovertemplate": "<b>%{customdata[0]}</b><br>From: %{customdata[1]}<br>To: %{customdata[2]}<extra></extra>",
         "lat": [
          -23.45790456,
          -23.76733566
         ],
         "line": {
          "color": "#B0B6BE",
          "width": 2
         },
         "lon": [
          -70.2159197,
          -70.31865589
         ],
         "mode": "lines",
         "showlegend": false,
         "type": "scattergeo"
        },
        {
         "customdata": [
          [
           "Capricornio110->LaNegra110",
           "Capricornio110",
           "LaNegra110"
          ]
         ],
         "hovertemplate": "<b>%{customdata[0]}</b><br>From: %{customdata[1]}<br>To: %{customdata[2]}<extra></extra>",
         "lat": [
          -23.45790456,
          -23.78237326
         ],
         "line": {
          "color": "#B0B6BE",
          "width": 2
         },
         "lon": [
          -70.2159197,
          -70.32380264
         ],
         "mode": "lines",
         "showlegend": false,
         "type": "scattergeo"
        },
        {
         "customdata": [
          [
           "Capricornio220->Mantos220",
           "Capricornio220",
           "Mantos220"
          ]
         ],
         "hovertemplate": "<b>%{customdata[0]}</b><br>From: %{customdata[1]}<br>To: %{customdata[2]}<extra></extra>",
         "lat": [
          -23.63384538,
          -23.44615665
         ],
         "line": {
          "color": "#B0B6BE",
          "width": 2
         },
         "lon": [
          -70.38012454,
          -70.07568845
         ],
         "mode": "lines",
         "showlegend": false,
         "type": "scattergeo"
        },
        {
         "customdata": [
          [
           "Cardones220->CPinto220",
           "Cardones220",
           "CPinto220"
          ]
         ],
         "hovertemplate": "<b>%{customdata[0]}</b><br>From: %{customdata[1]}<br>To: %{customdata[2]}<extra></extra>",
         "lat": [
          -27.48905055,
          -27.00125636
         ],
         "line": {
          "color": "#B0B6BE",
          "width": 2
         },
         "lon": [
          -70.38556371,
          -69.90307544
         ],
         "mode": "lines",
         "showlegend": false,
         "type": "scattergeo"
        },
        {
         "customdata": [
          [
           "Cardones220->CPinto220_I",
           "Cardones220",
           "CPinto220"
          ]
         ],
         "hovertemplate": "<b>%{customdata[0]}</b><br>From: %{customdata[1]}<br>To: %{customdata[2]}<extra></extra>",
         "lat": [
          -27.48905055,
          -27.00125636
         ],
         "line": {
          "color": "#B0B6BE",
          "width": 2
         },
         "lon": [
          -70.38556371,
          -69.90307544
         ],
         "mode": "lines",
         "showlegend": false,
         "type": "scattergeo"
        },
        {
         "customdata": [
          [
           "Cardones220->CPinto220_II",
           "Cardones220",
           "CPinto220"
          ]
         ],
         "hovertemplate": "<b>%{customdata[0]}</b><br>From: %{customdata[1]}<br>To: %{customdata[2]}<extra></extra>",
         "lat": [
          -27.48905055,
          -27.00125636
         ],
         "line": {
          "color": "#B0B6BE",
          "width": 2
         },
         "lon": [
          -70.38556371,
          -69.90307544
         ],
         "mode": "lines",
         "showlegend": false,
         "type": "scattergeo"
        },
        {
         "customdata": [
          [
           "Cardones220->CPinto220_III",
           "Cardones220",
           "CPinto220"
          ]
         ],
         "hovertemplate": "<b>%{customdata[0]}</b><br>From: %{customdata[1]}<br>To: %{customdata[2]}<extra></extra>",
         "lat": [
          -27.48905055,
          -27.00125636
         ],
         "line": {
          "color": "#B0B6BE",
          "width": 2
         },
         "lon": [
          -70.38556371,
          -69.90307544
         ],
         "mode": "lines",
         "showlegend": false,
         "type": "scattergeo"
        },
        {
         "customdata": [
          [
           "Cardones220->Cardones110",
           "Cardones220",
           "Cardones110"
          ]
         ],
         "hovertemplate": "<b>%{customdata[0]}</b><br>From: %{customdata[1]}<br>To: %{customdata[2]}<extra></extra>",
         "lat": [
          -27.48905055,
          -27.48905055
         ],
         "line": {
          "color": "#B0B6BE",
          "width": 2
         },
         "lon": [
          -70.38556371,
          -70.38556371
         ],
         "mode": "lines",
         "showlegend": false,
         "type": "scattergeo"
        },
        {
         "customdata": [
          [
           "Cautin220->RioTolten220",
           "Cautin220",
           "RioTolten220"
          ]
         ],
         "hovertemplate": "<b>%{customdata[0]}</b><br>From: %{customdata[1]}<br>To: %{customdata[2]}<extra></extra>",
         "lat": [
          -38.72266961,
          -38.9775674378
         ],
         "line": {
          "color": "#B0B6BE",
          "width": 2
         },
         "lon": [
          -72.54153189,
          -72.6458666364
         ],
         "mode": "lines",
         "showlegend": false,
         "type": "scattergeo"
        },
        {
         "customdata": [
          [
           "Chacaya220->Capricornio220",
           "Chacaya220",
           "Capricornio220"
          ]
         ],
         "hovertemplate": "<b>%{customdata[0]}</b><br>From: %{customdata[1]}<br>To: %{customdata[2]}<extra></extra>",
         "lat": [
          -23.08944808,
          -23.63384538
         ],
         "line": {
          "color": "#B0B6BE",
          "width": 2
         },
         "lon": [
          -70.40933882,
          -70.38012454
         ],
         "mode": "lines",
         "showlegend": false,
         "type": "scattergeo"
        },
        {
         "customdata": [
          [
           "Chacaya220->ElCobre220",
           "Chacaya220",
           "ElCobre220"
          ]
         ],
         "hovertemplate": "<b>%{customdata[0]}</b><br>From: %{customdata[1]}<br>To: %{customdata[2]}<extra></extra>",
         "lat": [
          -23.08944808,
          -23.4543351
         ],
         "line": {
          "color": "#B0B6BE",
          "width": 2
         },
         "lon": [
          -70.40933882,
          -69.38294095
         ],
         "mode": "lines",
         "showlegend": false,
         "type": "scattergeo"
        },
        {
         "customdata": [
          [
           "Chacaya220->Mejillones220",
           "Chacaya220",
           "Mejillones220"
          ]
         ],
         "hovertemplate": "<b>%{customdata[0]}</b><br>From: %{customdata[1]}<br>To: %{customdata[2]}<extra></extra>",
         "lat": [
          -23.08944808,
          -23.09456488
         ],
         "line": {
          "color": "#B0B6BE",
          "width": 2
         },
         "lon": [
          -70.40933882,
          -70.41886191
         ],
         "mode": "lines",
         "showlegend": false,
         "type": "scattergeo"
        },
        {
         "customdata": [
          [
           "Charrua066->Cholguan066",
           "Charrua066",
           "Cholguan066"
          ]
         ],
         "hovertemplate": "<b>%{customdata[0]}</b><br>From: %{customdata[1]}<br>To: %{customdata[2]}<extra></extra>",
         "lat": [
          -37.09514251,
          -37.1650052
         ],
         "line": {
          "color": "#B0B6BE",
          "width": 2
         },
         "lon": [
          -72.32163459,
          -72.07323547
         ],
         "mode": "lines",
         "showlegend": false,
         "type": "scattergeo"
        },
        {
         "customdata": [
          [
           "Charrua154->Charrua066",
           "Charrua154",
           "Charrua066"
          ]
         ],
         "hovertemplate": "<b>%{customdata[0]}</b><br>From: %{customdata[1]}<br>To: %{customdata[2]}<extra></extra>",
         "lat": [
          -37.09514251,
          -37.09514251
         ],
         "line": {
          "color": "#B0B6BE",
          "width": 2
         },
         "lon": [
          -72.32163459,
          -72.32163459
         ],
         "mode": "lines",
         "showlegend": false,
         "type": "scattergeo"
        },
        {
         "customdata": [
          [
           "Charrua154->Chillan154",
           "Charrua154",
           "Chillan154"
          ]
         ],
         "hovertemplate": "<b>%{customdata[0]}</b><br>From: %{customdata[1]}<br>To: %{customdata[2]}<extra></extra>",
         "lat": [
          -37.09514251,
          -36.62564235
         ],
         "line": {
          "color": "#B0B6BE",
          "width": 2
         },
         "lon": [
          -72.32163459,
          -72.09265724
         ],
         "mode": "lines",
         "showlegend": false,
         "type": "scattergeo"
        },
        {
         "customdata": [
          [
           "Charrua154->Conce154",
           "Charrua154",
           "Concepcion154"
          ]
         ],
         "hovertemplate": "<b>%{customdata[0]}</b><br>From: %{customdata[1]}<br>To: %{customdata[2]}<extra></extra>",
         "lat": [
          -37.09514251,
          -36.80447967
         ],
         "line": {
          "color": "#B0B6BE",
          "width": 2
         },
         "lon": [
          -72.32163459,
          -73.03240419
         ],
         "mode": "lines",
         "showlegend": false,
         "type": "scattergeo"
        },
        {
         "customdata": [
          [
           "Charrua154->Parral154",
           "Charrua154",
           "Parral154"
          ]
         ],
         "hovertemplate": "<b>%{customdata[0]}</b><br>From: %{customdata[1]}<br>To: %{customdata[2]}<extra></extra>",
         "lat": [
          -37.09514251,
          -36.13230152
         ],
         "line": {
          "color": "#B0B6BE",
          "width": 2
         },
         "lon": [
          -72.32163459,
          -71.80432207
         ],
         "mode": "lines",
         "showlegend": false,
         "type": "scattergeo"
        },
        {
         "customdata": [
          [
           "Charrua220->Charrua154",
           "Charrua220",
           "Charrua154"
          ]
         ],
         "hovertemplate": "<b>%{customdata[0]}</b><br>From: %{customdata[1]}<br>To: %{customdata[2]}<extra></extra>",
         "lat": [
          -37.09514251,
          -37.09514251
         ],
         "line": {
          "color": "#B0B6BE",
          "width": 2
         },
         "lon": [
          -72.32163459,
          -72.32163459
         ],
         "mode": "lines",
         "showlegend": false,
         "type": "scattergeo"
        },
        {
         "customdata": [
          [
           "Charrua220->Charrua500",
           "Charrua220",
           "Charrua500"
          ]
         ],
         "hovertemplate": "<b>%{customdata[0]}</b><br>From: %{customdata[1]}<br>To: %{customdata[2]}<extra></extra>",
         "lat": [
          -37.09514251,
          -37.09514251
         ],
         "line": {
          "color": "#B0B6BE",
          "width": 2
         },
         "lon": [
          -72.32163459,
          -72.32163459
         ],
         "mode": "lines",
         "showlegend": false,
         "type": "scattergeo"
        },
        {
         "customdata": [
          [
           "Charrua220->Conce154",
           "Charrua220",
           "Concepcion154"
          ]
         ],
         "hovertemplate": "<b>%{customdata[0]}</b><br>From: %{customdata[1]}<br>To: %{customdata[2]}<extra></extra>",
         "lat": [
          -37.09514251,
          -36.80447967
         ],
         "line": {
          "color": "#B0B6BE",
          "width": 2
         },
         "lon": [
          -72.32163459,
          -73.03240419
         ],
         "mode": "lines",
         "showlegend": false,
         "type": "scattergeo"
        },
        {
         "customdata": [
          [
           "Charrua220->Duqueco220",
           "Charrua220",
           "Duqueco220"
          ]
         ],
         "hovertemplate": "<b>%{customdata[0]}</b><br>From: %{customdata[1]}<br>To: %{customdata[2]}<extra></extra>",
         "lat": [
          -37.09514251,
          -37.51835365
         ],
         "line": {
          "color": "#B0B6BE",
          "width": 2
         },
         "lon": [
          -72.32163459,
          -72.32264893
         ],
         "mode": "lines",
         "showlegend": false,
         "type": "scattergeo"
        },
        {
         "customdata": [
          [
           "Charrua220->EntreRios220",
           "Charrua220",
           "EntreRios220"
          ]
         ],
         "hovertemplate": "<b>%{customdata[0]}</b><br>From: %{customdata[1]}<br>To: %{customdata[2]}<extra></extra>",
         "lat": [
          -37.09514251,
          -35.68185977
         ],
         "line": {
          "color": "#B0B6BE",
          "width": 2
         },
         "lon": [
          -72.32163459,
          -71.3772166
         ],
         "mode": "lines",
         "showlegend": false,
         "type": "scattergeo"
        },
        {
         "customdata": [
          [
           "Charrua220->Hualpen220",
           "Charrua220",
           "Hualpen220"
          ]
         ],
         "hovertemplate": "<b>%{customdata[0]}</b><br>From: %{customdata[1]}<br>To: %{customdata[2]}<extra></extra>",
         "lat": [
          -37.09514251,
          -36.78803072
         ],
         "line": {
          "color": "#B0B6BE",
          "width": 2
         },
         "lon": [
          -72.32163459,
          -73.12101735
         ],
         "mode": "lines",
         "showlegend": false,
         "type": "scattergeo"
        },
        {
         "customdata": [
          [
           "Charrua220->Lagunillas220",
           "Charrua220",
           "Lagunillas220"
          ]
         ],
         "hovertemplate": "<b>%{customdata[0]}</b><br>From: %{customdata[1]}<br>To: %{customdata[2]}<extra></extra>",
         "lat": [
          -37.09514251,
          -36.98788044
         ],
         "line": {
          "color": "#B0B6BE",
          "width": 2
         },
         "lon": [
          -72.32163459,
          -73.13353787
         ],
         "mode": "lines",
         "showlegend": false,
         "type": "scattergeo"
        },
        {
         "customdata": [
          [
           "Charrua220->Mulchen220",
           "Charrua220",
           "Mulchen220"
          ]
         ],
         "hovertemplate": "<b>%{customdata[0]}</b><br>From: %{customdata[1]}<br>To: %{customdata[2]}<extra></extra>",
         "lat": [
          -37.09514251,
          -37.68117984
         ],
         "line": {
          "color": "#B0B6BE",
          "width": 2
         },
         "lon": [
          -72.32163459,
          -72.25394467
         ],
         "mode": "lines",
         "showlegend": false,
         "type": "scattergeo"
        },
        {
         "customdata": [
          [
           "Charrua220->Ralco220",
           "Charrua220",
           "Ralco220"
          ]
         ],
         "hovertemplate": "<b>%{customdata[0]}</b><br>From: %{customdata[1]}<br>To: %{customdata[2]}<extra></extra>",
         "lat": [
          -37.09514251,
          -37.99861778
         ],
         "line": {
          "color": "#B0B6BE",
          "width": 2
         },
         "lon": [
          -72.32163459,
          -71.51728022
         ],
         "mode": "lines",
         "showlegend": false,
         "type": "scattergeo"
        },
        {
         "customdata": [
          [
           "Charrua500->Ancoa500",
           "Charrua500",
           "Ancoa500"
          ]
         ],
         "hovertemplate": "<b>%{customdata[0]}</b><br>From: %{customdata[1]}<br>To: %{customdata[2]}<extra></extra>",
         "lat": [
          -37.09514251,
          -35.68185977
         ],
         "line": {
          "color": "#B0B6BE",
          "width": 2
         },
         "lon": [
          -72.32163459,
          -71.3772166
         ],
         "mode": "lines",
         "showlegend": false,
         "type": "scattergeo"
        },
        {
         "customdata": [
          [
           "Chena110->LoEspejo110",
           "Chena110",
           "LoEspejo110"
          ]
         ],
         "hovertemplate": "<b>%{customdata[0]}</b><br>From: %{customdata[1]}<br>To: %{customdata[2]}<extra></extra>",
         "lat": [
          -33.5260631,
          -33.53049274
         ],
         "line": {
          "color": "#B0B6BE",
          "width": 2
         },
         "lon": [
          -70.72505653,
          -70.71193238
         ],
         "mode": "lines",
         "showlegend": false,
         "type": "scattergeo"
        },
        {
         "customdata": [
          [
           "Chena220->Chena110",
           "Chena220",
           "Chena110"
          ]
         ],
         "hovertemplate": "<b>%{customdata[0]}</b><br>From: %{customdata[1]}<br>To: %{customdata[2]}<extra></extra>",
         "lat": [
          -33.5260631,
          -33.5260631
         ],
         "line": {
          "color": "#B0B6BE",
          "width": 2
         },
         "lon": [
          -70.72505653,
          -70.72505653
         ],
         "mode": "lines",
         "showlegend": false,
         "type": "scattergeo"
        },
        {
         "customdata": [
          [
           "Chillan154->SantaElvira066",
           "Chillan154",
           "SantaElvira066"
          ]
         ],
         "hovertemplate": "<b>%{customdata[0]}</b><br>From: %{customdata[1]}<br>To: %{customdata[2]}<extra></extra>",
         "lat": [
          -36.62564235,
          -36.66204224
         ],
         "line": {
          "color": "#B0B6BE",
          "width": 2
         },
         "lon": [
          -72.09265724,
          -72.47817495
         ],
         "mode": "lines",
         "showlegend": false,
         "type": "scattergeo"
        },
        {
         "customdata": [
          [
           "Chiloe110->Degan110",
           "Chiloe110",
           "Degan110"
          ]
         ],
         "hovertemplate": "<b>%{customdata[0]}</b><br>From: %{customdata[1]}<br>To: %{customdata[2]}<extra></extra>",
         "lat": [
          -42.14432067,
          -42.14504283
         ],
         "line": {
          "color": "#B0B6BE",
          "width": 2
         },
         "lon": [
          -73.71423445,
          -73.71474949
         ],
         "mode": "lines",
         "showlegend": false,
         "type": "scattergeo"
        },
        {
         "customdata": [
          [
           "Chiloe110->Pid-Pid110",
           "Chiloe110",
           "Pid-Pid110"
          ]
         ],
         "hovertemplate": "<b>%{customdata[0]}</b><br>From: %{customdata[1]}<br>To: %{customdata[2]}<extra></extra>",
         "lat": [
          -42.14432067,
          -42.41539858
         ],
         "line": {
          "color": "#B0B6BE",
          "width": 2
         },
         "lon": [
          -73.71423445,
          -73.77325955
         ],
         "mode": "lines",
         "showlegend": false,
         "type": "scattergeo"
        },
        {
         "customdata": [
          [
           "Cholguan220->Charrua220",
           "Cholguan220",
           "Charrua220"
          ]
         ],
         "hovertemplate": "<b>%{customdata[0]}</b><br>From: %{customdata[1]}<br>To: %{customdata[2]}<extra></extra>",
         "lat": [
          -37.1650052,
          -37.09514251
         ],
         "line": {
          "color": "#B0B6BE",
          "width": 2
         },
         "lon": [
          -72.07323547,
          -72.32163459
         ],
         "mode": "lines",
         "showlegend": false,
         "type": "scattergeo"
        },
        {
         "customdata": [
          [
           "Chuqui220->Chuqui100",
           "Chuquicamata220",
           "Chuquicamata100"
          ]
         ],
         "hovertemplate": "<b>%{customdata[0]}</b><br>From: %{customdata[1]}<br>To: %{customdata[2]}<extra></extra>",
         "lat": [
          -22.30449354,
          -22.30449354
         ],
         "line": {
          "color": "#B0B6BE",
          "width": 2
         },
         "lon": [
          -68.91880509,
          -68.91880509
         ],
         "mode": "lines",
         "showlegend": false,
         "type": "scattergeo"
        },
        {
         "customdata": [
          [
           "Chuquicamata100->S-AA100",
           "Chuquicamata100",
           "S-AA100"
          ]
         ],
         "hovertemplate": "<b>%{customdata[0]}</b><br>From: %{customdata[1]}<br>To: %{customdata[2]}<extra></extra>",
         "lat": [
          -22.30449354,
          -22.30636356
         ],
         "line": {
          "color": "#B0B6BE",
          "width": 2
         },
         "lon": [
          -68.91880509,
          -68.9186875
         ],
         "mode": "lines",
         "showlegend": false,
         "type": "scattergeo"
        },
        {
         "customdata": [
          [
           "Chuquicamata100->S-Km6100",
           "Chuquicamata100",
           "S-Km6100"
          ]
         ],
         "hovertemplate": "<b>%{customdata[0]}</b><br>From: %{customdata[1]}<br>To: %{customdata[2]}<extra></extra>",
         "lat": [
          -22.30449354,
          -22.32346212
         ],
         "line": {
          "color": "#B0B6BE",
          "width": 2
         },
         "lon": [
          -68.91880509,
          -68.88376968
         ],
         "mode": "lines",
         "showlegend": false,
         "type": "scattergeo"
        },
        {
         "customdata": [
          [
           "Cipreses154->Itahue154",
           "Cipreses154",
           "Itahue154"
          ]
         ],
         "hovertemplate": "<b>%{customdata[0]}</b><br>From: %{customdata[1]}<br>To: %{customdata[2]}<extra></extra>",
         "lat": [
          -35.78621959,
          -35.13927033
         ],
         "line": {
          "color": "#B0B6BE",
          "width": 2
         },
         "lon": [
          -70.81198246,
          -71.36725314
         ],
         "mode": "lines",
         "showlegend": false,
         "type": "scattergeo"
        },
        {
         "customdata": [
          [
           "Ciruelos220->Prropulli220",
           "Ciruelos220",
           "Pichirropulli220"
          ]
         ],
         "hovertemplate": "<b>%{customdata[0]}</b><br>From: %{customdata[1]}<br>To: %{customdata[2]}<extra></extra>",
         "lat": [
          -39.54932181,
          -40.16044682
         ],
         "line": {
          "color": "#B0B6BE",
          "width": 2
         },
         "lon": [
          -72.91114846,
          -72.88749473
         ],
         "mode": "lines",
         "showlegend": false,
         "type": "scattergeo"
        },
        {
         "customdata": [
          [
           "Ciruelos220->Valdivia220",
           "Ciruelos220",
           "Valdivia220"
          ]
         ],
         "hovertemplate": "<b>%{customdata[0]}</b><br>From: %{customdata[1]}<br>To: %{customdata[2]}<extra></extra>",
         "lat": [
          -39.54932181,
          -39.80128458
         ],
         "line": {
          "color": "#B0B6BE",
          "width": 2
         },
         "lon": [
          -72.91114846,
          -73.18546441
         ],
         "mode": "lines",
         "showlegend": false,
         "type": "scattergeo"
        },
        {
         "customdata": [
          [
           "Cochrane220->Encuentro220",
           "Cochrane220",
           "Crucero220"
          ]
         ],
         "hovertemplate": "<b>%{customdata[0]}</b><br>From: %{customdata[1]}<br>To: %{customdata[2]}<extra></extra>",
         "lat": [
          -23.06564269,
          -22.27382315
         ],
         "line": {
          "color": "#B0B6BE",
          "width": 2
         },
         "lon": [
          -70.36387967,
          -69.56595287
         ],
         "mode": "lines",
         "showlegend": false,
         "type": "scattergeo"
        },
        {
         "customdata": [
          [
           "Colbun220->Ancoa220",
           "Colbun220",
           "Ancoa220"
          ]
         ],
         "hovertemplate": "<b>%{customdata[0]}</b><br>From: %{customdata[1]}<br>To: %{customdata[2]}<extra></extra>",
         "lat": [
          -35.68616206,
          -35.68185977
         ],
         "line": {
          "color": "#B0B6BE",
          "width": 2
         },
         "lon": [
          -71.37662613,
          -71.3772166
         ],
         "mode": "lines",
         "showlegend": false,
         "type": "scattergeo"
        },
        {
         "customdata": [
          [
           "Colbun220->PNegro220",
           "Colbun220",
           "PNegro220"
          ]
         ],
         "hovertemplate": "<b>%{customdata[0]}</b><br>From: %{customdata[1]}<br>To: %{customdata[2]}<extra></extra>",
         "lat": [
          -35.68616206,
          -34.68918029
         ],
         "line": {
          "color": "#B0B6BE",
          "width": 2
         },
         "lon": [
          -71.37662613,
          -70.89708288
         ],
         "mode": "lines",
         "showlegend": false,
         "type": "scattergeo"
        },
        {
         "customdata": [
          [
           "Conce154->Conce066",
           "Concepcion154",
           "Concepcion066"
          ]
         ],
         "hovertemplate": "<b>%{customdata[0]}</b><br>From: %{customdata[1]}<br>To: %{customdata[2]}<extra></extra>",
         "lat": [
          -36.80447967,
          -36.80447967
         ],
         "line": {
          "color": "#B0B6BE",
          "width": 2
         },
         "lon": [
          -73.03240419,
          -73.03240419
         ],
         "mode": "lines",
         "showlegend": false,
         "type": "scattergeo"
        },
        {
         "customdata": [
          [
           "Conce154->SVicente154",
           "Concepcion154",
           "SVicente154"
          ]
         ],
         "hovertemplate": "<b>%{customdata[0]}</b><br>From: %{customdata[1]}<br>To: %{customdata[2]}<extra></extra>",
         "lat": [
          -36.80447967,
          -36.7473714
         ],
         "line": {
          "color": "#B0B6BE",
          "width": 2
         },
         "lon": [
          -73.03240419,
          -73.12387994
         ],
         "mode": "lines",
         "showlegend": false,
         "type": "scattergeo"
        },
        {
         "customdata": [
          [
           "Coronel154->Coronel066",
           "Coronel154",
           "Coronel066"
          ]
         ],
         "hovertemplate": "<b>%{customdata[0]}</b><br>From: %{customdata[1]}<br>To: %{customdata[2]}<extra></extra>",
         "lat": [
          -37.00881822,
          -36.96743519
         ],
         "line": {
          "color": "#B0B6BE",
          "width": 2
         },
         "lon": [
          -73.15198545,
          -73.16919521
         ],
         "mode": "lines",
         "showlegend": false,
         "type": "scattergeo"
        },
        {
         "customdata": [
          [
           "Coronel154->Horcones066",
           "Coronel154",
           "Horcones066"
          ]
         ],
         "hovertemplate": "<b>%{customdata[0]}</b><br>From: %{customdata[1]}<br>To: %{customdata[2]}<extra></extra>",
         "lat": [
          -37.00881822,
          -37.21245181
         ],
         "line": {
          "color": "#B0B6BE",
          "width": 2
         },
         "lon": [
          -73.15198545,
          -73.21629714
         ],
         "mode": "lines",
         "showlegend": false,
         "type": "scattergeo"
        },
        {
         "customdata": [
          [
           "Coronel66->Conce066",
           "Coronel066",
           "Concepcion066"
          ]
         ],
         "hovertemplate": "<b>%{customdata[0]}</b><br>From: %{customdata[1]}<br>To: %{customdata[2]}<extra></extra>",
         "lat": [
          -36.96743519,
          -36.80447967
         ],
         "line": {
          "color": "#B0B6BE",
          "width": 2
         },
         "lon": [
          -73.16919521,
          -73.03240419
         ],
         "mode": "lines",
         "showlegend": false,
         "type": "scattergeo"
        },
        {
         "customdata": [
          [
           "Crucero220->Barriles220",
           "Crucero220",
           "Barriles220"
          ]
         ],
         "hovertemplate": "<b>%{customdata[0]}</b><br>From: %{customdata[1]}<br>To: %{customdata[2]}<extra></extra>",
         "lat": [
          -22.27382315,
          -22.16434148
         ],
         "line": {
          "color": "#B0B6BE",
          "width": 2
         },
         "lon": [
          -69.56595287,
          -70.06709823
         ],
         "mode": "lines",
         "showlegend": false,
         "type": "scattergeo"
        },
        {
         "customdata": [
          [
           "Crucero220->Chacaya220",
           "Crucero220",
           "Chacaya220"
          ]
         ],
         "hovertemplate": "<b>%{customdata[0]}</b><br>From: %{customdata[1]}<br>To: %{customdata[2]}<extra></extra>",
         "lat": [
          -22.27382315,
          -23.08944808
         ],
         "line": {
          "color": "#B0B6BE",
          "width": 2
         },
         "lon": [
          -69.56595287,
          -70.40933882
         ],
         "mode": "lines",
         "showlegend": false,
         "type": "scattergeo"
        },
        {
         "customdata": [
          [
           "Crucero220->Chuquicamata220",
           "Crucero220",
           "Chuquicamata220"
          ]
         ],
         "hovertemplate": "<b>%{customdata[0]}</b><br>From: %{customdata[1]}<br>To: %{customdata[2]}<extra></extra>",
         "lat": [
          -22.27382315,
          -22.30449354
         ],
         "line": {
          "color": "#B0B6BE",
          "width": 2
         },
         "lon": [
          -69.56595287,
          -68.91880509
         ],
         "mode": "lines",
         "showlegend": false,
         "type": "scattergeo"
        },
        {
         "customdata": [
          [
           "Crucero220->Conchi220",
           "Crucero220",
           "Conchi220"
          ]
         ],
         "hovertemplate": "<b>%{customdata[0]}</b><br>From: %{customdata[1]}<br>To: %{customdata[2]}<extra></extra>",
         "lat": [
          -22.27382315,
          -21.85615699
         ],
         "line": {
          "color": "#B0B6BE",
          "width": 2
         },
         "lon": [
          -69.56595287,
          -68.15517226
         ],
         "mode": "lines",
         "showlegend": false,
         "type": "scattergeo"
        },
        {
         "customdata": [
          [
           "Crucero220->ElLoa220",
           "Crucero220",
           "ElLoa220"
          ]
         ],
         "hovertemplate": "<b>%{customdata[0]}</b><br>From: %{customdata[1]}<br>To: %{customdata[2]}<extra></extra>",
         "lat": [
          -22.27382315,
          -22.35040829
         ],
         "line": {
          "color": "#B0B6BE",
          "width": 2
         },
         "lon": [
          -69.56595287,
          -69.63301934
         ],
         "mode": "lines",
         "showlegend": false,
         "type": "scattergeo"
        },
        {
         "customdata": [
          [
           "Crucero220->LaCruz220",
           "Crucero220",
           "LaCruz220"
          ]
         ],
         "hovertemplate": "<b>%{customdata[0]}</b><br>From: %{customdata[1]}<br>To: %{customdata[2]}<extra></extra>",
         "lat": [
          -22.27382315,
          -22.27916343
         ],
         "line": {
          "color": "#B0B6BE",
          "width": 2
         },
         "lon": [
          -69.56595287,
          -69.65903231
         ],
         "mode": "lines",
         "showlegend": false,
         "type": "scattergeo"
        },
        {
         "customdata": [
          [
           "Crucero220->Laberinto220",
           "Crucero220",
           "Laberinto220"
          ]
         ],
         "hovertemplate": "<b>%{customdata[0]}</b><br>From: %{customdata[1]}<br>To: %{customdata[2]}<extra></extra>",
         "lat": [
          -22.27382315,
          -23.44672675
         ],
         "line": {
          "color": "#B0B6BE",
          "width": 2
         },
         "lon": [
          -69.56595287,
          -69.40894139
         ],
         "mode": "lines",
         "showlegend": false,
         "type": "scattergeo"
        },
        {
         "customdata": [
          [
           "Crucero220->MariaElena220",
           "Crucero220",
           "MariaElena220"
          ]
         ],
         "hovertemplate": "<b>%{customdata[0]}</b><br>From: %{customdata[1]}<br>To: %{customdata[2]}<extra></extra>",
         "lat": [
          -22.27382315,
          -22.21425464
         ],
         "line": {
          "color": "#B0B6BE",
          "width": 2
         },
         "lon": [
          -69.56595287,
          -69.57835569
         ],
         "mode": "lines",
         "showlegend": false,
         "type": "scattergeo"
        },
        {
         "customdata": [
          [
           "Crucero220->Salar220",
           "Crucero220",
           "Salar220"
          ]
         ],
         "hovertemplate": "<b>%{customdata[0]}</b><br>From: %{customdata[1]}<br>To: %{customdata[2]}<extra></extra>",
         "lat": [
          -22.27382315,
          -22.34091926
         ],
         "line": {
          "color": "#B0B6BE",
          "width": 2
         },
         "lon": [
          -69.56595287,
          -68.87576278
         ],
         "mode": "lines",
         "showlegend": false,
         "type": "scattergeo"
        },
        {
         "customdata": [
          [
           "Crucero220->Tocopilla220",
           "Crucero220",
           "Tocopilla220_BP1"
          ]
         ],
         "hovertemplate": "<b>%{customdata[0]}</b><br>From: %{customdata[1]}<br>To: %{customdata[2]}<extra></extra>",
         "lat": [
          -22.27382315,
          -22.09787585
         ],
         "line": {
          "color": "#B0B6BE",
          "width": 2
         },
         "lon": [
          -69.56595287,
          -70.21198676
         ],
         "mode": "lines",
         "showlegend": false,
         "type": "scattergeo"
        },
        {
         "customdata": [
          [
           "Cumbres500->NvaCardones500",
           "Cumbres500",
           "NvaCardones500"
          ]
         ],
         "hovertemplate": "<b>%{customdata[0]}</b><br>From: %{customdata[1]}<br>To: %{customdata[2]}<extra></extra>",
         "lat": [
          -26.25595341,
          -27.51693235
         ],
         "line": {
          "color": "#B0B6BE",
          "width": 2
         },
         "lon": [
          -69.98811534,
          -70.4205373
         ],
         "mode": "lines",
         "showlegend": false,
         "type": "scattergeo"
        },
        {
         "customdata": [
          [
           "Cumbres500_SC->NvaCardones500_SC",
           "Cumbres500",
           "NvaCardones500"
          ]
         ],
         "hovertemplate": "<b>%{customdata[0]}</b><br>From: %{customdata[1]}<br>To: %{customdata[2]}<extra></extra>",
         "lat": [
          -26.25595341,
          -27.51693235
         ],
         "line": {
          "color": "#B0B6BE",
          "width": 2
         },
         "lon": [
          -69.98811534,
          -70.4205373
         ],
         "mode": "lines",
         "showlegend": false,
         "type": "scattergeo"
        },
        {
         "customdata": [
          [
           "DAlmagro220->DAlmagro110",
           "DAlmagro110",
           "DAlmagro220"
          ]
         ],
         "hovertemplate": "<b>%{customdata[0]}</b><br>From: %{customdata[1]}<br>To: %{customdata[2]}<extra></extra>",
         "lat": [
          -26.39828468,
          -26.39828468
         ],
         "line": {
          "color": "#B0B6BE",
          "width": 2
         },
         "lon": [
          -70.03730551,
          -70.03730551
         ],
         "mode": "lines",
         "showlegend": false,
         "type": "scattergeo"
        },
        {
         "customdata": [
          [
           "DArica066->Arica066",
           "DArica066",
           "Arica066"
          ]
         ],
         "hovertemplate": "<b>%{customdata[0]}</b><br>From: %{customdata[1]}<br>To: %{customdata[2]}<extra></extra>",
         "lat": [
          -18.46744423,
          -18.48540715
         ],
         "line": {
          "color": "#B0B6BE",
          "width": 2
         },
         "lon": [
          -70.30349684,
          -70.28916166
         ],
         "mode": "lines",
         "showlegend": false,
         "type": "scattergeo"
        },
        {
         "customdata": [
          [
           "DonGoyo220->LaCebada220",
           "DonGoyo220",
           "LaCebada220"
          ]
         ],
         "hovertemplate": "<b>%{customdata[0]}</b><br>From: %{customdata[1]}<br>To: %{customdata[2]}<extra></extra>",
         "lat": [
          -30.57328212,
          -31.03319871
         ],
         "line": {
          "color": "#B0B6BE",
          "width": 2
         },
         "lon": [
          -71.49763099,
          -71.61416093
         ],
         "mode": "lines",
         "showlegend": false,
         "type": "scattergeo"
        },
        {
         "customdata": [
          [
           "DonGoyo220->Talinay220",
           "DonGoyo220",
           "Talinay220"
          ]
         ],
         "hovertemplate": "<b>%{customdata[0]}</b><br>From: %{customdata[1]}<br>To: %{customdata[2]}<extra></extra>",
         "lat": [
          -30.57328212,
          -30.86354043
         ],
         "line": {
          "color": "#B0B6BE",
          "width": 2
         },
         "lon": [
          -71.49763099,
          -71.59783353
         ],
         "mode": "lines",
         "showlegend": false,
         "type": "scattergeo"
        },
        {
         "customdata": [
          [
           "DonHector220->PColorada220",
           "DonHector220",
           "PColorada220"
          ]
         ],
         "hovertemplate": "<b>%{customdata[0]}</b><br>From: %{customdata[1]}<br>To: %{customdata[2]}<extra></extra>",
         "lat": [
          -29.110999,
          -29.36818829
         ],
         "line": {
          "color": "#B0B6BE",
          "width": 2
         },
         "lon": [
          -70.919114,
          -71.04761699
         ],
         "mode": "lines",
         "showlegend": false,
         "type": "scattergeo"
        },
        {
         "customdata": [
          [
           "DonaCarmen220->Nogales220",
           "DonaCarmen220",
           "Nogales220"
          ]
         ],
         "hovertemplate": "<b>%{customdata[0]}</b><br>From: %{customdata[1]}<br>To: %{customdata[2]}<extra></extra>",
         "lat": [
          -32.47975491209993,
          -32.71983344
         ],
         "line": {
          "color": "#B0B6BE",
          "width": 2
         },
         "lon": [
          -71.25202519681623,
          -71.22673239
         ],
         "mode": "lines",
         "showlegend": false,
         "type": "scattergeo"
        },
        {
         "customdata": [
          [
           "Duqueco220->Temuco220",
           "Duqueco220",
           "Temuco220"
          ]
         ],
         "hovertemplate": "<b>%{customdata[0]}</b><br>From: %{customdata[1]}<br>To: %{customdata[2]}<extra></extra>",
         "lat": [
          -37.51835365,
          -38.70875688
         ],
         "line": {
          "color": "#B0B6BE",
          "width": 2
         },
         "lon": [
          -72.32264893,
          -72.55779703
         ],
         "mode": "lines",
         "showlegend": false,
         "type": "scattergeo"
        },
        {
         "customdata": [
          [
           "ElCobre220->Esperanza220",
           "ElCobre220",
           "Esperanza220"
          ]
         ],
         "hovertemplate": "<b>%{customdata[0]}</b><br>From: %{customdata[1]}<br>To: %{customdata[2]}<extra></extra>",
         "lat": [
          -23.4543351,
          -22.99920346
         ],
         "line": {
          "color": "#B0B6BE",
          "width": 2
         },
         "lon": [
          -69.38294095,
          -69.09882695
         ],
         "mode": "lines",
         "showlegend": false,
         "type": "scattergeo"
        },
        {
         "customdata": [
          [
           "ElLoa220->Tocopilla220",
           "ElLoa220",
           "Tocopilla220_BP1"
          ]
         ],
         "hovertemplate": "<b>%{customdata[0]}</b><br>From: %{customdata[1]}<br>To: %{customdata[2]}<extra></extra>",
         "lat": [
          -22.35040829,
          -22.09787585
         ],
         "line": {
          "color": "#B0B6BE",
          "width": 2
         },
         "lon": [
          -69.63301934,
          -70.21198676
         ],
         "mode": "lines",
         "showlegend": false,
         "type": "scattergeo"
        },
        {
         "customdata": [
          [
           "ElNegro110->AltoNorte110",
           "ElNegro110",
           "AltoNorte110"
          ]
         ],
         "hovertemplate": "<b>%{customdata[0]}</b><br>From: %{customdata[1]}<br>To: %{customdata[2]}<extra></extra>",
         "lat": [
          -23.76733566,
          -23.82647607
         ],
         "line": {
          "color": "#B0B6BE",
          "width": 2
         },
         "lon": [
          -70.31865589,
          -70.32005799
         ],
         "mode": "lines",
         "showlegend": false,
         "type": "scattergeo"
        },
        {
         "customdata": [
          [
           "ElSalto110->SCristobal110",
           "ElSalto110",
           "SCristobal110"
          ]
         ],
         "hovertemplate": "<b>%{customdata[0]}</b><br>From: %{customdata[1]}<br>To: %{customdata[2]}<extra></extra>",
         "lat": [
          -33.35807858,
          -33.42689702
         ],
         "line": {
          "color": "#B0B6BE",
          "width": 2
         },
         "lon": [
          -70.62855013,
          -70.63886873
         ],
         "mode": "lines",
         "showlegend": false,
         "type": "scattergeo"
        },
        {
         "customdata": [
          [
           "ElTesoro220->Esperanza220",
           "ElTesoro220",
           "Esperanza220"
          ]
         ],
         "hovertemplate": "<b>%{customdata[0]}</b><br>From: %{customdata[1]}<br>To: %{customdata[2]}<extra></extra>",
         "lat": [
          -22.92614076,
          -22.99920346
         ],
         "line": {
          "color": "#B0B6BE",
          "width": 2
         },
         "lon": [
          -69.09869585,
          -69.09882695
         ],
         "mode": "lines",
         "showlegend": false,
         "type": "scattergeo"
        },
        {
         "customdata": [
          [
           "Encuentro220->Colla220",
           "Crucero220",
           "Collahuasi220"
          ]
         ],
         "hovertemplate": "<b>%{customdata[0]}</b><br>From: %{customdata[1]}<br>To: %{customdata[2]}<extra></extra>",
         "lat": [
          -22.27382315,
          -20.97682751
         ],
         "line": {
          "color": "#B0B6BE",
          "width": 2
         },
         "lon": [
          -69.56595287,
          -68.63644363
         ],
         "mode": "lines",
         "showlegend": false,
         "type": "scattergeo"
        },
        {
         "customdata": [
          [
           "Encuentro220->ElTesoro220",
           "Crucero220",
           "ElTesoro220"
          ]
         ],
         "hovertemplate": "<b>%{customdata[0]}</b><br>From: %{customdata[1]}<br>To: %{customdata[2]}<extra></extra>",
         "lat": [
          -22.27382315,
          -22.92614076
         ],
         "line": {
          "color": "#B0B6BE",
          "width": 2
         },
         "lon": [
          -69.56595287,
          -69.09869585
         ],
         "mode": "lines",
         "showlegend": false,
         "type": "scattergeo"
        },
        {
         "customdata": [
          [
           "Encuentro220->Lagunas220",
           "Crucero220",
           "Lagunas220"
          ]
         ],
         "hovertemplate": "<b>%{customdata[0]}</b><br>From: %{customdata[1]}<br>To: %{customdata[2]}<extra></extra>",
         "lat": [
          -22.27382315,
          -20.81453152
         ],
         "line": {
          "color": "#B0B6BE",
          "width": 2
         },
         "lon": [
          -69.56595287,
          -69.69405143
         ],
         "mode": "lines",
         "showlegend": false,
         "type": "scattergeo"
        },
        {
         "customdata": [
          [
           "Encuentro220->Miraje220",
           "Crucero220",
           "Miraje220"
          ]
         ],
         "hovertemplate": "<b>%{customdata[0]}</b><br>From: %{customdata[1]}<br>To: %{customdata[2]}<extra></extra>",
         "lat": [
          -22.27382315,
          -22.42027874
         ],
         "line": {
          "color": "#B0B6BE",
          "width": 2
         },
         "lon": [
          -69.56595287,
          -69.52629858
         ],
         "mode": "lines",
         "showlegend": false,
         "type": "scattergeo"
        },
        {
         "customdata": [
          [
           "EntreRios500->Ancoa500",
           "EntreRios500",
           "Ancoa500"
          ]
         ],
         "hovertemplate": "<b>%{customdata[0]}</b><br>From: %{customdata[1]}<br>To: %{customdata[2]}<extra></extra>",
         "lat": [
          -35.68185977,
          -35.68185977
         ],
         "line": {
          "color": "#B0B6BE",
          "width": 2
         },
         "lon": [
          -71.3772166,
          -71.3772166
         ],
         "mode": "lines",
         "showlegend": false,
         "type": "scattergeo"
        },
        {
         "customdata": [
          [
           "EntreRios500->Charrua500",
           "EntreRios500",
           "Charrua500"
          ]
         ],
         "hovertemplate": "<b>%{customdata[0]}</b><br>From: %{customdata[1]}<br>To: %{customdata[2]}<extra></extra>",
         "lat": [
          -35.68185977,
          -37.09514251
         ],
         "line": {
          "color": "#B0B6BE",
          "width": 2
         },
         "lon": [
          -71.3772166,
          -72.32163459
         ],
         "mode": "lines",
         "showlegend": false,
         "type": "scattergeo"
        },
        {
         "customdata": [
          [
           "EntreRios500->EntreRios220",
           "EntreRios500",
           "EntreRios220"
          ]
         ],
         "hovertemplate": "<b>%{customdata[0]}</b><br>From: %{customdata[1]}<br>To: %{customdata[2]}<extra></extra>",
         "lat": [
          -35.68185977,
          -35.68185977
         ],
         "line": {
          "color": "#B0B6BE",
          "width": 2
         },
         "lon": [
          -71.3772166,
          -71.3772166
         ],
         "mode": "lines",
         "showlegend": false,
         "type": "scattergeo"
        },
        {
         "customdata": [
          [
           "Esmeralda110->Portada110",
           "Esmeralda110",
           "Portada110"
          ]
         ],
         "hovertemplate": "<b>%{customdata[0]}</b><br>From: %{customdata[1]}<br>To: %{customdata[2]}<extra></extra>",
         "lat": [
          -23.67315229,
          -23.53565176
         ],
         "line": {
          "color": "#B0B6BE",
          "width": 2
         },
         "lon": [
          -70.38782665,
          -70.38562395
         ],
         "mode": "lines",
         "showlegend": false,
         "type": "scattergeo"
        },
        {
         "customdata": [
          [
           "Esmeralda220->Esmeralda110",
           "Esmeralda220",
           "Esmeralda110"
          ]
         ],
         "hovertemplate": "<b>%{customdata[0]}</b><br>From: %{customdata[1]}<br>To: %{customdata[2]}<extra></extra>",
         "lat": [
          -23.67315229,
          -23.67315229
         ],
         "line": {
          "color": "#B0B6BE",
          "width": 2
         },
         "lon": [
          -70.38782665,
          -70.38782665
         ],
         "mode": "lines",
         "showlegend": false,
         "type": "scattergeo"
        },
        {
         "customdata": [
          [
           "Florida110->Almendros110",
           "Florida110",
           "Almendros110"
          ]
         ],
         "hovertemplate": "<b>%{customdata[0]}</b><br>From: %{customdata[1]}<br>To: %{customdata[2]}<extra></extra>",
         "lat": [
          -33.54698797,
          -33.42670264
         ],
         "line": {
          "color": "#B0B6BE",
          "width": 2
         },
         "lon": [
          -70.54454611,
          -70.50775806
         ],
         "mode": "lines",
         "showlegend": false,
         "type": "scattergeo"
        },
        {
         "customdata": [
          [
           "Florida110->StaRosa110",
           "Florida110",
           "StaRosa110"
          ]
         ],
         "hovertemplate": "<b>%{customdata[0]}</b><br>From: %{customdata[1]}<br>To: %{customdata[2]}<extra></extra>",
         "lat": [
          -33.54698797,
          -33.98964794
         ],
         "line": {
          "color": "#B0B6BE",
          "width": 2
         },
         "lon": [
          -70.54454611,
          -71.31166457
         ],
         "mode": "lines",
         "showlegend": false,
         "type": "scattergeo"
        },
        {
         "customdata": [
          [
           "Fopaco154->Lagunillas154",
           "Fopaco154",
           "Lagunillas154"
          ]
         ],
         "hovertemplate": "<b>%{customdata[0]}</b><br>From: %{customdata[1]}<br>To: %{customdata[2]}<extra></extra>",
         "lat": [
          -36.93469527,
          -36.98788044
         ],
         "line": {
          "color": "#B0B6BE",
          "width": 2
         },
         "lon": [
          -73.15496736,
          -73.13353787
         ],
         "mode": "lines",
         "showlegend": false,
         "type": "scattergeo"
        },
        {
         "customdata": [
          [
           "Francisco220->DAlmagro220",
           "Francisco220",
           "DAlmagro220"
          ]
         ],
         "hovertemplate": "<b>%{customdata[0]}</b><br>From: %{customdata[1]}<br>To: %{customdata[2]}<extra></extra>",
         "lat": [
          -25.53738032,
          -26.39828468
         ],
         "line": {
          "color": "#B0B6BE",
          "width": 2
         },
         "lon": [
          -70.31604858,
          -70.03730551
         ],
         "mode": "lines",
         "showlegend": false,
         "type": "scattergeo"
        },
        {
         "customdata": [
          [
           "GasAta220->Esmeralda220",
           "Atacama220_BP1",
           "Esmeralda220"
          ]
         ],
         "hovertemplate": "<b>%{customdata[0]}</b><br>From: %{customdata[1]}<br>To: %{customdata[2]}<extra></extra>",
         "lat": [
          -23.09157802,
          -23.67315229
         ],
         "line": {
          "color": "#B0B6BE",
          "width": 2
         },
         "lon": [
          -70.41556015,
          -70.38782665
         ],
         "mode": "lines",
         "showlegend": false,
         "type": "scattergeo"
        },
        {
         "customdata": [
          [
           "Guacolda220->Maitenc220",
           "Guacolda220",
           "Maitencillo220"
          ]
         ],
         "hovertemplate": "<b>%{customdata[0]}</b><br>From: %{customdata[1]}<br>To: %{customdata[2]}<extra></extra>",
         "lat": [
          -28.46613032,
          -28.53563546
         ],
         "line": {
          "color": "#B0B6BE",
          "width": 2
         },
         "lon": [
          -71.25766711,
          -70.92270995
         ],
         "mode": "lines",
         "showlegend": false,
         "type": "scattergeo"
        },
        {
         "customdata": [
          [
           "Hualpen154->Mapal154",
           "Hualpen154",
           "Mapal154"
          ]
         ],
         "hovertemplate": "<b>%{customdata[0]}</b><br>From: %{customdata[1]}<br>To: %{customdata[2]}<extra></extra>",
         "lat": [
          -36.78803072,
          -36.86728889
         ],
         "line": {
          "color": "#B0B6BE",
          "width": 2
         },
         "lon": [
          -73.12101735,
          -73.14133374
         ],
         "mode": "lines",
         "showlegend": false,
         "type": "scattergeo"
        },
        {
         "customdata": [
          [
           "Hualpen220->Hualpen154",
           "Hualpen220",
           "Hualpen154"
          ]
         ],
         "hovertemplate": "<b>%{customdata[0]}</b><br>From: %{customdata[1]}<br>To: %{customdata[2]}<extra></extra>",
         "lat": [
          -36.78803072,
          -36.78803072
         ],
         "line": {
          "color": "#B0B6BE",
          "width": 2
         },
         "lon": [
          -73.12101735,
          -73.12101735
         ],
         "mode": "lines",
         "showlegend": false,
         "type": "scattergeo"
        },
        {
         "customdata": [
          [
           "Illapa220->Cumbres500",
           "CPinto220",
           "Cumbres500"
          ]
         ],
         "hovertemplate": "<b>%{customdata[0]}</b><br>From: %{customdata[1]}<br>To: %{customdata[2]}<extra></extra>",
         "lat": [
          -27.00125636,
          -26.25595341
         ],
         "line": {
          "color": "#B0B6BE",
          "width": 2
         },
         "lon": [
          -69.90307544,
          -69.98811534
         ],
         "mode": "lines",
         "showlegend": false,
         "type": "scattergeo"
        },
        {
         "customdata": [
          [
           "Illapa220->DAlmagro220",
           "CPinto220",
           "DAlmagro220"
          ]
         ],
         "hovertemplate": "<b>%{customdata[0]}</b><br>From: %{customdata[1]}<br>To: %{customdata[2]}<extra></extra>",
         "lat": [
          -27.00125636,
          -26.39828468
         ],
         "line": {
          "color": "#B0B6BE",
          "width": 2
         },
         "lon": [
          -69.90307544,
          -70.03730551
         ],
         "mode": "lines",
         "showlegend": false,
         "type": "scattergeo"
        },
        {
         "customdata": [
          [
           "Itahue154->Maule154",
           "Itahue154",
           "Maule154"
          ]
         ],
         "hovertemplate": "<b>%{customdata[0]}</b><br>From: %{customdata[1]}<br>To: %{customdata[2]}<extra></extra>",
         "lat": [
          -35.13927033,
          -35.50003467
         ],
         "line": {
          "color": "#B0B6BE",
          "width": 2
         },
         "lon": [
          -71.36725314,
          -71.52932841
         ],
         "mode": "lines",
         "showlegend": false,
         "type": "scattergeo"
        },
        {
         "customdata": [
          [
           "Itahue154->Teno154",
           "Itahue154",
           "Teno154"
          ]
         ],
         "hovertemplate": "<b>%{customdata[0]}</b><br>From: %{customdata[1]}<br>To: %{customdata[2]}<extra></extra>",
         "lat": [
          -35.13927033,
          -34.86796233
         ],
         "line": {
          "color": "#B0B6BE",
          "width": 2
         },
         "lon": [
          -71.36725314,
          -71.14118582
         ],
         "mode": "lines",
         "showlegend": false,
         "type": "scattergeo"
        },
        {
         "customdata": [
          [
           "Itahue220->Maule220",
           "Itahue154",
           "Maule154"
          ]
         ],
         "hovertemplate": "<b>%{customdata[0]}</b><br>From: %{customdata[1]}<br>To: %{customdata[2]}<extra></extra>",
         "lat": [
          -35.13927033,
          -35.50003467
         ],
         "line": {
          "color": "#B0B6BE",
          "width": 2
         },
         "lon": [
          -71.36725314,
          -71.52932841
         ],
         "mode": "lines",
         "showlegend": false,
         "type": "scattergeo"
        },
        {
         "customdata": [
          [
           "Jadresic500->Cumbres500",
           "Jadresic500",
           "Cumbres500"
          ]
         ],
         "hovertemplate": "<b>%{customdata[0]}</b><br>From: %{customdata[1]}<br>To: %{customdata[2]}<extra></extra>",
         "lat": [
          -24.79605,
          -26.25595341
         ],
         "line": {
          "color": "#B0B6BE",
          "width": 2
         },
         "lon": [
          -69.84977,
          -69.98811534
         ],
         "mode": "lines",
         "showlegend": false,
         "type": "scattergeo"
        },
        {
         "customdata": [
          [
           "Jadresic500->Jadresic220",
           "Jadresic500",
           "Jadresic220"
          ]
         ],
         "hovertemplate": "<b>%{customdata[0]}</b><br>From: %{customdata[1]}<br>To: %{customdata[2]}<extra></extra>",
         "lat": [
          -24.79605,
          -24.79605
         ],
         "line": {
          "color": "#B0B6BE",
          "width": 2
         },
         "lon": [
          -69.84977,
          -69.84977
         ],
         "mode": "lines",
         "showlegend": false,
         "type": "scattergeo"
        },
        {
         "customdata": [
          [
           "Kapatur220->Laberinto220",
           "Kapatur220_BP1",
           "Laberinto220"
          ]
         ],
         "hovertemplate": "<b>%{customdata[0]}</b><br>From: %{customdata[1]}<br>To: %{customdata[2]}<extra></extra>",
         "lat": [
          -23.14492989,
          -23.44672675
         ],
         "line": {
          "color": "#B0B6BE",
          "width": 2
         },
         "lon": [
          -70.33868251,
          -69.40894139
         ],
         "mode": "lines",
         "showlegend": false,
         "type": "scattergeo"
        },
        {
         "customdata": [
          [
           "Kapatur220->Ohiggins220",
           "Kapatur220_BP1",
           "Ohiggins220_BP1"
          ]
         ],
         "hovertemplate": "<b>%{customdata[0]}</b><br>From: %{customdata[1]}<br>To: %{customdata[2]}<extra></extra>",
         "lat": [
          -23.14492989,
          -23.6920015
         ],
         "line": {
          "color": "#B0B6BE",
          "width": 2
         },
         "lon": [
          -70.33868251,
          -70.21462127
         ],
         "mode": "lines",
         "showlegend": false,
         "type": "scattergeo"
        },
        {
         "customdata": [
          [
           "LPalmas220->LVilos220",
           "LPalmas220",
           "LVilos220"
          ]
         ],
         "hovertemplate": "<b>%{customdata[0]}</b><br>From: %{customdata[1]}<br>To: %{customdata[2]}<extra></extra>",
         "lat": [
          -31.28778804,
          -31.93803404
         ],
         "line": {
          "color": "#B0B6BE",
          "width": 2
         },
         "lon": [
          -71.58864121,
          -71.4784651
         ],
         "mode": "lines",
         "showlegend": false,
         "type": "scattergeo"
        },
        {
         "customdata": [
          [
           "LVilos220->DonaCarmen220",
           "LVilos220",
           "DonaCarmen220"
          ]
         ],
         "hovertemplate": "<b>%{customdata[0]}</b><br>From: %{customdata[1]}<br>To: %{customdata[2]}<extra></extra>",
         "lat": [
          -31.93803404,
          -32.47975491209993
         ],
         "line": {
          "color": "#B0B6BE",
          "width": 2
         },
         "lon": [
          -71.4784651,
          -71.25202519681623
         ],
         "mode": "lines",
         "showlegend": false,
         "type": "scattergeo"
        },
        {
         "customdata": [
          [
           "LVilos220->Nogales220",
           "LVilos220",
           "Nogales220"
          ]
         ],
         "hovertemplate": "<b>%{customdata[0]}</b><br>From: %{customdata[1]}<br>To: %{customdata[2]}<extra></extra>",
         "lat": [
          -31.93803404,
          -32.71983344
         ],
         "line": {
          "color": "#B0B6BE",
          "width": 2
         },
         "lon": [
          -71.4784651,
          -71.22673239
         ],
         "mode": "lines",
         "showlegend": false,
         "type": "scattergeo"
        },
        {
         "customdata": [
          [
           "LaCebada220->MRedondo220",
           "LaCebada220",
           "MRedondo220"
          ]
         ],
         "hovertemplate": "<b>%{customdata[0]}</b><br>From: %{customdata[1]}<br>To: %{customdata[2]}<extra></extra>",
         "lat": [
          -31.03319871,
          -31.06136137
         ],
         "line": {
          "color": "#B0B6BE",
          "width": 2
         },
         "lon": [
          -71.61416093,
          -71.61252169
         ],
         "mode": "lines",
         "showlegend": false,
         "type": "scattergeo"
        },
        {
         "customdata": [
          [
           "LaCebada220->PuntaSierra220",
           "LaCebada220",
           "PuntaSierra220"
          ]
         ],
         "hovertemplate": "<b>%{customdata[0]}</b><br>From: %{customdata[1]}<br>To: %{customdata[2]}<extra></extra>",
         "lat": [
          -31.03319871,
          -31.06136137
         ],
         "line": {
          "color": "#B0B6BE",
          "width": 2
         },
         "lon": [
          -71.61416093,
          -71.61252169
         ],
         "mode": "lines",
         "showlegend": false,
         "type": "scattergeo"
        },
        {
         "customdata": [
          [
           "LaNegra110->AltoNorte110",
           "LaNegra110",
           "AltoNorte110"
          ]
         ],
         "hovertemplate": "<b>%{customdata[0]}</b><br>From: %{customdata[1]}<br>To: %{customdata[2]}<extra></extra>",
         "lat": [
          -23.78237326,
          -23.82647607
         ],
         "line": {
          "color": "#B0B6BE",
          "width": 2
         },
         "lon": [
          -70.32380264,
          -70.32005799
         ],
         "mode": "lines",
         "showlegend": false,
         "type": "scattergeo"
        },
        {
         "customdata": [
          [
           "Laberinto220->ElCobre220",
           "Laberinto220",
           "ElCobre220"
          ]
         ],
         "hovertemplate": "<b>%{customdata[0]}</b><br>From: %{customdata[1]}<br>To: %{customdata[2]}<extra></extra>",
         "lat": [
          -23.44672675,
          -23.4543351
         ],
         "line": {
          "color": "#B0B6BE",
          "width": 2
         },
         "lon": [
          -69.40894139,
          -69.38294095
         ],
         "mode": "lines",
         "showlegend": false,
         "type": "scattergeo"
        },
        {
         "customdata": [
          [
           "Laberinto220->Mantos220",
           "Laberinto220",
           "Mantos220"
          ]
         ],
         "hovertemplate": "<b>%{customdata[0]}</b><br>From: %{customdata[1]}<br>To: %{customdata[2]}<extra></extra>",
         "lat": [
          -23.44672675,
          -23.44615665
         ],
         "line": {
          "color": "#B0B6BE",
          "width": 2
         },
         "lon": [
          -69.40894139,
          -70.07568845
         ],
         "mode": "lines",
         "showlegend": false,
         "type": "scattergeo"
        },
        {
         "customdata": [
          [
           "Laberinto220->NvaZald220",
           "Laberinto220",
           "NvaZaldivar220"
          ]
         ],
         "hovertemplate": "<b>%{customdata[0]}</b><br>From: %{customdata[1]}<br>To: %{customdata[2]}<extra></extra>",
         "lat": [
          -23.44672675,
          -24.16288619
         ],
         "line": {
          "color": "#B0B6BE",
          "width": 2
         },
         "lon": [
          -69.40894139,
          -69.06433185
         ],
         "mode": "lines",
         "showlegend": false,
         "type": "scattergeo"
        },
        {
         "customdata": [
          [
           "Laberinto220->Oeste220",
           "Laberinto220",
           "Oeste220"
          ]
         ],
         "hovertemplate": "<b>%{customdata[0]}</b><br>From: %{customdata[1]}<br>To: %{customdata[2]}<extra></extra>",
         "lat": [
          -23.44672675,
          -23.69019316
         ],
         "line": {
          "color": "#B0B6BE",
          "width": 2
         },
         "lon": [
          -69.40894139,
          -68.61970933
         ],
         "mode": "lines",
         "showlegend": false,
         "type": "scattergeo"
        },
        {
         "customdata": [
          [
           "Lagunas220->Collahuasi220",
           "Lagunas220",
           "Collahuasi220"
          ]
         ],
         "hovertemplate": "<b>%{customdata[0]}</b><br>From: %{customdata[1]}<br>To: %{customdata[2]}<extra></extra>",
         "lat": [
          -20.81453152,
          -20.97682751
         ],
         "line": {
          "color": "#B0B6BE",
          "width": 2
         },
         "lon": [
          -69.69405143,
          -68.63644363
         ],
         "mode": "lines",
         "showlegend": false,
         "type": "scattergeo"
        },
        {
         "customdata": [
          [
           "Lagunas220->NvaVictoria220",
           "Lagunas220",
           "NvaVictoria220"
          ]
         ],
         "hovertemplate": "<b>%{customdata[0]}</b><br>From: %{customdata[1]}<br>To: %{customdata[2]}<extra></extra>",
         "lat": [
          -20.81453152,
          -20.95327526
         ],
         "line": {
          "color": "#B0B6BE",
          "width": 2
         },
         "lon": [
          -69.69405143,
          -69.67197043
         ],
         "mode": "lines",
         "showlegend": false,
         "type": "scattergeo"
        },
        {
         "customdata": [
          [
           "Lagunas220->Tarapaca220",
           "Lagunas220",
           "Tarapaca220"
          ]
         ],
         "hovertemplate": "<b>%{customdata[0]}</b><br>From: %{customdata[1]}<br>To: %{customdata[2]}<extra></extra>",
         "lat": [
          -20.81453152,
          -20.80719227
         ],
         "line": {
          "color": "#B0B6BE",
          "width": 2
         },
         "lon": [
          -69.69405143,
          -70.19234326
         ],
         "mode": "lines",
         "showlegend": false,
         "type": "scattergeo"
        },
        {
         "customdata": [
          [
           "Lagunillas154->Coronel154",
           "Lagunillas154",
           "Coronel154"
          ]
         ],
         "hovertemplate": "<b>%{customdata[0]}</b><br>From: %{customdata[1]}<br>To: %{customdata[2]}<extra></extra>",
         "lat": [
          -36.98788044,
          -37.00881822
         ],
         "line": {
          "color": "#B0B6BE",
          "width": 2
         },
         "lon": [
          -73.13353787,
          -73.15198545
         ],
         "mode": "lines",
         "showlegend": false,
         "type": "scattergeo"
        },
        {
         "customdata": [
          [
           "Lagunillas220->Hualpen220",
           "Lagunillas220",
           "Hualpen220"
          ]
         ],
         "hovertemplate": "<b>%{customdata[0]}</b><br>From: %{customdata[1]}<br>To: %{customdata[2]}<extra></extra>",
         "lat": [
          -36.98788044,
          -36.78803072
         ],
         "line": {
          "color": "#B0B6BE",
          "width": 2
         },
         "lon": [
          -73.13353787,
          -73.12101735
         ],
         "mode": "lines",
         "showlegend": false,
         "type": "scattergeo"
        },
        {
         "customdata": [
          [
           "Lagunillas220->Lagunillas154",
           "Lagunillas220",
           "Lagunillas154"
          ]
         ],
         "hovertemplate": "<b>%{customdata[0]}</b><br>From: %{customdata[1]}<br>To: %{customdata[2]}<extra></extra>",
         "lat": [
          -36.98788044,
          -36.98788044
         ],
         "line": {
          "color": "#B0B6BE",
          "width": 2
         },
         "lon": [
          -73.13353787,
          -73.13353787
         ],
         "mode": "lines",
         "showlegend": false,
         "type": "scattergeo"
        },
        {
         "customdata": [
          [
           "Linares154->SJavier066",
           "Linares154",
           "SJavier066"
          ]
         ],
         "hovertemplate": "<b>%{customdata[0]}</b><br>From: %{customdata[1]}<br>To: %{customdata[2]}<extra></extra>",
         "lat": [
          -35.84500058,
          -35.58869204
         ],
         "line": {
          "color": "#B0B6BE",
          "width": 2
         },
         "lon": [
          -71.62809543,
          -71.71210071
         ],
         "mode": "lines",
         "showlegend": false,
         "type": "scattergeo"
        },
        {
         "customdata": [
          [
           "LoAguirre220->CNavia220",
           "LoAguirre220",
           "CNavia220"
          ]
         ],
         "hovertemplate": "<b>%{customdata[0]}</b><br>From: %{customdata[1]}<br>To: %{customdata[2]}<extra></extra>",
         "lat": [
          -33.44005082,
          -33.42196567
         ],
         "line": {
          "color": "#B0B6BE",
          "width": 2
         },
         "lon": [
          -70.89773497,
          -70.72971588
         ],
         "mode": "lines",
         "showlegend": false,
         "type": "scattergeo"
        },
        {
         "customdata": [
          [
           "LoAguirre500->AJahuel500",
           "LoAguirre500",
           "AJahuel500"
          ]
         ],
         "hovertemplate": "<b>%{customdata[0]}</b><br>From: %{customdata[1]}<br>To: %{customdata[2]}<extra></extra>",
         "lat": [
          -33.44794095,
          -33.71483419
         ],
         "line": {
          "color": "#B0B6BE",
          "width": 2
         },
         "lon": [
          -70.90774966,
          -70.69117403
         ],
         "mode": "lines",
         "showlegend": false,
         "type": "scattergeo"
        },
        {
         "customdata": [
          [
           "LoAguirre500->LoAguirre220",
           "LoAguirre500",
           "LoAguirre220"
          ]
         ],
         "hovertemplate": "<b>%{customdata[0]}</b><br>From: %{customdata[1]}<br>To: %{customdata[2]}<extra></extra>",
         "lat": [
          -33.44794095,
          -33.44005082
         ],
         "line": {
          "color": "#B0B6BE",
          "width": 2
         },
         "lon": [
          -70.90774966,
          -70.89773497
         ],
         "mode": "lines",
         "showlegend": false,
         "type": "scattergeo"
        },
        {
         "customdata": [
          [
           "LoAguirre500->Polpaico500",
           "LoAguirre500",
           "Polpaico500"
          ]
         ],
         "hovertemplate": "<b>%{customdata[0]}</b><br>From: %{customdata[1]}<br>To: %{customdata[2]}<extra></extra>",
         "lat": [
          -33.44794095,
          -33.19629169
         ],
         "line": {
          "color": "#B0B6BE",
          "width": 2
         },
         "lon": [
          -70.90774966,
          -70.86099782
         ],
         "mode": "lines",
         "showlegend": false,
         "type": "scattergeo"
        },
        {
         "customdata": [
          [
           "LoEspejo110->Ochagavia110",
           "LoEspejo110",
           "Ochagavia110"
          ]
         ],
         "hovertemplate": "<b>%{customdata[0]}</b><br>From: %{customdata[1]}<br>To: %{customdata[2]}<extra></extra>",
         "lat": [
          -33.53049274,
          -33.47967404
         ],
         "line": {
          "color": "#B0B6BE",
          "width": 2
         },
         "lon": [
          -70.71193238,
          -70.66709987
         ],
         "mode": "lines",
         "showlegend": false,
         "type": "scattergeo"
        },
        {
         "customdata": [
          [
           "LosChangos220->Kapatur220",
           "LosChangos220",
           "Kapatur220_BP1"
          ]
         ],
         "hovertemplate": "<b>%{customdata[0]}</b><br>From: %{customdata[1]}<br>To: %{customdata[2]}<extra></extra>",
         "lat": [
          -23.15625933,
          -23.14492989
         ],
         "line": {
          "color": "#B0B6BE",
          "width": 2
         },
         "lon": [
          -70.31246238,
          -70.33868251
         ],
         "mode": "lines",
         "showlegend": false,
         "type": "scattergeo"
        },
        {
         "customdata": [
          [
           "LosChangos500->Cumbres500",
           "LosChangos500",
           "Cumbres500"
          ]
         ],
         "hovertemplate": "<b>%{customdata[0]}</b><br>From: %{customdata[1]}<br>To: %{customdata[2]}<extra></extra>",
         "lat": [
          -23.15625933,
          -26.25595341
         ],
         "line": {
          "color": "#B0B6BE",
          "width": 2
         },
         "lon": [
          -70.31246238,
          -69.98811534
         ],
         "mode": "lines",
         "showlegend": false,
         "type": "scattergeo"
        },
        {
         "customdata": [
          [
           "LosChangos500->Jadresic500",
           "LosChangos500",
           "Jadresic500"
          ]
         ],
         "hovertemplate": "<b>%{customdata[0]}</b><br>From: %{customdata[1]}<br>To: %{customdata[2]}<extra></extra>",
         "lat": [
          -23.15625933,
          -24.79605
         ],
         "line": {
          "color": "#B0B6BE",
          "width": 2
         },
         "lon": [
          -70.31246238,
          -69.84977
         ],
         "mode": "lines",
         "showlegend": false,
         "type": "scattergeo"
        },
        {
         "customdata": [
          [
           "LosChangos500->Kimal500_I",
           "LosChangos500",
           "Crucero220"
          ]
         ],
         "hovertemplate": "<b>%{customdata[0]}</b><br>From: %{customdata[1]}<br>To: %{customdata[2]}<extra></extra>",
         "lat": [
          -23.15625933,
          -22.27382315
         ],
         "line": {
          "color": "#B0B6BE",
          "width": 2
         },
         "lon": [
          -70.31246238,
          -69.56595287
         ],
         "mode": "lines",
         "showlegend": false,
         "type": "scattergeo"
        },
        {
         "customdata": [
          [
           "LosChangos500->Kimal500_II",
           "LosChangos500",
           "Crucero220"
          ]
         ],
         "hovertemplate": "<b>%{customdata[0]}</b><br>From: %{customdata[1]}<br>To: %{customdata[2]}<extra></extra>",
         "lat": [
          -23.15625933,
          -22.27382315
         ],
         "line": {
          "color": "#B0B6BE",
          "width": 2
         },
         "lon": [
          -70.31246238,
          -69.56595287
         ],
         "mode": "lines",
         "showlegend": false,
         "type": "scattergeo"
        },
        {
         "customdata": [
          [
           "LosChangos500->LosChangos220",
           "LosChangos500",
           "LosChangos220"
          ]
         ],
         "hovertemplate": "<b>%{customdata[0]}</b><br>From: %{customdata[1]}<br>To: %{customdata[2]}<extra></extra>",
         "lat": [
          -23.15625933,
          -23.15625933
         ],
         "line": {
          "color": "#B0B6BE",
          "width": 2
         },
         "lon": [
          -70.31246238,
          -70.31246238
         ],
         "mode": "lines",
         "showlegend": false,
         "type": "scattergeo"
        },
        {
         "customdata": [
          [
           "LosNotros220->Charrua220",
           "LosNotros220",
           "Charrua220"
          ]
         ],
         "hovertemplate": "<b>%{customdata[0]}</b><br>From: %{customdata[1]}<br>To: %{customdata[2]}<extra></extra>",
         "lat": [
          -37.70872254,
          -37.09514251
         ],
         "line": {
          "color": "#B0B6BE",
          "width": 2
         },
         "lon": [
          -71.82131512,
          -72.32163459
         ],
         "mode": "lines",
         "showlegend": false,
         "type": "scattergeo"
        },
        {
         "customdata": [
          [
           "LosNotros220->Cholguan220",
           "LosNotros220",
           "Cholguan220"
          ]
         ],
         "hovertemplate": "<b>%{customdata[0]}</b><br>From: %{customdata[1]}<br>To: %{customdata[2]}<extra></extra>",
         "lat": [
          -37.70872254,
          -37.1650052
         ],
         "line": {
          "color": "#B0B6BE",
          "width": 2
         },
         "lon": [
          -71.82131512,
          -72.07323547
         ],
         "mode": "lines",
         "showlegend": false,
         "type": "scattergeo"
        },
        {
         "customdata": [
          [
           "LosNotros220->Mulchen220",
           "LosNotros220",
           "Mulchen220"
          ]
         ],
         "hovertemplate": "<b>%{customdata[0]}</b><br>From: %{customdata[1]}<br>To: %{customdata[2]}<extra></extra>",
         "lat": [
          -37.70872254,
          -37.68117984
         ],
         "line": {
          "color": "#B0B6BE",
          "width": 2
         },
         "lon": [
          -71.82131512,
          -72.25394467
         ],
         "mode": "lines",
         "showlegend": false,
         "type": "scattergeo"
        },
        {
         "customdata": [
          [
           "LosNotros220->Trupan220",
           "LosNotros220",
           "Trupan220"
          ]
         ],
         "hovertemplate": "<b>%{customdata[0]}</b><br>From: %{customdata[1]}<br>To: %{customdata[2]}<extra></extra>",
         "lat": [
          -37.70872254,
          -37.31041103
         ],
         "line": {
          "color": "#B0B6BE",
          "width": 2
         },
         "lon": [
          -71.82131512,
          -71.62934479
         ],
         "mode": "lines",
         "showlegend": false,
         "type": "scattergeo"
        },
        {
         "customdata": [
          [
           "MRedondo220->PuntaSierra220",
           "MRedondo220",
           "PuntaSierra220"
          ]
         ],
         "hovertemplate": "<b>%{customdata[0]}</b><br>From: %{customdata[1]}<br>To: %{customdata[2]}<extra></extra>",
         "lat": [
          -31.06136137,
          -31.06136137
         ],
         "line": {
          "color": "#B0B6BE",
          "width": 2
         },
         "lon": [
          -71.61252169,
          -71.61252169
         ],
         "mode": "lines",
         "showlegend": false,
         "type": "scattergeo"
        },
        {
         "customdata": [
          [
           "Maitenc110->Cardones110",
           "Maitencillo110",
           "Cardones110"
          ]
         ],
         "hovertemplate": "<b>%{customdata[0]}</b><br>From: %{customdata[1]}<br>To: %{customdata[2]}<extra></extra>",
         "lat": [
          -28.53563546,
          -27.48905055
         ],
         "line": {
          "color": "#B0B6BE",
          "width": 2
         },
         "lon": [
          -70.92270995,
          -70.38556371
         ],
         "mode": "lines",
         "showlegend": false,
         "type": "scattergeo"
        },
        {
         "customdata": [
          [
           "Maitenc110->Huasco110",
           "Maitencillo110",
           "Huasco110"
          ]
         ],
         "hovertemplate": "<b>%{customdata[0]}</b><br>From: %{customdata[1]}<br>To: %{customdata[2]}<extra></extra>",
         "lat": [
          -28.53563546,
          -28.4706407
         ],
         "line": {
          "color": "#B0B6BE",
          "width": 2
         },
         "lon": [
          -70.92270995,
          -71.252694
         ],
         "mode": "lines",
         "showlegend": false,
         "type": "scattergeo"
        },
        {
         "customdata": [
          [
           "Maitenc220->Cardones220",
           "Maitencillo220",
           "Cardones220"
          ]
         ],
         "hovertemplate": "<b>%{customdata[0]}</b><br>From: %{customdata[1]}<br>To: %{customdata[2]}<extra></extra>",
         "lat": [
          -28.53563546,
          -27.48905055
         ],
         "line": {
          "color": "#B0B6BE",
          "width": 2
         },
         "lon": [
          -70.92270995,
          -70.38556371
         ],
         "mode": "lines",
         "showlegend": false,
         "type": "scattergeo"
        },
        {
         "customdata": [
          [
           "Maitenc220->DonHector220",
           "Maitencillo220",
           "DonHector220"
          ]
         ],
         "hovertemplate": "<b>%{customdata[0]}</b><br>From: %{customdata[1]}<br>To: %{customdata[2]}<extra></extra>",
         "lat": [
          -28.53563546,
          -29.110999
         ],
         "line": {
          "color": "#B0B6BE",
          "width": 2
         },
         "lon": [
          -70.92270995,
          -70.919114
         ],
         "mode": "lines",
         "showlegend": false,
         "type": "scattergeo"
        },
        {
         "customdata": [
          [
           "Maitenc220->Maitenc110",
           "Maitencillo220",
           "Maitencillo110"
          ]
         ],
         "hovertemplate": "<b>%{customdata[0]}</b><br>From: %{customdata[1]}<br>To: %{customdata[2]}<extra></extra>",
         "lat": [
          -28.53563546,
          -28.53563546
         ],
         "line": {
          "color": "#B0B6BE",
          "width": 2
         },
         "lon": [
          -70.92270995,
          -70.92270995
         ],
         "mode": "lines",
         "showlegend": false,
         "type": "scattergeo"
        },
        {
         "customdata": [
          [
           "Maitenc220->PColorada220_II",
           "Maitencillo220",
           "PColorada220"
          ]
         ],
         "hovertemplate": "<b>%{customdata[0]}</b><br>From: %{customdata[1]}<br>To: %{customdata[2]}<extra></extra>",
         "lat": [
          -28.53563546,
          -29.36818829
         ],
         "line": {
          "color": "#B0B6BE",
          "width": 2
         },
         "lon": [
          -70.92270995,
          -71.04761699
         ],
         "mode": "lines",
         "showlegend": false,
         "type": "scattergeo"
        },
        {
         "customdata": [
          [
           "Malloa154->Tinguiririca154",
           "Malloa154",
           "Tinguiririca154"
          ]
         ],
         "hovertemplate": "<b>%{customdata[0]}</b><br>From: %{customdata[1]}<br>To: %{customdata[2]}<extra></extra>",
         "lat": [
          -34.45774973,
          -34.61097461
         ],
         "line": {
          "color": "#B0B6BE",
          "width": 2
         },
         "lon": [
          -70.95944676,
          -71.01514513
         ],
         "mode": "lines",
         "showlegend": false,
         "type": "scattergeo"
        },
        {
         "customdata": [
          [
           "Mapal154->Fopaco154",
           "Mapal154",
           "Fopaco154"
          ]
         ],
         "hovertemplate": "<b>%{customdata[0]}</b><br>From: %{customdata[1]}<br>To: %{customdata[2]}<extra></extra>",
         "lat": [
          -36.86728889,
          -36.93469527
         ],
         "line": {
          "color": "#B0B6BE",
          "width": 2
         },
         "lon": [
          -73.14133374,
          -73.15496736
         ],
         "mode": "lines",
         "showlegend": false,
         "type": "scattergeo"
        },
        {
         "customdata": [
          [
           "MariaElena220->Lagunas220",
           "MariaElena220",
           "Lagunas220"
          ]
         ],
         "hovertemplate": "<b>%{customdata[0]}</b><br>From: %{customdata[1]}<br>To: %{customdata[2]}<extra></extra>",
         "lat": [
          -22.21425464,
          -20.81453152
         ],
         "line": {
          "color": "#B0B6BE",
          "width": 2
         },
         "lon": [
          -69.57835569,
          -69.69405143
         ],
         "mode": "lines",
         "showlegend": false,
         "type": "scattergeo"
        },
        {
         "customdata": [
          [
           "MariaElena220->NvaVictoria220",
           "MariaElena220",
           "NvaVictoria220"
          ]
         ],
         "hovertemplate": "<b>%{customdata[0]}</b><br>From: %{customdata[1]}<br>To: %{customdata[2]}<extra></extra>",
         "lat": [
          -22.21425464,
          -20.95327526
         ],
         "line": {
          "color": "#B0B6BE",
          "width": 2
         },
         "lon": [
          -69.57835569,
          -69.67197043
         ],
         "mode": "lines",
         "showlegend": false,
         "type": "scattergeo"
        },
        {
         "customdata": [
          [
           "Maule154->Linares154",
           "Maule154",
           "Linares154"
          ]
         ],
         "hovertemplate": "<b>%{customdata[0]}</b><br>From: %{customdata[1]}<br>To: %{customdata[2]}<extra></extra>",
         "lat": [
          -35.50003467,
          -35.84500058
         ],
         "line": {
          "color": "#B0B6BE",
          "width": 2
         },
         "lon": [
          -71.52932841,
          -71.62809543
         ],
         "mode": "lines",
         "showlegend": false,
         "type": "scattergeo"
        },
        {
         "customdata": [
          [
           "Maule154->SMiguel066",
           "Maule154",
           "SMiguel066"
          ]
         ],
         "hovertemplate": "<b>%{customdata[0]}</b><br>From: %{customdata[1]}<br>To: %{customdata[2]}<extra></extra>",
         "lat": [
          -35.50003467,
          -35.43971952
         ],
         "line": {
          "color": "#B0B6BE",
          "width": 2
         },
         "lon": [
          -71.52932841,
          -71.61698552
         ],
         "mode": "lines",
         "showlegend": false,
         "type": "scattergeo"
        },
        {
         "customdata": [
          [
           "Mejillones110->Pampa110",
           "Mejillones110",
           "Pampa110"
          ]
         ],
         "hovertemplate": "<b>%{customdata[0]}</b><br>From: %{customdata[1]}<br>To: %{customdata[2]}<extra></extra>",
         "lat": [
          -23.09456488,
          -23.54285733
         ],
         "line": {
          "color": "#B0B6BE",
          "width": 2
         },
         "lon": [
          -70.41886191,
          -70.3985431
         ],
         "mode": "lines",
         "showlegend": false,
         "type": "scattergeo"
        },
        {
         "customdata": [
          [
           "Mejillones220->Mejillones110",
           "Mejillones220",
           "Mejillones110"
          ]
         ],
         "hovertemplate": "<b>%{customdata[0]}</b><br>From: %{customdata[1]}<br>To: %{customdata[2]}<extra></extra>",
         "lat": [
          -23.09456488,
          -23.09456488
         ],
         "line": {
          "color": "#B0B6BE",
          "width": 2
         },
         "lon": [
          -70.41886191,
          -70.41886191
         ],
         "mode": "lines",
         "showlegend": false,
         "type": "scattergeo"
        },
        {
         "customdata": [
          [
           "Mejillones220->OHiggins220",
           "Mejillones220",
           "Ohiggins220_BP1"
          ]
         ],
         "hovertemplate": "<b>%{customdata[0]}</b><br>From: %{customdata[1]}<br>To: %{customdata[2]}<extra></extra>",
         "lat": [
          -23.09456488,
          -23.6920015
         ],
         "line": {
          "color": "#B0B6BE",
          "width": 2
         },
         "lon": [
          -70.41886191,
          -70.21462127
         ],
         "mode": "lines",
         "showlegend": false,
         "type": "scattergeo"
        },
        {
         "customdata": [
          [
           "Miraje220->Atacama220",
           "Miraje220",
           "Atacama220_BP1"
          ]
         ],
         "hovertemplate": "<b>%{customdata[0]}</b><br>From: %{customdata[1]}<br>To: %{customdata[2]}<extra></extra>",
         "lat": [
          -22.42027874,
          -23.09157802
         ],
         "line": {
          "color": "#B0B6BE",
          "width": 2
         },
         "lon": [
          -69.52629858,
          -70.41556015
         ],
         "mode": "lines",
         "showlegend": false,
         "type": "scattergeo"
        },
        {
         "customdata": [
          [
           "Miraje220->TOEnlace220",
           "Miraje220",
           "TO_Enlace220"
          ]
         ],
         "hovertemplate": "<b>%{customdata[0]}</b><br>From: %{customdata[1]}<br>To: %{customdata[2]}<extra></extra>",
         "lat": [
          -22.42027874,
          -22.69915728
         ],
         "line": {
          "color": "#B0B6BE",
          "width": 2
         },
         "lon": [
          -69.52629858,
          -69.62687229
         ],
         "mode": "lines",
         "showlegend": false,
         "type": "scattergeo"
        },
        {
         "customdata": [
          [
           "Mulchen220->Cautin220",
           "Mulchen220",
           "Cautin220"
          ]
         ],
         "hovertemplate": "<b>%{customdata[0]}</b><br>From: %{customdata[1]}<br>To: %{customdata[2]}<extra></extra>",
         "lat": [
          -37.68117984,
          -38.72266961
         ],
         "line": {
          "color": "#B0B6BE",
          "width": 2
         },
         "lon": [
          -72.25394467,
          -72.54153189
         ],
         "mode": "lines",
         "showlegend": false,
         "type": "scattergeo"
        },
        {
         "customdata": [
          [
           "Nogales220->Polpaico220",
           "Nogales220",
           "Polpaico220"
          ]
         ],
         "hovertemplate": "<b>%{customdata[0]}</b><br>From: %{customdata[1]}<br>To: %{customdata[2]}<extra></extra>",
         "lat": [
          -32.71983344,
          -33.19629169
         ],
         "line": {
          "color": "#B0B6BE",
          "width": 2
         },
         "lon": [
          -71.22673239,
          -70.86099782
         ],
         "mode": "lines",
         "showlegend": false,
         "type": "scattergeo"
        },
        {
         "customdata": [
          [
           "Nogales220->Quillota220",
           "Nogales220",
           "Quillota220"
          ]
         ],
         "hovertemplate": "<b>%{customdata[0]}</b><br>From: %{customdata[1]}<br>To: %{customdata[2]}<extra></extra>",
         "lat": [
          -32.71983344,
          -32.95247528
         ],
         "line": {
          "color": "#B0B6BE",
          "width": 2
         },
         "lon": [
          -71.22673239,
          -71.24932105
         ],
         "mode": "lines",
         "showlegend": false,
         "type": "scattergeo"
        },
        {
         "customdata": [
          [
           "Nogales220->Ventanas220",
           "Nogales220",
           "Ventanas220"
          ]
         ],
         "hovertemplate": "<b>%{customdata[0]}</b><br>From: %{customdata[1]}<br>To: %{customdata[2]}<extra></extra>",
         "lat": [
          -32.71983344,
          -32.7490849
         ],
         "line": {
          "color": "#B0B6BE",
          "width": 2
         },
         "lon": [
          -71.22673239,
          -71.4816527
         ],
         "mode": "lines",
         "showlegend": false,
         "type": "scattergeo"
        },
        {
         "customdata": [
          [
           "Norgener220->Barriles220",
           "Norgener220",
           "Barriles220"
          ]
         ],
         "hovertemplate": "<b>%{customdata[0]}</b><br>From: %{customdata[1]}<br>To: %{customdata[2]}<extra></extra>",
         "lat": [
          -22.09689134,
          -22.16434148
         ],
         "line": {
          "color": "#B0B6BE",
          "width": 2
         },
         "lon": [
          -70.21075703,
          -70.06709823
         ],
         "mode": "lines",
         "showlegend": false,
         "type": "scattergeo"
        },
        {
         "customdata": [
          [
           "Norgener220->LaCruz220",
           "Norgener220",
           "LaCruz220"
          ]
         ],
         "hovertemplate": "<b>%{customdata[0]}</b><br>From: %{customdata[1]}<br>To: %{customdata[2]}<extra></extra>",
         "lat": [
          -22.09689134,
          -22.27916343
         ],
         "line": {
          "color": "#B0B6BE",
          "width": 2
         },
         "lon": [
          -70.21075703,
          -69.65903231
         ],
         "mode": "lines",
         "showlegend": false,
         "type": "scattergeo"
        },
        {
         "customdata": [
          [
           "NvaCardones500->Cardones220",
           "NvaCardones500",
           "Cardones220"
          ]
         ],
         "hovertemplate": "<b>%{customdata[0]}</b><br>From: %{customdata[1]}<br>To: %{customdata[2]}<extra></extra>",
         "lat": [
          -27.51693235,
          -27.48905055
         ],
         "line": {
          "color": "#B0B6BE",
          "width": 2
         },
         "lon": [
          -70.4205373,
          -70.38556371
         ],
         "mode": "lines",
         "showlegend": false,
         "type": "scattergeo"
        },
        {
         "customdata": [
          [
           "NvaMaitenc500->Maitenc220",
           "NvaMaitencillo500",
           "Maitencillo220"
          ]
         ],
         "hovertemplate": "<b>%{customdata[0]}</b><br>From: %{customdata[1]}<br>To: %{customdata[2]}<extra></extra>",
         "lat": [
          -28.54432365,
          -28.53563546
         ],
         "line": {
          "color": "#B0B6BE",
          "width": 2
         },
         "lon": [
          -70.92982709,
          -70.92270995
         ],
         "mode": "lines",
         "showlegend": false,
         "type": "scattergeo"
        },
        {
         "customdata": [
          [
           "NvaMaitenc500->NvaCardones500",
           "NvaMaitencillo500",
           "NvaCardones500"
          ]
         ],
         "hovertemplate": "<b>%{customdata[0]}</b><br>From: %{customdata[1]}<br>To: %{customdata[2]}<extra></extra>",
         "lat": [
          -28.54432365,
          -27.51693235
         ],
         "line": {
          "color": "#B0B6BE",
          "width": 2
         },
         "lon": [
          -70.92982709,
          -70.4205373
         ],
         "mode": "lines",
         "showlegend": false,
         "type": "scattergeo"
        },
        {
         "customdata": [
          [
           "NvaPAzucar500->NvaMaitenc500",
           "NvaPAzucar500",
           "NvaMaitencillo500"
          ]
         ],
         "hovertemplate": "<b>%{customdata[0]}</b><br>From: %{customdata[1]}<br>To: %{customdata[2]}<extra></extra>",
         "lat": [
          -30.12062688,
          -28.54432365
         ],
         "line": {
          "color": "#B0B6BE",
          "width": 2
         },
         "lon": [
          -71.21578489,
          -70.92982709
         ],
         "mode": "lines",
         "showlegend": false,
         "type": "scattergeo"
        },
        {
         "customdata": [
          [
           "NvaPAzucar500->PAzucar220",
           "NvaPAzucar500",
           "PAzucar220"
          ]
         ],
         "hovertemplate": "<b>%{customdata[0]}</b><br>From: %{customdata[1]}<br>To: %{customdata[2]}<extra></extra>",
         "lat": [
          -30.12062688,
          -29.97741497
         ],
         "line": {
          "color": "#B0B6BE",
          "width": 2
         },
         "lon": [
          -71.21578489,
          -71.27612693
         ],
         "mode": "lines",
         "showlegend": false,
         "type": "scattergeo"
        },
        {
         "customdata": [
          [
           "NvaPAzucar500->Polpaico500_I",
           "NvaPAzucar500",
           "Polpaico500"
          ]
         ],
         "hovertemplate": "<b>%{customdata[0]}</b><br>From: %{customdata[1]}<br>To: %{customdata[2]}<extra></extra>",
         "lat": [
          -30.12062688,
          -33.19629169
         ],
         "line": {
          "color": "#B0B6BE",
          "width": 2
         },
         "lon": [
          -71.21578489,
          -70.86099782
         ],
         "mode": "lines",
         "showlegend": false,
         "type": "scattergeo"
        },
        {
         "customdata": [
          [
           "NvaPAzucar500->Polpaico500_II",
           "NvaPAzucar500",
           "Polpaico500"
          ]
         ],
         "hovertemplate": "<b>%{customdata[0]}</b><br>From: %{customdata[1]}<br>To: %{customdata[2]}<extra></extra>",
         "lat": [
          -30.12062688,
          -33.19629169
         ],
         "line": {
          "color": "#B0B6BE",
          "width": 2
         },
         "lon": [
          -71.21578489,
          -70.86099782
         ],
         "mode": "lines",
         "showlegend": false,
         "type": "scattergeo"
        },
        {
         "customdata": [
          [
           "NvaPAzucar500_SC->NvaMaitenc500_SC",
           "NvaPAzucar500",
           "NvaMaitencillo500"
          ]
         ],
         "hovertemplate": "<b>%{customdata[0]}</b><br>From: %{customdata[1]}<br>To: %{customdata[2]}<extra></extra>",
         "lat": [
          -30.12062688,
          -28.54432365
         ],
         "line": {
          "color": "#B0B6BE",
          "width": 2
         },
         "lon": [
          -71.21578489,
          -70.92982709
         ],
         "mode": "lines",
         "showlegend": false,
         "type": "scattergeo"
        },
        {
         "customdata": [
          [
           "NvaPAzucar500_SC->Polpaico500_II_SC",
           "NvaPAzucar500",
           "Polpaico500"
          ]
         ],
         "hovertemplate": "<b>%{customdata[0]}</b><br>From: %{customdata[1]}<br>To: %{customdata[2]}<extra></extra>",
         "lat": [
          -30.12062688,
          -33.19629169
         ],
         "line": {
          "color": "#B0B6BE",
          "width": 2
         },
         "lon": [
          -71.21578489,
          -70.86099782
         ],
         "mode": "lines",
         "showlegend": false,
         "type": "scattergeo"
        },
        {
         "customdata": [
          [
           "NvaPAzucar500_SC->Polpaico500_I_SC",
           "NvaPAzucar500",
           "Polpaico500"
          ]
         ],
         "hovertemplate": "<b>%{customdata[0]}</b><br>From: %{customdata[1]}<br>To: %{customdata[2]}<extra></extra>",
         "lat": [
          -30.12062688,
          -33.19629169
         ],
         "line": {
          "color": "#B0B6BE",
          "width": 2
         },
         "lon": [
          -71.21578489,
          -70.86099782
         ],
         "mode": "lines",
         "showlegend": false,
         "type": "scattergeo"
        },
        {
         "customdata": [
          [
           "NvaZaldivar220->Andes220",
           "NvaZaldivar220",
           "Andes220"
          ]
         ],
         "hovertemplate": "<b>%{customdata[0]}</b><br>From: %{customdata[1]}<br>To: %{customdata[2]}<extra></extra>",
         "lat": [
          -24.16288619,
          -24.01706584
         ],
         "line": {
          "color": "#B0B6BE",
          "width": 2
         },
         "lon": [
          -69.06433185,
          -68.58226425
         ],
         "mode": "lines",
         "showlegend": false,
         "type": "scattergeo"
        },
        {
         "customdata": [
          [
           "NvaZaldivar220->Domeyko220",
           "NvaZaldivar220",
           "Domeyko220"
          ]
         ],
         "hovertemplate": "<b>%{customdata[0]}</b><br>From: %{customdata[1]}<br>To: %{customdata[2]}<extra></extra>",
         "lat": [
          -24.16288619,
          -24.24322403
         ],
         "line": {
          "color": "#B0B6BE",
          "width": 2
         },
         "lon": [
          -69.06433185,
          -69.10151791
         ],
         "mode": "lines",
         "showlegend": false,
         "type": "scattergeo"
        },
        {
         "customdata": [
          [
           "OHiggins220->Domeyko220",
           "Ohiggins220_BP1",
           "Domeyko220"
          ]
         ],
         "hovertemplate": "<b>%{customdata[0]}</b><br>From: %{customdata[1]}<br>To: %{customdata[2]}<extra></extra>",
         "lat": [
          -23.6920015,
          -24.24322403
         ],
         "line": {
          "color": "#B0B6BE",
          "width": 2
         },
         "lon": [
          -70.21462127,
          -69.10151791
         ],
         "mode": "lines",
         "showlegend": false,
         "type": "scattergeo"
        },
        {
         "customdata": [
          [
           "OHiggins220->Palestina220",
           "Ohiggins220_BP1",
           "Palestina220"
          ]
         ],
         "hovertemplate": "<b>%{customdata[0]}</b><br>From: %{customdata[1]}<br>To: %{customdata[2]}<extra></extra>",
         "lat": [
          -23.6920015,
          -23.90919845
         ],
         "line": {
          "color": "#B0B6BE",
          "width": 2
         },
         "lon": [
          -70.21462127,
          -69.78358885
         ],
         "mode": "lines",
         "showlegend": false,
         "type": "scattergeo"
        },
        {
         "customdata": [
          [
           "Ochagavia110->Florida110",
           "Ochagavia110",
           "Florida110"
          ]
         ],
         "hovertemplate": "<b>%{customdata[0]}</b><br>From: %{customdata[1]}<br>To: %{customdata[2]}<extra></extra>",
         "lat": [
          -33.47967404,
          -33.54698797
         ],
         "line": {
          "color": "#B0B6BE",
          "width": 2
         },
         "lon": [
          -70.66709987,
          -70.54454611
         ],
         "mode": "lines",
         "showlegend": false,
         "type": "scattergeo"
        },
        {
         "customdata": [
          [
           "PAlmonte220->Condores220",
           "PAlmonte220",
           "Condores220"
          ]
         ],
         "hovertemplate": "<b>%{customdata[0]}</b><br>From: %{customdata[1]}<br>To: %{customdata[2]}<extra></extra>",
         "lat": [
          -20.25849028,
          -20.24832587
         ],
         "line": {
          "color": "#B0B6BE",
          "width": 2
         },
         "lon": [
          -69.7733456,
          -70.07941081
         ],
         "mode": "lines",
         "showlegend": false,
         "type": "scattergeo"
        },
        {
         "customdata": [
          [
           "PAlmonte220->Lagunas220",
           "PAlmonte220",
           "Lagunas220"
          ]
         ],
         "hovertemplate": "<b>%{customdata[0]}</b><br>From: %{customdata[1]}<br>To: %{customdata[2]}<extra></extra>",
         "lat": [
          -20.25849028,
          -20.81453152
         ],
         "line": {
          "color": "#B0B6BE",
          "width": 2
         },
         "lon": [
          -69.7733456,
          -69.69405143
         ],
         "mode": "lines",
         "showlegend": false,
         "type": "scattergeo"
        },
        {
         "customdata": [
          [
           "PAlmonte220->PAlmonte110",
           "PAlmonte220",
           "PAlmonte110"
          ]
         ],
         "hovertemplate": "<b>%{customdata[0]}</b><br>From: %{customdata[1]}<br>To: %{customdata[2]}<extra></extra>",
         "lat": [
          -20.25849028,
          -20.25849028
         ],
         "line": {
          "color": "#B0B6BE",
          "width": 2
         },
         "lon": [
          -69.7733456,
          -69.7733456
         ],
         "mode": "lines",
         "showlegend": false,
         "type": "scattergeo"
        },
        {
         "customdata": [
          [
           "PAzucar110->ElPenon110",
           "PAzucar110",
           "ElPenon110"
          ]
         ],
         "hovertemplate": "<b>%{customdata[0]}</b><br>From: %{customdata[1]}<br>To: %{customdata[2]}<extra></extra>",
         "lat": [
          -29.97741497,
          -30.14313672
         ],
         "line": {
          "color": "#B0B6BE",
          "width": 2
         },
         "lon": [
          -71.27612693,
          -71.22790243
         ],
         "mode": "lines",
         "showlegend": false,
         "type": "scattergeo"
        },
        {
         "customdata": [
          [
           "PAzucar110->Maitenc110",
           "PAzucar110",
           "Maitencillo110"
          ]
         ],
         "hovertemplate": "<b>%{customdata[0]}</b><br>From: %{customdata[1]}<br>To: %{customdata[2]}<extra></extra>",
         "lat": [
          -29.97741497,
          -28.53563546
         ],
         "line": {
          "color": "#B0B6BE",
          "width": 2
         },
         "lon": [
          -71.27612693,
          -70.92270995
         ],
         "mode": "lines",
         "showlegend": false,
         "type": "scattergeo"
        },
        {
         "customdata": [
          [
           "PAzucar220->DonGoyo220",
           "PAzucar220",
           "DonGoyo220"
          ]
         ],
         "hovertemplate": "<b>%{customdata[0]}</b><br>From: %{customdata[1]}<br>To: %{customdata[2]}<extra></extra>",
         "lat": [
          -29.97741497,
          -30.57328212
         ],
         "line": {
          "color": "#B0B6BE",
          "width": 2
         },
         "lon": [
          -71.27612693,
          -71.49763099
         ],
         "mode": "lines",
         "showlegend": false,
         "type": "scattergeo"
        },
        {
         "customdata": [
          [
           "PAzucar220->PAzucar110",
           "PAzucar220",
           "PAzucar110"
          ]
         ],
         "hovertemplate": "<b>%{customdata[0]}</b><br>From: %{customdata[1]}<br>To: %{customdata[2]}<extra></extra>",
         "lat": [
          -29.97741497,
          -29.97741497
         ],
         "line": {
          "color": "#B0B6BE",
          "width": 2
         },
         "lon": [
          -71.27612693,
          -71.27612693
         ],
         "mode": "lines",
         "showlegend": false,
         "type": "scattergeo"
        },
        {
         "customdata": [
          [
           "PAzucar220->PuntaSierra220",
           "PAzucar220",
           "PuntaSierra220"
          ]
         ],
         "hovertemplate": "<b>%{customdata[0]}</b><br>From: %{customdata[1]}<br>To: %{customdata[2]}<extra></extra>",
         "lat": [
          -29.97741497,
          -31.06136137
         ],
         "line": {
          "color": "#B0B6BE",
          "width": 2
         },
         "lon": [
          -71.27612693,
          -71.61252169
         ],
         "mode": "lines",
         "showlegend": false,
         "type": "scattergeo"
        },
        {
         "customdata": [
          [
           "PColorada220->PAzucar220",
           "PColorada220",
           "PAzucar220"
          ]
         ],
         "hovertemplate": "<b>%{customdata[0]}</b><br>From: %{customdata[1]}<br>To: %{customdata[2]}<extra></extra>",
         "lat": [
          -29.36818829,
          -29.97741497
         ],
         "line": {
          "color": "#B0B6BE",
          "width": 2
         },
         "lon": [
          -71.04761699,
          -71.27612693
         ],
         "mode": "lines",
         "showlegend": false,
         "type": "scattergeo"
        },
        {
         "customdata": [
          [
           "PColorada220->PAzucar220_II",
           "PColorada220",
           "PAzucar220"
          ]
         ],
         "hovertemplate": "<b>%{customdata[0]}</b><br>From: %{customdata[1]}<br>To: %{customdata[2]}<extra></extra>",
         "lat": [
          -29.36818829,
          -29.97741497
         ],
         "line": {
          "color": "#B0B6BE",
          "width": 2
         },
         "lon": [
          -71.04761699,
          -71.27612693
         ],
         "mode": "lines",
         "showlegend": false,
         "type": "scattergeo"
        },
        {
         "customdata": [
          [
           "PMontt220->Chiloe110",
           "PMontt220",
           "Chiloe110"
          ]
         ],
         "hovertemplate": "<b>%{customdata[0]}</b><br>From: %{customdata[1]}<br>To: %{customdata[2]}<extra></extra>",
         "lat": [
          -41.45129451,
          -42.14432067
         ],
         "line": {
          "color": "#B0B6BE",
          "width": 2
         },
         "lon": [
          -72.95217159,
          -73.71423445
         ],
         "mode": "lines",
         "showlegend": false,
         "type": "scattergeo"
        },
        {
         "customdata": [
          [
           "PMontt220->Molinos110",
           "PMontt220",
           "Molinos110"
          ]
         ],
         "hovertemplate": "<b>%{customdata[0]}</b><br>From: %{customdata[1]}<br>To: %{customdata[2]}<extra></extra>",
         "lat": [
          -41.45129451,
          -41.51882406
         ],
         "line": {
          "color": "#B0B6BE",
          "width": 2
         },
         "lon": [
          -72.95217159,
          -73.07769666
         ],
         "mode": "lines",
         "showlegend": false,
         "type": "scattergeo"
        },
        {
         "customdata": [
          [
           "PNegro220->Candela220",
           "PNegro220",
           "Candelaria220"
          ]
         ],
         "hovertemplate": "<b>%{customdata[0]}</b><br>From: %{customdata[1]}<br>To: %{customdata[2]}<extra></extra>",
         "lat": [
          -34.68918029,
          -34.03396985
         ],
         "line": {
          "color": "#B0B6BE",
          "width": 2
         },
         "lon": [
          -70.89708288,
          -70.61039896
         ],
         "mode": "lines",
         "showlegend": false,
         "type": "scattergeo"
        },
        {
         "customdata": [
          [
           "PPeuco110->LVegas110",
           "PPeuco110",
           "LVegas110"
          ]
         ],
         "hovertemplate": "<b>%{customdata[0]}</b><br>From: %{customdata[1]}<br>To: %{customdata[2]}<extra></extra>",
         "lat": [
          -33.11893736,
          -32.84348693
         ],
         "line": {
          "color": "#B0B6BE",
          "width": 2
         },
         "lon": [
          -70.82599152,
          -71.01163824
         ],
         "mode": "lines",
         "showlegend": false,
         "type": "scattergeo"
        },
        {
         "customdata": [
          [
           "PPeuco110->LVegas110_I",
           "PPeuco110",
           "LVegas110"
          ]
         ],
         "hovertemplate": "<b>%{customdata[0]}</b><br>From: %{customdata[1]}<br>To: %{customdata[2]}<extra></extra>",
         "lat": [
          -33.11893736,
          -32.84348693
         ],
         "line": {
          "color": "#B0B6BE",
          "width": 2
         },
         "lon": [
          -70.82599152,
          -71.01163824
         ],
         "mode": "lines",
         "showlegend": false,
         "type": "scattergeo"
        },
        {
         "customdata": [
          [
           "Pachacama110->LVegas110",
           "Pachacama110",
           "LVegas110"
          ]
         ],
         "hovertemplate": "<b>%{customdata[0]}</b><br>From: %{customdata[1]}<br>To: %{customdata[2]}<extra></extra>",
         "lat": [
          -32.85547758,
          -32.84348693
         ],
         "line": {
          "color": "#B0B6BE",
          "width": 2
         },
         "lon": [
          -71.15479278,
          -71.01163824
         ],
         "mode": "lines",
         "showlegend": false,
         "type": "scattergeo"
        },
        {
         "customdata": [
          [
           "Paine154->Tuniche154_I",
           "Paine154",
           "Tuniche154_I"
          ]
         ],
         "hovertemplate": "<b>%{customdata[0]}</b><br>From: %{customdata[1]}<br>To: %{customdata[2]}<extra></extra>",
         "lat": [
          -33.82378987,
          -34.11953635
         ],
         "line": {
          "color": "#B0B6BE",
          "width": 2
         },
         "lon": [
          -70.75164991,
          -70.75327034
         ],
         "mode": "lines",
         "showlegend": false,
         "type": "scattergeo"
        },
        {
         "customdata": [
          [
           "Palestina220->Domeyko220",
           "Palestina220",
           "Domeyko220"
          ]
         ],
         "hovertemplate": "<b>%{customdata[0]}</b><br>From: %{customdata[1]}<br>To: %{customdata[2]}<extra></extra>",
         "lat": [
          -23.90919845,
          -24.24322403
         ],
         "line": {
          "color": "#B0B6BE",
          "width": 2
         },
         "lon": [
          -69.78358885,
          -69.10151791
         ],
         "mode": "lines",
         "showlegend": false,
         "type": "scattergeo"
        },
        {
         "customdata": [
          [
           "Pampa110->Desalant110",
           "Pampa110",
           "Desalant110"
          ]
         ],
         "hovertemplate": "<b>%{customdata[0]}</b><br>From: %{customdata[1]}<br>To: %{customdata[2]}<extra></extra>",
         "lat": [
          -23.54285733,
          -23.54285733
         ],
         "line": {
          "color": "#B0B6BE",
          "width": 2
         },
         "lon": [
          -70.3985431,
          -70.3985431
         ],
         "mode": "lines",
         "showlegend": false,
         "type": "scattergeo"
        },
        {
         "customdata": [
          [
           "Pangue220->Cholguan220",
           "Pangue220",
           "Cholguan220"
          ]
         ],
         "hovertemplate": "<b>%{customdata[0]}</b><br>From: %{customdata[1]}<br>To: %{customdata[2]}<extra></extra>",
         "lat": [
          -37.90622623,
          -37.1650052
         ],
         "line": {
          "color": "#B0B6BE",
          "width": 2
         },
         "lon": [
          -71.61410375,
          -72.07323547
         ],
         "mode": "lines",
         "showlegend": false,
         "type": "scattergeo"
        },
        {
         "customdata": [
          [
           "Pangue220->LosNotros220",
           "Pangue220",
           "LosNotros220"
          ]
         ],
         "hovertemplate": "<b>%{customdata[0]}</b><br>From: %{customdata[1]}<br>To: %{customdata[2]}<extra></extra>",
         "lat": [
          -37.90622623,
          -37.70872254
         ],
         "line": {
          "color": "#B0B6BE",
          "width": 2
         },
         "lon": [
          -71.61410375,
          -71.82131512
         ],
         "mode": "lines",
         "showlegend": false,
         "type": "scattergeo"
        },
        {
         "customdata": [
          [
           "Pangue220->Trupan220",
           "Pangue220",
           "Trupan220"
          ]
         ],
         "hovertemplate": "<b>%{customdata[0]}</b><br>From: %{customdata[1]}<br>To: %{customdata[2]}<extra></extra>",
         "lat": [
          -37.90622623,
          -37.31041103
         ],
         "line": {
          "color": "#B0B6BE",
          "width": 2
         },
         "lon": [
          -71.61410375,
          -71.62934479
         ],
         "mode": "lines",
         "showlegend": false,
         "type": "scattergeo"
        },
        {
         "customdata": [
          [
           "Paposo220->Cachiyuyal220",
           "Paposo220",
           "Cachiyuyal220"
          ]
         ],
         "hovertemplate": "<b>%{customdata[0]}</b><br>From: %{customdata[1]}<br>To: %{customdata[2]}<extra></extra>",
         "lat": [
          -24.98783118,
          -25.54459246
         ],
         "line": {
          "color": "#B0B6BE",
          "width": 2
         },
         "lon": [
          -70.46414092,
          -70.31325104
         ],
         "mode": "lines",
         "showlegend": false,
         "type": "scattergeo"
        },
        {
         "customdata": [
          [
           "Paposo220->Francisco220",
           "Paposo220",
           "Francisco220"
          ]
         ],
         "hovertemplate": "<b>%{customdata[0]}</b><br>From: %{customdata[1]}<br>To: %{customdata[2]}<extra></extra>",
         "lat": [
          -24.98783118,
          -25.53738032
         ],
         "line": {
          "color": "#B0B6BE",
          "width": 2
         },
         "lon": [
          -70.46414092,
          -70.31604858
         ],
         "mode": "lines",
         "showlegend": false,
         "type": "scattergeo"
        },
        {
         "customdata": [
          [
           "Parral154->Linares154",
           "Parral154",
           "Linares154"
          ]
         ],
         "hovertemplate": "<b>%{customdata[0]}</b><br>From: %{customdata[1]}<br>To: %{customdata[2]}<extra></extra>",
         "lat": [
          -36.13230152,
          -35.84500058
         ],
         "line": {
          "color": "#B0B6BE",
          "width": 2
         },
         "lon": [
          -71.80432207,
          -71.62809543
         ],
         "mode": "lines",
         "showlegend": false,
         "type": "scattergeo"
        },
        {
         "customdata": [
          [
           "Pehuenche220->Ancoa220",
           "Pehuenche220",
           "Ancoa220"
          ]
         ],
         "hovertemplate": "<b>%{customdata[0]}</b><br>From: %{customdata[1]}<br>To: %{customdata[2]}<extra></extra>",
         "lat": [
          -35.73108144,
          -35.68185977
         ],
         "line": {
          "color": "#B0B6BE",
          "width": 2
         },
         "lon": [
          -71.16346822,
          -71.3772166
         ],
         "mode": "lines",
         "showlegend": false,
         "type": "scattergeo"
        },
        {
         "customdata": [
          [
           "Petroquim154->Hualpen154",
           "Petroquim154",
           "Hualpen154"
          ]
         ],
         "hovertemplate": "<b>%{customdata[0]}</b><br>From: %{customdata[1]}<br>To: %{customdata[2]}<extra></extra>",
         "lat": [
          -36.78496286,
          -36.78803072
         ],
         "line": {
          "color": "#B0B6BE",
          "width": 2
         },
         "lon": [
          -73.11909765,
          -73.12101735
         ],
         "mode": "lines",
         "showlegend": false,
         "type": "scattergeo"
        },
        {
         "customdata": [
          [
           "Pid-Pid110->Chonchi110",
           "Pid-Pid110",
           "Chonchi110"
          ]
         ],
         "hovertemplate": "<b>%{customdata[0]}</b><br>From: %{customdata[1]}<br>To: %{customdata[2]}<extra></extra>",
         "lat": [
          -42.41539858,
          -42.62698699
         ],
         "line": {
          "color": "#B0B6BE",
          "width": 2
         },
         "lon": [
          -73.77325955,
          -73.8056732
         ],
         "mode": "lines",
         "showlegend": false,
         "type": "scattergeo"
        },
        {
         "customdata": [
          [
           "Pillanlelbun066->Lautaro066",
           "Pillanlelbun066",
           "Lautaro066"
          ]
         ],
         "hovertemplate": "<b>%{customdata[0]}</b><br>From: %{customdata[1]}<br>To: %{customdata[2]}<extra></extra>",
         "lat": [
          -38.70899835,
          -38.54136156
         ],
         "line": {
          "color": "#B0B6BE",
          "width": 2
         },
         "lon": [
          -72.55794286,
          -72.46129553
         ],
         "mode": "lines",
         "showlegend": false,
         "type": "scattergeo"
        },
        {
         "customdata": [
          [
           "Polpaico220->ElSalto110",
           "Polpaico220",
           "ElSalto110"
          ]
         ],
         "hovertemplate": "<b>%{customdata[0]}</b><br>From: %{customdata[1]}<br>To: %{customdata[2]}<extra></extra>",
         "lat": [
          -33.19629169,
          -33.35807858
         ],
         "line": {
          "color": "#B0B6BE",
          "width": 2
         },
         "lon": [
          -70.86099782,
          -70.62855013
         ],
         "mode": "lines",
         "showlegend": false,
         "type": "scattergeo"
        },
        {
         "customdata": [
          [
           "Polpaico500->Polpaico220",
           "Polpaico500",
           "Polpaico220"
          ]
         ],
         "hovertemplate": "<b>%{customdata[0]}</b><br>From: %{customdata[1]}<br>To: %{customdata[2]}<extra></extra>",
         "lat": [
          -33.19629169,
          -33.19629169
         ],
         "line": {
          "color": "#B0B6BE",
          "width": 2
         },
         "lon": [
          -70.86099782,
          -70.86099782
         ],
         "mode": "lines",
         "showlegend": false,
         "type": "scattergeo"
        },
        {
         "customdata": [
          [
           "Prrahue220->Rahue220",
           "Pichirrahue220",
           "Rahue220"
          ]
         ],
         "hovertemplate": "<b>%{customdata[0]}</b><br>From: %{customdata[1]}<br>To: %{customdata[2]}<extra></extra>",
         "lat": [
          -40.57221431,
          -40.57334841
         ],
         "line": {
          "color": "#B0B6BE",
          "width": 2
         },
         "lon": [
          -73.08433751,
          -73.08428153
         ],
         "mode": "lines",
         "showlegend": false,
         "type": "scattergeo"
        },
        {
         "customdata": [
          [
           "Prropulli220->Prrahue220",
           "Pichirropulli220",
           "Pichirrahue220"
          ]
         ],
         "hovertemplate": "<b>%{customdata[0]}</b><br>From: %{customdata[1]}<br>To: %{customdata[2]}<extra></extra>",
         "lat": [
          -40.16044682,
          -40.57221431
         ],
         "line": {
          "color": "#B0B6BE",
          "width": 2
         },
         "lon": [
          -72.88749473,
          -73.08433751
         ],
         "mode": "lines",
         "showlegend": false,
         "type": "scattergeo"
        },
        {
         "customdata": [
          [
           "Prropulli220->Rahue220",
           "Pichirropulli220",
           "Rahue220"
          ]
         ],
         "hovertemplate": "<b>%{customdata[0]}</b><br>From: %{customdata[1]}<br>To: %{customdata[2]}<extra></extra>",
         "lat": [
          -40.16044682,
          -40.57334841
         ],
         "line": {
          "color": "#B0B6BE",
          "width": 2
         },
         "lon": [
          -72.88749473,
          -73.08428153
         ],
         "mode": "lines",
         "showlegend": false,
         "type": "scattergeo"
        },
        {
         "customdata": [
          [
           "PuntaSierra220->LPalmas220",
           "PuntaSierra220",
           "LPalmas220"
          ]
         ],
         "hovertemplate": "<b>%{customdata[0]}</b><br>From: %{customdata[1]}<br>To: %{customdata[2]}<extra></extra>",
         "lat": [
          -31.06136137,
          -31.28778804
         ],
         "line": {
          "color": "#B0B6BE",
          "width": 2
         },
         "lon": [
          -71.61252169,
          -71.58864121
         ],
         "mode": "lines",
         "showlegend": false,
         "type": "scattergeo"
        },
        {
         "customdata": [
          [
           "PuntaSierra220->Mauro220",
           "PuntaSierra220",
           "Mauro220"
          ]
         ],
         "hovertemplate": "<b>%{customdata[0]}</b><br>From: %{customdata[1]}<br>To: %{customdata[2]}<extra></extra>",
         "lat": [
          -31.06136137,
          -31.5634
         ],
         "line": {
          "color": "#B0B6BE",
          "width": 2
         },
         "lon": [
          -71.61252169,
          -71.0021
         ],
         "mode": "lines",
         "showlegend": false,
         "type": "scattergeo"
        },
        {
         "customdata": [
          [
           "Quillota110->Mirafl110",
           "Quillota110",
           "Miraflores110"
          ]
         ],
         "hovertemplate": "<b>%{customdata[0]}</b><br>From: %{customdata[1]}<br>To: %{customdata[2]}<extra></extra>",
         "lat": [
          -32.95247528,
          -33.03481397
         ],
         "line": {
          "color": "#B0B6BE",
          "width": 2
         },
         "lon": [
          -71.24932105,
          -71.52535858
         ],
         "mode": "lines",
         "showlegend": false,
         "type": "scattergeo"
        },
        {
         "customdata": [
          [
           "Quillota110->Pachacam110",
           "Quillota110",
           "Pachacama110"
          ]
         ],
         "hovertemplate": "<b>%{customdata[0]}</b><br>From: %{customdata[1]}<br>To: %{customdata[2]}<extra></extra>",
         "lat": [
          -32.95247528,
          -32.85547758
         ],
         "line": {
          "color": "#B0B6BE",
          "width": 2
         },
         "lon": [
          -71.24932105,
          -71.15479278
         ],
         "mode": "lines",
         "showlegend": false,
         "type": "scattergeo"
        },
        {
         "customdata": [
          [
           "Quillota220->Mauro220",
           "Quillota220",
           "Mauro220"
          ]
         ],
         "hovertemplate": "<b>%{customdata[0]}</b><br>From: %{customdata[1]}<br>To: %{customdata[2]}<extra></extra>",
         "lat": [
          -32.95247528,
          -31.5634
         ],
         "line": {
          "color": "#B0B6BE",
          "width": 2
         },
         "lon": [
          -71.24932105,
          -71.0021
         ],
         "mode": "lines",
         "showlegend": false,
         "type": "scattergeo"
        },
        {
         "customdata": [
          [
           "Quillota220->Polpaico220",
           "Quillota220",
           "Polpaico220"
          ]
         ],
         "hovertemplate": "<b>%{customdata[0]}</b><br>From: %{customdata[1]}<br>To: %{customdata[2]}<extra></extra>",
         "lat": [
          -32.95247528,
          -33.19629169
         ],
         "line": {
          "color": "#B0B6BE",
          "width": 2
         },
         "lon": [
          -71.24932105,
          -70.86099782
         ],
         "mode": "lines",
         "showlegend": false,
         "type": "scattergeo"
        },
        {
         "customdata": [
          [
           "Quillota220->Quillota110",
           "Quillota220",
           "Quillota110"
          ]
         ],
         "hovertemplate": "<b>%{customdata[0]}</b><br>From: %{customdata[1]}<br>To: %{customdata[2]}<extra></extra>",
         "lat": [
          -32.95247528,
          -32.95247528
         ],
         "line": {
          "color": "#B0B6BE",
          "width": 2
         },
         "lon": [
          -71.24932105,
          -71.24932105
         ],
         "mode": "lines",
         "showlegend": false,
         "type": "scattergeo"
        },
        {
         "customdata": [
          [
           "Quintero220->SanLuis220",
           "Quintero220",
           "SanLuis220"
          ]
         ],
         "hovertemplate": "<b>%{customdata[0]}</b><br>From: %{customdata[1]}<br>To: %{customdata[2]}<extra></extra>",
         "lat": [
          -32.78883291,
          -32.93781455
         ],
         "line": {
          "color": "#B0B6BE",
          "width": 2
         },
         "lon": [
          -71.48618333,
          -71.31680201
         ],
         "mode": "lines",
         "showlegend": false,
         "type": "scattergeo"
        },
        {
         "customdata": [
          [
           "Ralco220->LosNotros220",
           "Ralco220",
           "LosNotros220"
          ]
         ],
         "hovertemplate": "<b>%{customdata[0]}</b><br>From: %{customdata[1]}<br>To: %{customdata[2]}<extra></extra>",
         "lat": [
          -37.99861778,
          -37.70872254
         ],
         "line": {
          "color": "#B0B6BE",
          "width": 2
         },
         "lon": [
          -71.51728022,
          -71.82131512
         ],
         "mode": "lines",
         "showlegend": false,
         "type": "scattergeo"
        },
        {
         "customdata": [
          [
           "Rancagua154->Tuniche154_I",
           "Rancagua154",
           "Tuniche154_I"
          ]
         ],
         "hovertemplate": "<b>%{customdata[0]}</b><br>From: %{customdata[1]}<br>To: %{customdata[2]}<extra></extra>",
         "lat": [
          -34.16636138,
          -34.11953635
         ],
         "line": {
          "color": "#B0B6BE",
          "width": 2
         },
         "lon": [
          -70.72599005,
          -70.75327034
         ],
         "mode": "lines",
         "showlegend": false,
         "type": "scattergeo"
        },
        {
         "customdata": [
          [
           "Rancagua154->Tuniche154_II",
           "Rancagua154",
           "Tuniche154_II"
          ]
         ],
         "hovertemplate": "<b>%{customdata[0]}</b><br>From: %{customdata[1]}<br>To: %{customdata[2]}<extra></extra>",
         "lat": [
          -34.16636138,
          -34.11953635
         ],
         "line": {
          "color": "#B0B6BE",
          "width": 2
         },
         "lon": [
          -70.72599005,
          -70.75327034
         ],
         "mode": "lines",
         "showlegend": false,
         "type": "scattergeo"
        },
        {
         "customdata": [
          [
           "Rapel220->AMelipill220",
           "Rapel220",
           "AMelipilla220"
          ]
         ],
         "hovertemplate": "<b>%{customdata[0]}</b><br>From: %{customdata[1]}<br>To: %{customdata[2]}<extra></extra>",
         "lat": [
          -34.03736568,
          -33.69154516
         ],
         "line": {
          "color": "#B0B6BE",
          "width": 2
         },
         "lon": [
          -71.58433895,
          -71.23848626
         ],
         "mode": "lines",
         "showlegend": false,
         "type": "scattergeo"
        },
        {
         "customdata": [
          [
           "Rapel220->LoAguirre220",
           "Rapel220",
           "LoAguirre220"
          ]
         ],
         "hovertemplate": "<b>%{customdata[0]}</b><br>From: %{customdata[1]}<br>To: %{customdata[2]}<extra></extra>",
         "lat": [
          -34.03736568,
          -33.44005082
         ],
         "line": {
          "color": "#B0B6BE",
          "width": 2
         },
         "lon": [
          -71.58433895,
          -70.89773497
         ],
         "mode": "lines",
         "showlegend": false,
         "type": "scattergeo"
        },
        {
         "customdata": [
          [
           "Renca110->CNavia110",
           "Renca110",
           "CNavia110"
          ]
         ],
         "hovertemplate": "<b>%{customdata[0]}</b><br>From: %{customdata[1]}<br>To: %{customdata[2]}<extra></extra>",
         "lat": [
          -33.41713316,
          -33.42196567
         ],
         "line": {
          "color": "#B0B6BE",
          "width": 2
         },
         "lon": [
          -70.68972336,
          -70.72971588
         ],
         "mode": "lines",
         "showlegend": false,
         "type": "scattergeo"
        },
        {
         "customdata": [
          [
           "RioTolten220->Ciruelos220",
           "RioTolten220",
           "Ciruelos220"
          ]
         ],
         "hovertemplate": "<b>%{customdata[0]}</b><br>From: %{customdata[1]}<br>To: %{customdata[2]}<extra></extra>",
         "lat": [
          -38.9775674378,
          -39.54932181
         ],
         "line": {
          "color": "#B0B6BE",
          "width": 2
         },
         "lon": [
          -72.6458666364,
          -72.91114846
         ],
         "mode": "lines",
         "showlegend": false,
         "type": "scattergeo"
        },
        {
         "customdata": [
          [
           "Rucue220->Charrua220",
           "Rucue220",
           "Charrua220"
          ]
         ],
         "hovertemplate": "<b>%{customdata[0]}</b><br>From: %{customdata[1]}<br>To: %{customdata[2]}<extra></extra>",
         "lat": [
          -37.36081162,
          -37.09514251
         ],
         "line": {
          "color": "#B0B6BE",
          "width": 2
         },
         "lon": [
          -71.86682895,
          -72.32163459
         ],
         "mode": "lines",
         "showlegend": false,
         "type": "scattergeo"
        },
        {
         "customdata": [
          [
           "S-Km6100->Salar110",
           "S-Km6100",
           "Salar110"
          ]
         ],
         "hovertemplate": "<b>%{customdata[0]}</b><br>From: %{customdata[1]}<br>To: %{customdata[2]}<extra></extra>",
         "lat": [
          -22.32346212,
          -22.34091926
         ],
         "line": {
          "color": "#B0B6BE",
          "width": 2
         },
         "lon": [
          -68.88376968,
          -68.87576278
         ],
         "mode": "lines",
         "showlegend": false,
         "type": "scattergeo"
        },
        {
         "customdata": [
          [
           "SCristobal110->CNavia110",
           "SCristobal110",
           "CNavia110"
          ]
         ],
         "hovertemplate": "<b>%{customdata[0]}</b><br>From: %{customdata[1]}<br>To: %{customdata[2]}<extra></extra>",
         "lat": [
          -33.42689702,
          -33.42196567
         ],
         "line": {
          "color": "#B0B6BE",
          "width": 2
         },
         "lon": [
          -70.63886873,
          -70.72971588
         ],
         "mode": "lines",
         "showlegend": false,
         "type": "scattergeo"
        },
        {
         "customdata": [
          [
           "SFcoMost066->Paine154",
           "SFcoMost066",
           "Paine154"
          ]
         ],
         "hovertemplate": "<b>%{customdata[0]}</b><br>From: %{customdata[1]}<br>To: %{customdata[2]}<extra></extra>",
         "lat": [
          -33.98103929,
          -33.82378987
         ],
         "line": {
          "color": "#B0B6BE",
          "width": 2
         },
         "lon": [
          -70.70132162,
          -70.75164991
         ],
         "mode": "lines",
         "showlegend": false,
         "type": "scattergeo"
        },
        {
         "customdata": [
          [
           "SJavier66->Constituci66",
           "SJavier066",
           "Constitucion066"
          ]
         ],
         "hovertemplate": "<b>%{customdata[0]}</b><br>From: %{customdata[1]}<br>To: %{customdata[2]}<extra></extra>",
         "lat": [
          -35.58869204,
          -35.36363067
         ],
         "line": {
          "color": "#B0B6BE",
          "width": 2
         },
         "lon": [
          -71.71210071,
          -72.40245292
         ],
         "mode": "lines",
         "showlegend": false,
         "type": "scattergeo"
        },
        {
         "customdata": [
          [
           "SMiguel66->Talca66",
           "SMiguel066",
           "Talca066"
          ]
         ],
         "hovertemplate": "<b>%{customdata[0]}</b><br>From: %{customdata[1]}<br>To: %{customdata[2]}<extra></extra>",
         "lat": [
          -35.43971952,
          -35.43737848
         ],
         "line": {
          "color": "#B0B6BE",
          "width": 2
         },
         "lon": [
          -71.61698552,
          -71.64086477
         ],
         "mode": "lines",
         "showlegend": false,
         "type": "scattergeo"
        },
        {
         "customdata": [
          [
           "SVicente154->Hualpen154",
           "SVicente154",
           "Hualpen154"
          ]
         ],
         "hovertemplate": "<b>%{customdata[0]}</b><br>From: %{customdata[1]}<br>To: %{customdata[2]}<extra></extra>",
         "lat": [
          -36.7473714,
          -36.78803072
         ],
         "line": {
          "color": "#B0B6BE",
          "width": 2
         },
         "lon": [
          -73.12387994,
          -73.12101735
         ],
         "mode": "lines",
         "showlegend": false,
         "type": "scattergeo"
        },
        {
         "customdata": [
          [
           "SVicente154->Petroq154",
           "SVicente154",
           "Petroquim154"
          ]
         ],
         "hovertemplate": "<b>%{customdata[0]}</b><br>From: %{customdata[1]}<br>To: %{customdata[2]}<extra></extra>",
         "lat": [
          -36.7473714,
          -36.78496286
         ],
         "line": {
          "color": "#B0B6BE",
          "width": 2
         },
         "lon": [
          -73.12387994,
          -73.11909765
         ],
         "mode": "lines",
         "showlegend": false,
         "type": "scattergeo"
        },
        {
         "customdata": [
          [
           "Salar110->Salar220",
           "Salar110",
           "Salar220"
          ]
         ],
         "hovertemplate": "<b>%{customdata[0]}</b><br>From: %{customdata[1]}<br>To: %{customdata[2]}<extra></extra>",
         "lat": [
          -22.34091926,
          -22.34091926
         ],
         "line": {
          "color": "#B0B6BE",
          "width": 2
         },
         "lon": [
          -68.87576278,
          -68.87576278
         ],
         "mode": "lines",
         "showlegend": false,
         "type": "scattergeo"
        },
        {
         "customdata": [
          [
           "Salar220->Chuquicamata220",
           "Salar220",
           "Chuquicamata220"
          ]
         ],
         "hovertemplate": "<b>%{customdata[0]}</b><br>From: %{customdata[1]}<br>To: %{customdata[2]}<extra></extra>",
         "lat": [
          -22.34091926,
          -22.30449354
         ],
         "line": {
          "color": "#B0B6BE",
          "width": 2
         },
         "lon": [
          -68.87576278,
          -68.91880509
         ],
         "mode": "lines",
         "showlegend": false,
         "type": "scattergeo"
        },
        {
         "customdata": [
          [
           "SalardelCarmen",
           "Esmeralda110",
           "Antofagasta110"
          ]
         ],
         "hovertemplate": "<b>%{customdata[0]}</b><br>From: %{customdata[1]}<br>To: %{customdata[2]}<extra></extra>",
         "lat": [
          -23.67315229,
          -23.63375689
         ],
         "line": {
          "color": "#B0B6BE",
          "width": 2
         },
         "lon": [
          -70.38782665,
          -70.38002992
         ],
         "mode": "lines",
         "showlegend": false,
         "type": "scattergeo"
        },
        {
         "customdata": [
          [
           "SanLuis220->ASanta220",
           "SanLuis220",
           "ASanta220"
          ]
         ],
         "hovertemplate": "<b>%{customdata[0]}</b><br>From: %{customdata[1]}<br>To: %{customdata[2]}<extra></extra>",
         "lat": [
          -32.93781455,
          -33.07737712
         ],
         "line": {
          "color": "#B0B6BE",
          "width": 2
         },
         "lon": [
          -71.31680201,
          -71.54111889
         ],
         "mode": "lines",
         "showlegend": false,
         "type": "scattergeo"
        },
        {
         "customdata": [
          [
           "SanLuis220->Quillota220",
           "SanLuis220",
           "Quillota220"
          ]
         ],
         "hovertemplate": "<b>%{customdata[0]}</b><br>From: %{customdata[1]}<br>To: %{customdata[2]}<extra></extra>",
         "lat": [
          -32.93781455,
          -32.95247528
         ],
         "line": {
          "color": "#B0B6BE",
          "width": 2
         },
         "lon": [
          -71.31680201,
          -71.24932105
         ],
         "mode": "lines",
         "showlegend": false,
         "type": "scattergeo"
        },
        {
         "customdata": [
          [
           "SantaMaria220->Charrua220",
           "SantaMaria220",
           "Charrua220"
          ]
         ],
         "hovertemplate": "<b>%{customdata[0]}</b><br>From: %{customdata[1]}<br>To: %{customdata[2]}<extra></extra>",
         "lat": [
          -37.04012563,
          -37.09514251
         ],
         "line": {
          "color": "#B0B6BE",
          "width": 2
         },
         "lon": [
          -73.13083826,
          -72.32163459
         ],
         "mode": "lines",
         "showlegend": false,
         "type": "scattergeo"
        },
        {
         "customdata": [
          [
           "SantaMarta220->Chena220",
           "SantaMarta220",
           "Chena220"
          ]
         ],
         "hovertemplate": "<b>%{customdata[0]}</b><br>From: %{customdata[1]}<br>To: %{customdata[2]}<extra></extra>",
         "lat": [
          -33.70126062,
          -33.5260631
         ],
         "line": {
          "color": "#B0B6BE",
          "width": 2
         },
         "lon": [
          -70.79667308,
          -70.72505653
         ],
         "mode": "lines",
         "showlegend": false,
         "type": "scattergeo"
        },
        {
         "customdata": [
          [
           "Sauzal110_2->Sauzal154",
           "Sauzal110_BP2",
           "Sauzal154"
          ]
         ],
         "hovertemplate": "<b>%{customdata[0]}</b><br>From: %{customdata[1]}<br>To: %{customdata[2]}<extra></extra>",
         "lat": [
          -34.25164386,
          -34.25164386
         ],
         "line": {
          "color": "#B0B6BE",
          "width": 2
         },
         "lon": [
          -70.63195332,
          -70.63195332
         ],
         "mode": "lines",
         "showlegend": false,
         "type": "scattergeo"
        },
        {
         "customdata": [
          [
           "Sauzal154->Rancagua154",
           "Sauzal154",
           "Rancagua154"
          ]
         ],
         "hovertemplate": "<b>%{customdata[0]}</b><br>From: %{customdata[1]}<br>To: %{customdata[2]}<extra></extra>",
         "lat": [
          -34.25164386,
          -34.16636138
         ],
         "line": {
          "color": "#B0B6BE",
          "width": 2
         },
         "lon": [
          -70.63195332,
          -70.72599005
         ],
         "mode": "lines",
         "showlegend": false,
         "type": "scattergeo"
        },
        {
         "customdata": [
          [
           "StaRosa110->AJahuel110",
           "StaRosa110",
           "AJahuel110"
          ]
         ],
         "hovertemplate": "<b>%{customdata[0]}</b><br>From: %{customdata[1]}<br>To: %{customdata[2]}<extra></extra>",
         "lat": [
          -33.98964794,
          -33.71483419
         ],
         "line": {
          "color": "#B0B6BE",
          "width": 2
         },
         "lon": [
          -71.31166457,
          -70.69117403
         ],
         "mode": "lines",
         "showlegend": false,
         "type": "scattergeo"
        },
        {
         "customdata": [
          [
           "TO_Enlace220->Atacama220",
           "TO_Enlace220",
           "Atacama220_BP1"
          ]
         ],
         "hovertemplate": "<b>%{customdata[0]}</b><br>From: %{customdata[1]}<br>To: %{customdata[2]}<extra></extra>",
         "lat": [
          -22.69915728,
          -23.09157802
         ],
         "line": {
          "color": "#B0B6BE",
          "width": 2
         },
         "lon": [
          -69.62687229,
          -70.41556015
         ],
         "mode": "lines",
         "showlegend": false,
         "type": "scattergeo"
        },
        {
         "customdata": [
          [
           "Talca66->SJavier66",
           "Talca066",
           "SJavier066"
          ]
         ],
         "hovertemplate": "<b>%{customdata[0]}</b><br>From: %{customdata[1]}<br>To: %{customdata[2]}<extra></extra>",
         "lat": [
          -35.43737848,
          -35.58869204
         ],
         "line": {
          "color": "#B0B6BE",
          "width": 2
         },
         "lon": [
          -71.64086477,
          -71.71210071
         ],
         "mode": "lines",
         "showlegend": false,
         "type": "scattergeo"
        },
        {
         "customdata": [
          [
           "Talinay220->LaCebada220",
           "Talinay220",
           "LaCebada220"
          ]
         ],
         "hovertemplate": "<b>%{customdata[0]}</b><br>From: %{customdata[1]}<br>To: %{customdata[2]}<extra></extra>",
         "lat": [
          -30.86354043,
          -31.03319871
         ],
         "line": {
          "color": "#B0B6BE",
          "width": 2
         },
         "lon": [
          -71.59783353,
          -71.61416093
         ],
         "mode": "lines",
         "showlegend": false,
         "type": "scattergeo"
        },
        {
         "customdata": [
          [
           "Tamaya110->S-AA100_3B",
           "Tamaya110",
           "S-AA100"
          ]
         ],
         "hovertemplate": "<b>%{customdata[0]}</b><br>From: %{customdata[1]}<br>To: %{customdata[2]}<extra></extra>",
         "lat": [
          -22.16691032,
          -22.30636356
         ],
         "line": {
          "color": "#B0B6BE",
          "width": 2
         },
         "lon": [
          -70.08844378,
          -68.9186875
         ],
         "mode": "lines",
         "showlegend": false,
         "type": "scattergeo"
        },
        {
         "customdata": [
          [
           "Tamaya110->Salar110_4B",
           "Tamaya110",
           "Salar110"
          ]
         ],
         "hovertemplate": "<b>%{customdata[0]}</b><br>From: %{customdata[1]}<br>To: %{customdata[2]}<extra></extra>",
         "lat": [
          -22.16691032,
          -22.34091926
         ],
         "line": {
          "color": "#B0B6BE",
          "width": 2
         },
         "lon": [
          -70.08844378,
          -68.87576278
         ],
         "mode": "lines",
         "showlegend": false,
         "type": "scattergeo"
        },
        {
         "customdata": [
          [
           "Tarapaca220->Condores220",
           "Tarapaca220",
           "Condores220"
          ]
         ],
         "hovertemplate": "<b>%{customdata[0]}</b><br>From: %{customdata[1]}<br>To: %{customdata[2]}<extra></extra>",
         "lat": [
          -20.80719227,
          -20.24832587
         ],
         "line": {
          "color": "#B0B6BE",
          "width": 2
         },
         "lon": [
          -70.19234326,
          -70.07941081
         ],
         "mode": "lines",
         "showlegend": false,
         "type": "scattergeo"
        },
        {
         "customdata": [
          [
           "Temuco220->Cautin220",
           "Temuco220",
           "Cautin220"
          ]
         ],
         "hovertemplate": "<b>%{customdata[0]}</b><br>From: %{customdata[1]}<br>To: %{customdata[2]}<extra></extra>",
         "lat": [
          -38.70875688,
          -38.72266961
         ],
         "line": {
          "color": "#B0B6BE",
          "width": 2
         },
         "lon": [
          -72.55779703,
          -72.54153189
         ],
         "mode": "lines",
         "showlegend": false,
         "type": "scattergeo"
        },
        {
         "customdata": [
          [
           "Temuco220->Temuco66",
           "Temuco220",
           "Temuco066"
          ]
         ],
         "hovertemplate": "<b>%{customdata[0]}</b><br>From: %{customdata[1]}<br>To: %{customdata[2]}<extra></extra>",
         "lat": [
          -38.70875688,
          -38.70875688
         ],
         "line": {
          "color": "#B0B6BE",
          "width": 2
         },
         "lon": [
          -72.55779703,
          -72.55779703
         ],
         "mode": "lines",
         "showlegend": false,
         "type": "scattergeo"
        },
        {
         "customdata": [
          [
           "Temuco66->LasVioletas66",
           "Temuco066",
           "LasVioletas066"
          ]
         ],
         "hovertemplate": "<b>%{customdata[0]}</b><br>From: %{customdata[1]}<br>To: %{customdata[2]}<extra></extra>",
         "lat": [
          -38.70875688,
          -38.70899835
         ],
         "line": {
          "color": "#B0B6BE",
          "width": 2
         },
         "lon": [
          -72.55779703,
          -72.55794286
         ],
         "mode": "lines",
         "showlegend": false,
         "type": "scattergeo"
        },
        {
         "customdata": [
          [
           "Temuco66->Pillanlelbun66",
           "Temuco066",
           "Pillanlelbun066"
          ]
         ],
         "hovertemplate": "<b>%{customdata[0]}</b><br>From: %{customdata[1]}<br>To: %{customdata[2]}<extra></extra>",
         "lat": [
          -38.70875688,
          -38.70899835
         ],
         "line": {
          "color": "#B0B6BE",
          "width": 2
         },
         "lon": [
          -72.55779703,
          -72.55794286
         ],
         "mode": "lines",
         "showlegend": false,
         "type": "scattergeo"
        },
        {
         "customdata": [
          [
           "Tilcoco154->Malloa154",
           "Tilcoco154",
           "Malloa154"
          ]
         ],
         "hovertemplate": "<b>%{customdata[0]}</b><br>From: %{customdata[1]}<br>To: %{customdata[2]}<extra></extra>",
         "lat": [
          -34.33269542,
          -34.45774973
         ],
         "line": {
          "color": "#B0B6BE",
          "width": 2
         },
         "lon": [
          -70.91149368,
          -70.95944676
         ],
         "mode": "lines",
         "showlegend": false,
         "type": "scattergeo"
        },
        {
         "customdata": [
          [
           "Tilcoco154->PCortes154",
           "Tilcoco154",
           "PCortes154"
          ]
         ],
         "hovertemplate": "<b>%{customdata[0]}</b><br>From: %{customdata[1]}<br>To: %{customdata[2]}<extra></extra>",
         "lat": [
          -34.33269542,
          -34.18302689
         ],
         "line": {
          "color": "#B0B6BE",
          "width": 2
         },
         "lon": [
          -70.91149368,
          -70.84061253
         ],
         "mode": "lines",
         "showlegend": false,
         "type": "scattergeo"
        },
        {
         "customdata": [
          [
           "Tinguiririca154->Itahue154",
           "Tinguiririca154",
           "Itahue154"
          ]
         ],
         "hovertemplate": "<b>%{customdata[0]}</b><br>From: %{customdata[1]}<br>To: %{customdata[2]}<extra></extra>",
         "lat": [
          -34.61097461,
          -35.13927033
         ],
         "line": {
          "color": "#B0B6BE",
          "width": 2
         },
         "lon": [
          -71.01514513,
          -71.36725314
         ],
         "mode": "lines",
         "showlegend": false,
         "type": "scattergeo"
        },
        {
         "customdata": [
          [
           "Tinguiririca154->Teno154",
           "Tinguiririca154",
           "Teno154"
          ]
         ],
         "hovertemplate": "<b>%{customdata[0]}</b><br>From: %{customdata[1]}<br>To: %{customdata[2]}<extra></extra>",
         "lat": [
          -34.61097461,
          -34.86796233
         ],
         "line": {
          "color": "#B0B6BE",
          "width": 2
         },
         "lon": [
          -71.01514513,
          -71.14118582
         ],
         "mode": "lines",
         "showlegend": false,
         "type": "scattergeo"
        },
        {
         "customdata": [
          [
           "Tocopilla110->S-AA100",
           "Tocopilla110",
           "S-AA100"
          ]
         ],
         "hovertemplate": "<b>%{customdata[0]}</b><br>From: %{customdata[1]}<br>To: %{customdata[2]}<extra></extra>",
         "lat": [
          -22.09787585,
          -22.30636356
         ],
         "line": {
          "color": "#B0B6BE",
          "width": 2
         },
         "lon": [
          -70.21198676,
          -68.9186875
         ],
         "mode": "lines",
         "showlegend": false,
         "type": "scattergeo"
        },
        {
         "customdata": [
          [
           "Tocopilla110->Tamaya110",
           "Tocopilla110",
           "Tamaya110"
          ]
         ],
         "hovertemplate": "<b>%{customdata[0]}</b><br>From: %{customdata[1]}<br>To: %{customdata[2]}<extra></extra>",
         "lat": [
          -22.09787585,
          -22.16691032
         ],
         "line": {
          "color": "#B0B6BE",
          "width": 2
         },
         "lon": [
          -70.21198676,
          -70.08844378
         ],
         "mode": "lines",
         "showlegend": false,
         "type": "scattergeo"
        },
        {
         "customdata": [
          [
           "Tocopilla220->Tocopi110",
           "Tocopilla220_BP1",
           "Tocopilla110"
          ]
         ],
         "hovertemplate": "<b>%{customdata[0]}</b><br>From: %{customdata[1]}<br>To: %{customdata[2]}<extra></extra>",
         "lat": [
          -22.09787585,
          -22.09787585
         ],
         "line": {
          "color": "#B0B6BE",
          "width": 2
         },
         "lon": [
          -70.21198676,
          -70.21198676
         ],
         "mode": "lines",
         "showlegend": false,
         "type": "scattergeo"
        },
        {
         "customdata": [
          [
           "Torquemada110->Mirafl110",
           "Torquemada110",
           "Miraflores110"
          ]
         ],
         "hovertemplate": "<b>%{customdata[0]}</b><br>From: %{customdata[1]}<br>To: %{customdata[2]}<extra></extra>",
         "lat": [
          -32.93622916,
          -33.03481397
         ],
         "line": {
          "color": "#B0B6BE",
          "width": 2
         },
         "lon": [
          -71.47193094,
          -71.52535858
         ],
         "mode": "lines",
         "showlegend": false,
         "type": "scattergeo"
        },
        {
         "customdata": [
          [
           "Trupan220->Charrua220",
           "Trupan220",
           "Charrua220"
          ]
         ],
         "hovertemplate": "<b>%{customdata[0]}</b><br>From: %{customdata[1]}<br>To: %{customdata[2]}<extra></extra>",
         "lat": [
          -37.31041103,
          -37.09514251
         ],
         "line": {
          "color": "#B0B6BE",
          "width": 2
         },
         "lon": [
          -71.62934479,
          -72.32163459
         ],
         "mode": "lines",
         "showlegend": false,
         "type": "scattergeo"
        },
        {
         "customdata": [
          [
           "Tuniche_1->PCortes154",
           "Tuniche154_I",
           "PCortes154"
          ]
         ],
         "hovertemplate": "<b>%{customdata[0]}</b><br>From: %{customdata[1]}<br>To: %{customdata[2]}<extra></extra>",
         "lat": [
          -34.11953635,
          -34.18302689
         ],
         "line": {
          "color": "#B0B6BE",
          "width": 2
         },
         "lon": [
          -70.75327034,
          -70.84061253
         ],
         "mode": "lines",
         "showlegend": false,
         "type": "scattergeo"
        },
        {
         "customdata": [
          [
           "Tuniche_1->Tinguiririca154",
           "Tuniche154_I",
           "Tinguiririca154"
          ]
         ],
         "hovertemplate": "<b>%{customdata[0]}</b><br>From: %{customdata[1]}<br>To: %{customdata[2]}<extra></extra>",
         "lat": [
          -34.11953635,
          -34.61097461
         ],
         "line": {
          "color": "#B0B6BE",
          "width": 2
         },
         "lon": [
          -70.75327034,
          -71.01514513
         ],
         "mode": "lines",
         "showlegend": false,
         "type": "scattergeo"
        },
        {
         "customdata": [
          [
           "Tuniche_2->PCortes154",
           "Tuniche154_II",
           "PCortes154"
          ]
         ],
         "hovertemplate": "<b>%{customdata[0]}</b><br>From: %{customdata[1]}<br>To: %{customdata[2]}<extra></extra>",
         "lat": [
          -34.11953635,
          -34.18302689
         ],
         "line": {
          "color": "#B0B6BE",
          "width": 2
         },
         "lon": [
          -70.75327034,
          -70.84061253
         ],
         "mode": "lines",
         "showlegend": false,
         "type": "scattergeo"
        },
        {
         "customdata": [
          [
           "Valdivia220->Prropulli220",
           "Valdivia220",
           "Pichirropulli220"
          ]
         ],
         "hovertemplate": "<b>%{customdata[0]}</b><br>From: %{customdata[1]}<br>To: %{customdata[2]}<extra></extra>",
         "lat": [
          -39.80128458,
          -40.16044682
         ],
         "line": {
          "color": "#B0B6BE",
          "width": 2
         },
         "lon": [
          -73.18546441,
          -72.88749473
         ],
         "mode": "lines",
         "showlegend": false,
         "type": "scattergeo"
        },
        {
         "customdata": [
          [
           "Ventanas110->Mirafl110",
           "Ventanas110",
           "Miraflores110"
          ]
         ],
         "hovertemplate": "<b>%{customdata[0]}</b><br>From: %{customdata[1]}<br>To: %{customdata[2]}<extra></extra>",
         "lat": [
          -32.74990748,
          -33.03481397
         ],
         "line": {
          "color": "#B0B6BE",
          "width": 2
         },
         "lon": [
          -71.48064047,
          -71.52535858
         ],
         "mode": "lines",
         "showlegend": false,
         "type": "scattergeo"
        },
        {
         "customdata": [
          [
           "Ventanas110->Quillota110",
           "Ventanas110",
           "Quillota110"
          ]
         ],
         "hovertemplate": "<b>%{customdata[0]}</b><br>From: %{customdata[1]}<br>To: %{customdata[2]}<extra></extra>",
         "lat": [
          -32.74990748,
          -32.95247528
         ],
         "line": {
          "color": "#B0B6BE",
          "width": 2
         },
         "lon": [
          -71.48064047,
          -71.24932105
         ],
         "mode": "lines",
         "showlegend": false,
         "type": "scattergeo"
        },
        {
         "customdata": [
          [
           "Ventanas110->Torquemada110",
           "Ventanas110",
           "Torquemada110"
          ]
         ],
         "hovertemplate": "<b>%{customdata[0]}</b><br>From: %{customdata[1]}<br>To: %{customdata[2]}<extra></extra>",
         "lat": [
          -32.74990748,
          -32.93622916
         ],
         "line": {
          "color": "#B0B6BE",
          "width": 2
         },
         "lon": [
          -71.48064047,
          -71.47193094
         ],
         "mode": "lines",
         "showlegend": false,
         "type": "scattergeo"
        },
        {
         "customdata": [
          [
           "Ventanas220->Ventanas110",
           "Ventanas220",
           "Ventanas110"
          ]
         ],
         "hovertemplate": "<b>%{customdata[0]}</b><br>From: %{customdata[1]}<br>To: %{customdata[2]}<extra></extra>",
         "lat": [
          -32.7490849,
          -32.74990748
         ],
         "line": {
          "color": "#B0B6BE",
          "width": 2
         },
         "lon": [
          -71.4816527,
          -71.48064047
         ],
         "mode": "lines",
         "showlegend": false,
         "type": "scattergeo"
        },
        {
         "hovertemplate": "Nodo: %{text}<br>Lat: %{lat:.4f}<br>Lon: %{lon:.4f}<extra></extra>",
         "lat": [
          -33.71483419,
          -33.71483419,
          -33.71483419,
          -33.71483419,
          -33.50225992,
          -33.42670264,
          -33.42670264,
          -23.82647607,
          -33.69154516,
          -35.68185977,
          -35.68185977,
          -24.01706584,
          -24.01706584,
          -23.06753098,
          -23.63375689,
          -37.31094724,
          -33.4097962,
          -18.48540715,
          -33.07737712,
          -33.07737712,
          -23.09157802,
          -22.16434148,
          -33.26765664,
          -37.02076813,
          -33.71010096,
          -25.54459246,
          -34.03396985,
          -41.52857078,
          -23.45790456,
          -23.63384538,
          -27.48905055,
          -27.48905055,
          -38.72266961,
          -23.08944808,
          -37.09514251,
          -37.09514251,
          -37.09514251,
          -37.09514251,
          -33.5260631,
          -33.5260631,
          -36.62564235,
          -42.14432067,
          -37.1650052,
          -37.1650052,
          -42.62698699,
          -22.30449354,
          -22.30449354,
          -35.78621959,
          -39.54932181,
          -33.42196567,
          -33.42196567,
          -33.42196567,
          -23.06564269,
          -35.68616206,
          -20.97682751,
          -36.80447967,
          -36.80447967,
          -21.85615699,
          -20.24832587,
          -35.36363067,
          -36.96743519,
          -37.00881822,
          -27.00125636,
          -22.27382315,
          -26.25595341,
          -26.39828468,
          -26.39828468,
          -18.46744423,
          -42.14504283,
          -23.54285733,
          -24.24322403,
          -32.47975491209993,
          -30.57328212,
          -29.110999,
          -37.51835365,
          -23.4543351,
          -22.35040829,
          -23.76733566,
          -30.14313672,
          -33.35807858,
          -22.92614076,
          -35.68185977,
          -35.68185977,
          -23.67315229,
          -23.67315229,
          -22.99920346,
          -33.54698797,
          -36.93469527,
          -25.53738032,
          -28.46613032,
          -37.21245181,
          -36.78803072,
          -36.78803072,
          -28.4706407,
          -35.13927033,
          -24.79605,
          -24.79605,
          -23.14492989,
          -23.44672675,
          -31.03319871,
          -22.27916343,
          -20.81453152,
          -36.98788044,
          -36.98788044,
          -23.78237326,
          -38.70899835,
          -38.54136156,
          -35.84500058,
          -33.44005082,
          -33.44794095,
          -33.53049274,
          -23.15625933,
          -23.15625933,
          -37.70872254,
          -31.28778804,
          -32.84348693,
          -32.84348693,
          -31.93803404,
          -28.53563546,
          -28.53563546,
          -34.45774973,
          -23.44615665,
          -36.86728889,
          -22.21425464,
          -35.50003467,
          -31.5634,
          -23.09456488,
          -23.09456488,
          -33.03481397,
          -22.42027874,
          -41.51882406,
          -31.06136137,
          -37.68117984,
          -32.71983344,
          -22.09689134,
          -27.51693235,
          -28.54432365,
          -30.12062688,
          -20.95327526,
          -24.16288619,
          -33.47967404,
          -23.69019316,
          -23.6920015,
          -32.85547758,
          -33.82378987,
          -23.90919845,
          -20.25849028,
          -20.25849028,
          -33.61975821,
          -23.54285733,
          -37.90622623,
          -24.98783118,
          -36.13230152,
          -29.97741497,
          -29.97741497,
          -29.36818829,
          -34.18302689,
          -35.73108144,
          -36.78496286,
          -40.57221431,
          -40.16044682,
          -42.41539858,
          -38.70899835,
          -41.45129451,
          -34.68918029,
          -33.19629169,
          -33.19629169,
          -23.53565176,
          -33.11893736,
          -31.06136137,
          -32.95247528,
          -32.95247528,
          -32.78883291,
          -40.57334841,
          -37.99861778,
          -34.16636138,
          -34.03736568,
          -33.41713316,
          -38.9775674378,
          -37.36081162,
          -22.30636356,
          -22.32346212,
          -22.34091926,
          -22.34091926,
          -32.93781455,
          -36.66204224,
          -37.04012563,
          -33.70126062,
          -34.25164386,
          -34.25164386,
          -34.25164386,
          -33.42689702,
          -33.98103929,
          -35.58869204,
          -35.43971952,
          -33.98964794,
          -36.7473714,
          -35.43737848,
          -30.86354043,
          -22.16691032,
          -20.80719227,
          -38.70875688,
          -38.70875688,
          -34.86796233,
          -34.33269542,
          -34.61097461,
          -22.69915728,
          -22.09787585,
          -22.09787585,
          -32.93622916,
          -37.31041103,
          -34.11953635,
          -34.11953635,
          -39.80128458,
          -32.74990748,
          -32.7490849
         ],
         "lon": [
          -70.69117403,
          -70.69117403,
          -70.69117403,
          -70.69117403,
          -70.19336036,
          -70.50775806,
          -70.50775806,
          -70.32005799,
          -71.23848626,
          -71.3772166,
          -71.3772166,
          -68.58226425,
          -68.58226425,
          -70.36797872,
          -70.38002992,
          -71.63065868,
          -70.56429693,
          -70.28916166,
          -71.54111889,
          -71.54111889,
          -70.41556015,
          -70.06709823,
          -70.73086426,
          -73.16698996,
          -70.69109201,
          -70.31325104,
          -70.61039896,
          -72.34188341,
          -70.2159197,
          -70.38012454,
          -70.38556371,
          -70.38556371,
          -72.54153189,
          -70.40933882,
          -72.32163459,
          -72.32163459,
          -72.32163459,
          -72.32163459,
          -70.72505653,
          -70.72505653,
          -72.09265724,
          -73.71423445,
          -72.07323547,
          -72.07323547,
          -73.8056732,
          -68.91880509,
          -68.91880509,
          -70.81198246,
          -72.91114846,
          -70.72971588,
          -70.72971588,
          -70.72971588,
          -70.36387967,
          -71.37662613,
          -68.63644363,
          -73.03240419,
          -73.03240419,
          -68.15517226,
          -70.07941081,
          -72.40245292,
          -73.16919521,
          -73.15198545,
          -69.90307544,
          -69.56595287,
          -69.98811534,
          -70.03730551,
          -70.03730551,
          -70.30349684,
          -73.71474949,
          -70.3985431,
          -69.10151791,
          -71.25202519681623,
          -71.49763099,
          -70.919114,
          -72.32264893,
          -69.38294095,
          -69.63301934,
          -70.31865589,
          -71.22790243,
          -70.62855013,
          -69.09869585,
          -71.3772166,
          -71.3772166,
          -70.38782665,
          -70.38782665,
          -69.09882695,
          -70.54454611,
          -73.15496736,
          -70.31604858,
          -71.25766711,
          -73.21629714,
          -73.12101735,
          -73.12101735,
          -71.252694,
          -71.36725314,
          -69.84977,
          -69.84977,
          -70.33868251,
          -69.40894139,
          -71.61416093,
          -69.65903231,
          -69.69405143,
          -73.13353787,
          -73.13353787,
          -70.32380264,
          -72.55794286,
          -72.46129553,
          -71.62809543,
          -70.89773497,
          -70.90774966,
          -70.71193238,
          -70.31246238,
          -70.31246238,
          -71.82131512,
          -71.58864121,
          -71.01163824,
          -71.01163824,
          -71.4784651,
          -70.92270995,
          -70.92270995,
          -70.95944676,
          -70.07568845,
          -73.14133374,
          -69.57835569,
          -71.52932841,
          -71.0021,
          -70.41886191,
          -70.41886191,
          -71.52535858,
          -69.52629858,
          -73.07769666,
          -71.61252169,
          -72.25394467,
          -71.22673239,
          -70.21075703,
          -70.4205373,
          -70.92982709,
          -71.21578489,
          -69.67197043,
          -69.06433185,
          -70.66709987,
          -68.61970933,
          -70.21462127,
          -71.15479278,
          -70.75164991,
          -69.78358885,
          -69.7733456,
          -69.7733456,
          -70.56659727,
          -70.3985431,
          -71.61410375,
          -70.46414092,
          -71.80432207,
          -71.27612693,
          -71.27612693,
          -71.04761699,
          -70.84061253,
          -71.16346822,
          -73.11909765,
          -73.08433751,
          -72.88749473,
          -73.77325955,
          -72.55794286,
          -72.95217159,
          -70.89708288,
          -70.86099782,
          -70.86099782,
          -70.38562395,
          -70.82599152,
          -71.61252169,
          -71.24932105,
          -71.24932105,
          -71.48618333,
          -73.08428153,
          -71.51728022,
          -70.72599005,
          -71.58433895,
          -70.68972336,
          -72.6458666364,
          -71.86682895,
          -68.9186875,
          -68.88376968,
          -68.87576278,
          -68.87576278,
          -71.31680201,
          -72.47817495,
          -73.13083826,
          -70.79667308,
          -70.63195332,
          -70.63195332,
          -70.63195332,
          -70.63886873,
          -70.70132162,
          -71.71210071,
          -71.61698552,
          -71.31166457,
          -73.12387994,
          -71.64086477,
          -71.59783353,
          -70.08844378,
          -70.19234326,
          -72.55779703,
          -72.55779703,
          -71.14118582,
          -70.91149368,
          -71.01514513,
          -69.62687229,
          -70.21198676,
          -70.21198676,
          -71.47193094,
          -71.62934479,
          -70.75327034,
          -70.75327034,
          -73.18546441,
          -71.48064047,
          -71.4816527
         ],
         "marker": {
          "color": "#1F6FEB",
          "line": {
           "color": "white",
           "width": 0.5
          },
          "opacity": 0.95,
          "size": 5
         },
         "mode": "markers",
         "showlegend": false,
         "text": [
          "AJahuel110",
          "AJahuel154",
          "AJahuel220",
          "AJahuel500",
          "Alfalfal220",
          "Almendros110",
          "Almendros220",
          "AltoNorte110",
          "AMelipilla220",
          "Ancoa220",
          "Ancoa500",
          "Andes220",
          "Andes345",
          "Angamos220",
          "Antofagasta110",
          "Antuco220",
          "Apoquindo110",
          "Arica066",
          "ASanta110",
          "ASanta220",
          "Atacama220_BP1",
          "Barriles220",
          "Batuco110",
          "Bocamina154",
          "Buin110",
          "Cachiyuyal220",
          "Candelaria220",
          "Canutillar220",
          "Capricornio110",
          "Capricornio220",
          "Cardones110",
          "Cardones220",
          "Cautin220",
          "Chacaya220",
          "Charrua066",
          "Charrua154",
          "Charrua220",
          "Charrua500",
          "Chena110",
          "Chena220",
          "Chillan154",
          "Chiloe110",
          "Cholguan066",
          "Cholguan220",
          "Chonchi110",
          "Chuquicamata100",
          "Chuquicamata220",
          "Cipreses154",
          "Ciruelos220",
          "CNavia110",
          "CNavia220",
          "CNavia220_Desf",
          "Cochrane220",
          "Colbun220",
          "Collahuasi220",
          "Concepcion066",
          "Concepcion154",
          "Conchi220",
          "Condores220",
          "Constitucion066",
          "Coronel066",
          "Coronel154",
          "CPinto220",
          "Crucero220",
          "Cumbres500",
          "DAlmagro110",
          "DAlmagro220",
          "DArica066",
          "Degan110",
          "Desalant110",
          "Domeyko220",
          "DonaCarmen220",
          "DonGoyo220",
          "DonHector220",
          "Duqueco220",
          "ElCobre220",
          "ElLoa220",
          "ElNegro110",
          "ElPenon110",
          "ElSalto110",
          "ElTesoro220",
          "EntreRios220",
          "EntreRios500",
          "Esmeralda110",
          "Esmeralda220",
          "Esperanza220",
          "Florida110",
          "Fopaco154",
          "Francisco220",
          "Guacolda220",
          "Horcones066",
          "Hualpen154",
          "Hualpen220",
          "Huasco110",
          "Itahue154",
          "Jadresic220",
          "Jadresic500",
          "Kapatur220_BP1",
          "Laberinto220",
          "LaCebada220",
          "LaCruz220",
          "Lagunas220",
          "Lagunillas154",
          "Lagunillas220",
          "LaNegra110",
          "LasVioletas066",
          "Lautaro066",
          "Linares154",
          "LoAguirre220",
          "LoAguirre500",
          "LoEspejo110",
          "LosChangos220",
          "LosChangos500",
          "LosNotros220",
          "LPalmas220",
          "LVegas110",
          "LVegas110_exp",
          "LVilos220",
          "Maitencillo110",
          "Maitencillo220",
          "Malloa154",
          "Mantos220",
          "Mapal154",
          "MariaElena220",
          "Maule154",
          "Mauro220",
          "Mejillones110",
          "Mejillones220",
          "Miraflores110",
          "Miraje220",
          "Molinos110",
          "MRedondo220",
          "Mulchen220",
          "Nogales220",
          "Norgener220",
          "NvaCardones500",
          "NvaMaitencillo500",
          "NvaPAzucar500",
          "NvaVictoria220",
          "NvaZaldivar220",
          "Ochagavia110",
          "Oeste220",
          "Ohiggins220_BP1",
          "Pachacama110",
          "Paine154",
          "Palestina220",
          "PAlmonte110",
          "PAlmonte220",
          "PAltoCmpc110",
          "Pampa110",
          "Pangue220",
          "Paposo220",
          "Parral154",
          "PAzucar110",
          "PAzucar220",
          "PColorada220",
          "PCortes154",
          "Pehuenche220",
          "Petroquim154",
          "Pichirrahue220",
          "Pichirropulli220",
          "Pid-Pid110",
          "Pillanlelbun066",
          "PMontt220",
          "PNegro220",
          "Polpaico220",
          "Polpaico500",
          "Portada110",
          "PPeuco110",
          "PuntaSierra220",
          "Quillota110",
          "Quillota220",
          "Quintero220",
          "Rahue220",
          "Ralco220",
          "Rancagua154",
          "Rapel220",
          "Renca110",
          "RioTolten220",
          "Rucue220",
          "S-AA100",
          "S-Km6100",
          "Salar110",
          "Salar220",
          "SanLuis220",
          "SantaElvira066",
          "SantaMaria220",
          "SantaMarta220",
          "Sauzal110_BP1",
          "Sauzal110_BP2",
          "Sauzal154",
          "SCristobal110",
          "SFcoMost066",
          "SJavier066",
          "SMiguel066",
          "StaRosa110",
          "SVicente154",
          "Talca066",
          "Talinay220",
          "Tamaya110",
          "Tarapaca220",
          "Temuco066",
          "Temuco220",
          "Teno154",
          "Tilcoco154",
          "Tinguiririca154",
          "TO_Enlace220",
          "Tocopilla110",
          "Tocopilla220_BP1",
          "Torquemada110",
          "Trupan220",
          "Tuniche154_I",
          "Tuniche154_II",
          "Valdivia220",
          "Ventanas110",
          "Ventanas220"
         ],
         "type": "scattergeo"
        }
       ],
       "layout": {
        "geo": {
         "coastlinecolor": "#A3AAB2",
         "countrycolor": "#A3AAB2",
         "fitbounds": "locations",
         "lakecolor": "#E8F2FF",
         "landcolor": "#F8F9FA",
         "lataxis": {
          "range": [
           -56,
           -17
          ]
         },
         "lonaxis": {
          "range": [
           -76,
           -66
          ]
         },
         "projection": {
          "type": "mercator"
         },
         "showcountries": true,
         "showlakes": true,
         "showland": true
        },
        "height": 1000,
        "margin": {
         "b": 20,
         "l": 20,
         "r": 20,
         "t": 60
        },
        "template": {
         "data": {
          "bar": [
           {
            "error_x": {
             "color": "#2a3f5f"
            },
            "error_y": {
             "color": "#2a3f5f"
            },
            "marker": {
             "line": {
              "color": "#E5ECF6",
              "width": 0.5
             },
             "pattern": {
              "fillmode": "overlay",
              "size": 10,
              "solidity": 0.2
             }
            },
            "type": "bar"
           }
          ],
          "barpolar": [
           {
            "marker": {
             "line": {
              "color": "#E5ECF6",
              "width": 0.5
             },
             "pattern": {
              "fillmode": "overlay",
              "size": 10,
              "solidity": 0.2
             }
            },
            "type": "barpolar"
           }
          ],
          "carpet": [
           {
            "aaxis": {
             "endlinecolor": "#2a3f5f",
             "gridcolor": "white",
             "linecolor": "white",
             "minorgridcolor": "white",
             "startlinecolor": "#2a3f5f"
            },
            "baxis": {
             "endlinecolor": "#2a3f5f",
             "gridcolor": "white",
             "linecolor": "white",
             "minorgridcolor": "white",
             "startlinecolor": "#2a3f5f"
            },
            "type": "carpet"
           }
          ],
          "choropleth": [
           {
            "colorbar": {
             "outlinewidth": 0,
             "ticks": ""
            },
            "type": "choropleth"
           }
          ],
          "contour": [
           {
            "colorbar": {
             "outlinewidth": 0,
             "ticks": ""
            },
            "colorscale": [
             [
              0,
              "#0d0887"
             ],
             [
              0.1111111111111111,
              "#46039f"
             ],
             [
              0.2222222222222222,
              "#7201a8"
             ],
             [
              0.3333333333333333,
              "#9c179e"
             ],
             [
              0.4444444444444444,
              "#bd3786"
             ],
             [
              0.5555555555555556,
              "#d8576b"
             ],
             [
              0.6666666666666666,
              "#ed7953"
             ],
             [
              0.7777777777777778,
              "#fb9f3a"
             ],
             [
              0.8888888888888888,
              "#fdca26"
             ],
             [
              1,
              "#f0f921"
             ]
            ],
            "type": "contour"
           }
          ],
          "contourcarpet": [
           {
            "colorbar": {
             "outlinewidth": 0,
             "ticks": ""
            },
            "type": "contourcarpet"
           }
          ],
          "heatmap": [
           {
            "colorbar": {
             "outlinewidth": 0,
             "ticks": ""
            },
            "colorscale": [
             [
              0,
              "#0d0887"
             ],
             [
              0.1111111111111111,
              "#46039f"
             ],
             [
              0.2222222222222222,
              "#7201a8"
             ],
             [
              0.3333333333333333,
              "#9c179e"
             ],
             [
              0.4444444444444444,
              "#bd3786"
             ],
             [
              0.5555555555555556,
              "#d8576b"
             ],
             [
              0.6666666666666666,
              "#ed7953"
             ],
             [
              0.7777777777777778,
              "#fb9f3a"
             ],
             [
              0.8888888888888888,
              "#fdca26"
             ],
             [
              1,
              "#f0f921"
             ]
            ],
            "type": "heatmap"
           }
          ],
          "heatmapgl": [
           {
            "colorbar": {
             "outlinewidth": 0,
             "ticks": ""
            },
            "colorscale": [
             [
              0,
              "#0d0887"
             ],
             [
              0.1111111111111111,
              "#46039f"
             ],
             [
              0.2222222222222222,
              "#7201a8"
             ],
             [
              0.3333333333333333,
              "#9c179e"
             ],
             [
              0.4444444444444444,
              "#bd3786"
             ],
             [
              0.5555555555555556,
              "#d8576b"
             ],
             [
              0.6666666666666666,
              "#ed7953"
             ],
             [
              0.7777777777777778,
              "#fb9f3a"
             ],
             [
              0.8888888888888888,
              "#fdca26"
             ],
             [
              1,
              "#f0f921"
             ]
            ],
            "type": "heatmapgl"
           }
          ],
          "histogram": [
           {
            "marker": {
             "pattern": {
              "fillmode": "overlay",
              "size": 10,
              "solidity": 0.2
             }
            },
            "type": "histogram"
           }
          ],
          "histogram2d": [
           {
            "colorbar": {
             "outlinewidth": 0,
             "ticks": ""
            },
            "colorscale": [
             [
              0,
              "#0d0887"
             ],
             [
              0.1111111111111111,
              "#46039f"
             ],
             [
              0.2222222222222222,
              "#7201a8"
             ],
             [
              0.3333333333333333,
              "#9c179e"
             ],
             [
              0.4444444444444444,
              "#bd3786"
             ],
             [
              0.5555555555555556,
              "#d8576b"
             ],
             [
              0.6666666666666666,
              "#ed7953"
             ],
             [
              0.7777777777777778,
              "#fb9f3a"
             ],
             [
              0.8888888888888888,
              "#fdca26"
             ],
             [
              1,
              "#f0f921"
             ]
            ],
            "type": "histogram2d"
           }
          ],
          "histogram2dcontour": [
           {
            "colorbar": {
             "outlinewidth": 0,
             "ticks": ""
            },
            "colorscale": [
             [
              0,
              "#0d0887"
             ],
             [
              0.1111111111111111,
              "#46039f"
             ],
             [
              0.2222222222222222,
              "#7201a8"
             ],
             [
              0.3333333333333333,
              "#9c179e"
             ],
             [
              0.4444444444444444,
              "#bd3786"
             ],
             [
              0.5555555555555556,
              "#d8576b"
             ],
             [
              0.6666666666666666,
              "#ed7953"
             ],
             [
              0.7777777777777778,
              "#fb9f3a"
             ],
             [
              0.8888888888888888,
              "#fdca26"
             ],
             [
              1,
              "#f0f921"
             ]
            ],
            "type": "histogram2dcontour"
           }
          ],
          "mesh3d": [
           {
            "colorbar": {
             "outlinewidth": 0,
             "ticks": ""
            },
            "type": "mesh3d"
           }
          ],
          "parcoords": [
           {
            "line": {
             "colorbar": {
              "outlinewidth": 0,
              "ticks": ""
             }
            },
            "type": "parcoords"
           }
          ],
          "pie": [
           {
            "automargin": true,
            "type": "pie"
           }
          ],
          "scatter": [
           {
            "fillpattern": {
             "fillmode": "overlay",
             "size": 10,
             "solidity": 0.2
            },
            "type": "scatter"
           }
          ],
          "scatter3d": [
           {
            "line": {
             "colorbar": {
              "outlinewidth": 0,
              "ticks": ""
             }
            },
            "marker": {
             "colorbar": {
              "outlinewidth": 0,
              "ticks": ""
             }
            },
            "type": "scatter3d"
           }
          ],
          "scattercarpet": [
           {
            "marker": {
             "colorbar": {
              "outlinewidth": 0,
              "ticks": ""
             }
            },
            "type": "scattercarpet"
           }
          ],
          "scattergeo": [
           {
            "marker": {
             "colorbar": {
              "outlinewidth": 0,
              "ticks": ""
             }
            },
            "type": "scattergeo"
           }
          ],
          "scattergl": [
           {
            "marker": {
             "colorbar": {
              "outlinewidth": 0,
              "ticks": ""
             }
            },
            "type": "scattergl"
           }
          ],
          "scattermapbox": [
           {
            "marker": {
             "colorbar": {
              "outlinewidth": 0,
              "ticks": ""
             }
            },
            "type": "scattermapbox"
           }
          ],
          "scatterpolar": [
           {
            "marker": {
             "colorbar": {
              "outlinewidth": 0,
              "ticks": ""
             }
            },
            "type": "scatterpolar"
           }
          ],
          "scatterpolargl": [
           {
            "marker": {
             "colorbar": {
              "outlinewidth": 0,
              "ticks": ""
             }
            },
            "type": "scatterpolargl"
           }
          ],
          "scatterternary": [
           {
            "marker": {
             "colorbar": {
              "outlinewidth": 0,
              "ticks": ""
             }
            },
            "type": "scatterternary"
           }
          ],
          "surface": [
           {
            "colorbar": {
             "outlinewidth": 0,
             "ticks": ""
            },
            "colorscale": [
             [
              0,
              "#0d0887"
             ],
             [
              0.1111111111111111,
              "#46039f"
             ],
             [
              0.2222222222222222,
              "#7201a8"
             ],
             [
              0.3333333333333333,
              "#9c179e"
             ],
             [
              0.4444444444444444,
              "#bd3786"
             ],
             [
              0.5555555555555556,
              "#d8576b"
             ],
             [
              0.6666666666666666,
              "#ed7953"
             ],
             [
              0.7777777777777778,
              "#fb9f3a"
             ],
             [
              0.8888888888888888,
              "#fdca26"
             ],
             [
              1,
              "#f0f921"
             ]
            ],
            "type": "surface"
           }
          ],
          "table": [
           {
            "cells": {
             "fill": {
              "color": "#EBF0F8"
             },
             "line": {
              "color": "white"
             }
            },
            "header": {
             "fill": {
              "color": "#C8D4E3"
             },
             "line": {
              "color": "white"
             }
            },
            "type": "table"
           }
          ]
         },
         "layout": {
          "annotationdefaults": {
           "arrowcolor": "#2a3f5f",
           "arrowhead": 0,
           "arrowwidth": 1
          },
          "autotypenumbers": "strict",
          "coloraxis": {
           "colorbar": {
            "outlinewidth": 0,
            "ticks": ""
           }
          },
          "colorscale": {
           "diverging": [
            [
             0,
             "#8e0152"
            ],
            [
             0.1,
             "#c51b7d"
            ],
            [
             0.2,
             "#de77ae"
            ],
            [
             0.3,
             "#f1b6da"
            ],
            [
             0.4,
             "#fde0ef"
            ],
            [
             0.5,
             "#f7f7f7"
            ],
            [
             0.6,
             "#e6f5d0"
            ],
            [
             0.7,
             "#b8e186"
            ],
            [
             0.8,
             "#7fbc41"
            ],
            [
             0.9,
             "#4d9221"
            ],
            [
             1,
             "#276419"
            ]
           ],
           "sequential": [
            [
             0,
             "#0d0887"
            ],
            [
             0.1111111111111111,
             "#46039f"
            ],
            [
             0.2222222222222222,
             "#7201a8"
            ],
            [
             0.3333333333333333,
             "#9c179e"
            ],
            [
             0.4444444444444444,
             "#bd3786"
            ],
            [
             0.5555555555555556,
             "#d8576b"
            ],
            [
             0.6666666666666666,
             "#ed7953"
            ],
            [
             0.7777777777777778,
             "#fb9f3a"
            ],
            [
             0.8888888888888888,
             "#fdca26"
            ],
            [
             1,
             "#f0f921"
            ]
           ],
           "sequentialminus": [
            [
             0,
             "#0d0887"
            ],
            [
             0.1111111111111111,
             "#46039f"
            ],
            [
             0.2222222222222222,
             "#7201a8"
            ],
            [
             0.3333333333333333,
             "#9c179e"
            ],
            [
             0.4444444444444444,
             "#bd3786"
            ],
            [
             0.5555555555555556,
             "#d8576b"
            ],
            [
             0.6666666666666666,
             "#ed7953"
            ],
            [
             0.7777777777777778,
             "#fb9f3a"
            ],
            [
             0.8888888888888888,
             "#fdca26"
            ],
            [
             1,
             "#f0f921"
            ]
           ]
          },
          "colorway": [
           "#636efa",
           "#EF553B",
           "#00cc96",
           "#ab63fa",
           "#FFA15A",
           "#19d3f3",
           "#FF6692",
           "#B6E880",
           "#FF97FF",
           "#FECB52"
          ],
          "font": {
           "color": "#2a3f5f"
          },
          "geo": {
           "bgcolor": "white",
           "lakecolor": "white",
           "landcolor": "#E5ECF6",
           "showlakes": true,
           "showland": true,
           "subunitcolor": "white"
          },
          "hoverlabel": {
           "align": "left"
          },
          "hovermode": "closest",
          "mapbox": {
           "style": "light"
          },
          "paper_bgcolor": "white",
          "plot_bgcolor": "#E5ECF6",
          "polar": {
           "angularaxis": {
            "gridcolor": "white",
            "linecolor": "white",
            "ticks": ""
           },
           "bgcolor": "#E5ECF6",
           "radialaxis": {
            "gridcolor": "white",
            "linecolor": "white",
            "ticks": ""
           }
          },
          "scene": {
           "xaxis": {
            "backgroundcolor": "#E5ECF6",
            "gridcolor": "white",
            "gridwidth": 2,
            "linecolor": "white",
            "showbackground": true,
            "ticks": "",
            "zerolinecolor": "white"
           },
           "yaxis": {
            "backgroundcolor": "#E5ECF6",
            "gridcolor": "white",
            "gridwidth": 2,
            "linecolor": "white",
            "showbackground": true,
            "ticks": "",
            "zerolinecolor": "white"
           },
           "zaxis": {
            "backgroundcolor": "#E5ECF6",
            "gridcolor": "white",
            "gridwidth": 2,
            "linecolor": "white",
            "showbackground": true,
            "ticks": "",
            "zerolinecolor": "white"
           }
          },
          "shapedefaults": {
           "line": {
            "color": "#2a3f5f"
           }
          },
          "ternary": {
           "aaxis": {
            "gridcolor": "white",
            "linecolor": "white",
            "ticks": ""
           },
           "baxis": {
            "gridcolor": "white",
            "linecolor": "white",
            "ticks": ""
           },
           "bgcolor": "#E5ECF6",
           "caxis": {
            "gridcolor": "white",
            "linecolor": "white",
            "ticks": ""
           }
          },
          "title": {
           "x": 0.05
          },
          "xaxis": {
           "automargin": true,
           "gridcolor": "white",
           "linecolor": "white",
           "ticks": "",
           "title": {
            "standoff": 15
           },
           "zerolinecolor": "white",
           "zerolinewidth": 2
          },
          "yaxis": {
           "automargin": true,
           "gridcolor": "white",
           "linecolor": "white",
           "ticks": "",
           "title": {
            "standoff": 15
           },
           "zerolinecolor": "white",
           "zerolinewidth": 2
          }
         }
        },
        "title": {
         "text": "<b>Red Eléctrica — Chile</b>"
        },
        "width": 700
       }
      }
     },
     "metadata": {},
     "output_type": "display_data"
    }
   ],
   "source": [
    "import pandas as pd\n",
    "\n",
    "rows = []\n",
    "for nod in db.GetChildMembers(collections['SystemNodes'], 'SEN'):\n",
    "    # En tu entorno R08 esto funciona:\n",
    "    lat = db.GetAttributeValue(classes['Node'], nod, attributes['Node.Latitude'], 0)[1]\n",
    "    lon = db.GetAttributeValue(classes['Node'], nod, attributes['Node.Longitude'], 0)[1]\n",
    "    rows.append({\"Nodo\": nod, \"Lat\": float(lat) if lat is not None else None,\n",
    "                          \"Lon\": float(lon) if lon is not None else None})\n",
    "\n",
    "df_nodes = pd.DataFrame(rows).drop_duplicates(subset=[\"Nodo\"]).reset_index(drop=True)\n",
    "print(\"df_nodes:\", df_nodes.shape)\n",
    "print(df_nodes.head())\n",
    "\n",
    "# ─────────────────────────────────────────────────────────────\n",
    "# 2) LÍNEAS con NodoFrom / NodoTo  → df_lines: [Linea, NodoFrom, NodoTo]\n",
    "# ─────────────────────────────────────────────────────────────\n",
    "mships_from = db.GetMemberships(collections['LineNodeFrom'])  # \"(Linea) (NodoFrom)\"\n",
    "mships_to   = db.GetMemberships(collections['LineNodeTo'])    # \"(Linea) (NodoTo)\"\n",
    "\n",
    "def parse_mships_line(mships, col_nodo):\n",
    "    rows = []\n",
    "    for mem in mships:\n",
    "        op1 = mem.find('('); cp1 = mem.find(')')\n",
    "        op2 = mem.find('(', op1+1); cp2 = mem.find(')', op2+1)\n",
    "        linea = mem[op1+2:cp1-1]\n",
    "        nodo  = mem[op2+2:cp2-1]\n",
    "        rows.append({\"Linea\": linea, col_nodo: nodo})\n",
    "    return pd.DataFrame(rows)\n",
    "\n",
    "df_from = parse_mships_line(mships_from, \"NodoFrom\")\n",
    "df_to   = parse_mships_line(mships_to,   \"NodoTo\")\n",
    "\n",
    "df_lines = (\n",
    "    pd.merge(df_from, df_to, on=\"Linea\", how=\"outer\")\n",
    "      .dropna(subset=[\"NodoFrom\",\"NodoTo\"], how=\"any\")        # opcional: solo líneas completas\n",
    "      .drop_duplicates(subset=[\"Linea\",\"NodoFrom\",\"NodoTo\"])\n",
    "      .reset_index(drop=True)\n",
    ")\n",
    "\n",
    "print(\"df_lines:\", df_lines.shape)\n",
    "print(df_lines.head())\n",
    "\n",
    "# ─────────────────────────────────────────────────────────────\n",
    "# (Opcional) verificaciones rápidas para graficar\n",
    "# ─────────────────────────────────────────────────────────────\n",
    "# ¿Qué líneas tienen algún extremo sin coordenadas?\n",
    "faltantes = (\n",
    "    df_lines\n",
    "    .merge(df_nodes.rename(columns={\"Nodo\":\"NodoFrom\",\"Lat\":\"LatFrom\",\"Lon\":\"LonFrom\"}), on=\"NodoFrom\", how=\"left\")\n",
    "    .merge(df_nodes.rename(columns={\"Nodo\":\"NodoTo\",\"Lat\":\"LatTo\",\"Lon\":\"LonTo\"}), on=\"NodoTo\", how=\"left\")\n",
    "    .query(\"LatFrom.isna() or LonFrom.isna() or LatTo.isna() or LonTo.isna()\")\n",
    ")\n",
    "print(\"Líneas con extremos sin coordenadas:\", len(faltantes))\n",
    "\n",
    "import plotly.graph_objects as go\n",
    "\n",
    "# === 1) Parámetros (Chile) ===\n",
    "LAT_MIN, LAT_MAX = -56, -17\n",
    "LON_MIN, LON_MAX = -76, -66\n",
    "\n",
    "# === 2) Unir líneas con coordenadas de nodos ===\n",
    "df_from_xy = df_lines.merge(\n",
    "    df_nodes.rename(columns={\"Nodo\": \"NodoFrom\", \"Lat\": \"LatFrom\", \"Lon\": \"LonFrom\"}),\n",
    "    on=\"NodoFrom\", how=\"left\"\n",
    ")\n",
    "df_lines_xy = df_from_xy.merge(\n",
    "    df_nodes.rename(columns={\"Nodo\": \"NodoTo\", \"Lat\": \"LatTo\", \"Lon\": \"LonTo\"}),\n",
    "    on=\"NodoTo\", how=\"left\"\n",
    ").dropna(subset=[\"LatFrom\",\"LonFrom\",\"LatTo\",\"LonTo\"])\n",
    "\n",
    "# (opcional) filtra a límites de Chile\n",
    "df_lines_xy = df_lines_xy.query(\n",
    "    \"@LAT_MIN <= LatFrom <= @LAT_MAX and @LON_MIN <= LonFrom <= @LON_MAX and \\\n",
    "     @LAT_MIN <= LatTo   <= @LAT_MAX and @LON_MIN <= LonTo   <= @LON_MAX\"\n",
    ").reset_index(drop=True)\n",
    "\n",
    "df_nodes_cl = df_nodes.dropna().query(\n",
    "    \"@LAT_MIN <= Lat <= @LAT_MAX and @LON_MIN <= Lon <= @LON_MAX\"\n",
    ").reset_index(drop=True)\n",
    "\n",
    "# === 3) Figura ===\n",
    "fig = go.Figure()\n",
    "\n",
    "# Líneas (mismo color sobrio; sin nombres repetidos en leyenda)\n",
    "for _, row in df_lines_xy.iterrows():\n",
    "    fig.add_trace(go.Scattergeo(\n",
    "        lon=[row[\"LonFrom\"], row[\"LonTo\"]],\n",
    "        lat=[row[\"LatFrom\"], row[\"LatTo\"]],\n",
    "        mode=\"lines\",\n",
    "        line=dict(width=2, color=\"#B0B6BE\"),        # gris sutil\n",
    "        hovertemplate=(\n",
    "            \"<b>%{customdata[0]}</b><br>\"\n",
    "            \"From: %{customdata[1]}<br>\"\n",
    "            \"To: %{customdata[2]}<extra></extra>\"\n",
    "        ),\n",
    "        customdata=[[row[\"Linea\"], row[\"NodoFrom\"], row[\"NodoTo\"]]],\n",
    "        showlegend=False,                            # evita leyenda gigante\n",
    "    ))\n",
    "\n",
    "# Nodos (solo puntos, sin texto encima)\n",
    "fig.add_trace(go.Scattergeo(\n",
    "    lon=df_nodes_cl[\"Lon\"],\n",
    "    lat=df_nodes_cl[\"Lat\"],\n",
    "    text=df_nodes_cl[\"Nodo\"],\n",
    "    mode=\"markers\",\n",
    "    marker=dict(\n",
    "        size=5,\n",
    "        color=\"#1F6FEB\",        # azul sobrio\n",
    "        line=dict(width=0.5, color=\"white\"),\n",
    "        opacity=0.95\n",
    "    ),\n",
    "    hovertemplate=\"Nodo: %{text}<br>Lat: %{lat:.4f}<br>Lon: %{lon:.4f}<extra></extra>\",\n",
    "    showlegend=False,\n",
    "))\n",
    "\n",
    "# === 4) Estilo del mapa ===\n",
    "fig.update_layout(\n",
    "    title=\"<b>Red Eléctrica — Chile</b>\",\n",
    "    geo=dict(\n",
    "        projection_type=\"mercator\",\n",
    "        showland=True, landcolor=\"#F8F9FA\",\n",
    "        showcountries=True, countrycolor=\"#A3AAB2\",\n",
    "        coastlinecolor=\"#A3AAB2\",\n",
    "        lakecolor=\"#E8F2FF\", showlakes=True,\n",
    "        lonaxis=dict(range=[LON_MIN, LON_MAX]),\n",
    "        lataxis=dict(range=[LAT_MIN, LAT_MAX]),\n",
    "        fitbounds=\"locations\"\n",
    "    ),\n",
    "    margin=dict(l=20, r=20, t=60, b=20),\n",
    "    height=1000, width=700,     # más grande y proporcionado\n",
    ")\n",
    "\n",
    "fig.show()\n"
   ]
  }
 ],
 "metadata": {
  "kernelspec": {
   "display_name": "base",
   "language": "python",
   "name": "python3"
  },
  "language_info": {
   "codemirror_mode": {
    "name": "ipython",
    "version": 3
   },
   "file_extension": ".py",
   "mimetype": "text/x-python",
   "name": "python",
   "nbconvert_exporter": "python",
   "pygments_lexer": "ipython3",
   "version": "3.12.4"
  }
 },
 "nbformat": 4,
 "nbformat_minor": 5
}
